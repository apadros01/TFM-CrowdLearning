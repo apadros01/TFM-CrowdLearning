{
  "nbformat": 4,
  "nbformat_minor": 0,
  "metadata": {
    "colab": {
      "name": "extern_classes.ipynb",
      "provenance": [],
      "collapsed_sections": []
    },
    "kernelspec": {
      "name": "python3",
      "display_name": "Python 3"
    },
    "language_info": {
      "name": "python"
    }
  },
  "cells": [
    {
      "cell_type": "code",
      "metadata": {
        "id": "MdyivPSuKnRh",
        "colab": {
          "base_uri": "https://localhost:8080/"
        },
        "outputId": "7f60dbeb-0c8f-49a1-c29e-be1a93b1c21c"
      },
      "source": [
        "pip install arviz"
      ],
      "execution_count": null,
      "outputs": [
        {
          "output_type": "stream",
          "text": [
            "Collecting arviz\n",
            "\u001b[?25l  Downloading https://files.pythonhosted.org/packages/e2/a8/e2ad120b06822e29e0d185bed1ae300576f3f61f97fceb6933ba6f6accf7/arviz-0.11.2-py3-none-any.whl (1.6MB)\n",
            "\u001b[K     |████████████████████████████████| 1.6MB 3.8MB/s \n",
            "\u001b[?25hRequirement already satisfied: matplotlib>=3.0 in /usr/local/lib/python3.7/dist-packages (from arviz) (3.2.2)\n",
            "Collecting netcdf4\n",
            "\u001b[?25l  Downloading https://files.pythonhosted.org/packages/37/56/f65978898fb8e7e5df9c67531d86eb24eb04938deae3b61dbcce12c98212/netCDF4-1.5.6-cp37-cp37m-manylinux2014_x86_64.whl (4.7MB)\n",
            "\u001b[K     |████████████████████████████████| 4.7MB 27.8MB/s \n",
            "\u001b[?25hRequirement already satisfied: packaging in /usr/local/lib/python3.7/dist-packages (from arviz) (20.9)\n",
            "Requirement already satisfied: pandas>=0.23 in /usr/local/lib/python3.7/dist-packages (from arviz) (1.1.5)\n",
            "Requirement already satisfied: numpy>=1.12 in /usr/local/lib/python3.7/dist-packages (from arviz) (1.19.5)\n",
            "Requirement already satisfied: typing-extensions<4,>=3.7.4.3 in /usr/local/lib/python3.7/dist-packages (from arviz) (3.7.4.3)\n",
            "Requirement already satisfied: setuptools>=38.4 in /usr/local/lib/python3.7/dist-packages (from arviz) (56.0.0)\n",
            "Collecting xarray>=0.16.1\n",
            "\u001b[?25l  Downloading https://files.pythonhosted.org/packages/a5/19/debc1f470b8b9e2949da221663c8102ed6728f4d38dc964085ca43de1428/xarray-0.17.0-py3-none-any.whl (759kB)\n",
            "\u001b[K     |████████████████████████████████| 768kB 35.9MB/s \n",
            "\u001b[?25hRequirement already satisfied: scipy>=0.19 in /usr/local/lib/python3.7/dist-packages (from arviz) (1.4.1)\n",
            "Requirement already satisfied: python-dateutil>=2.1 in /usr/local/lib/python3.7/dist-packages (from matplotlib>=3.0->arviz) (2.8.1)\n",
            "Requirement already satisfied: cycler>=0.10 in /usr/local/lib/python3.7/dist-packages (from matplotlib>=3.0->arviz) (0.10.0)\n",
            "Requirement already satisfied: pyparsing!=2.0.4,!=2.1.2,!=2.1.6,>=2.0.1 in /usr/local/lib/python3.7/dist-packages (from matplotlib>=3.0->arviz) (2.4.7)\n",
            "Requirement already satisfied: kiwisolver>=1.0.1 in /usr/local/lib/python3.7/dist-packages (from matplotlib>=3.0->arviz) (1.3.1)\n",
            "Collecting cftime\n",
            "\u001b[?25l  Downloading https://files.pythonhosted.org/packages/41/e0/3e120cca16571c5ee3b35f1ed432c2aae5dc91e2b789e8b9c3a70e721ea0/cftime-1.4.1-cp37-cp37m-manylinux2014_x86_64.whl (313kB)\n",
            "\u001b[K     |████████████████████████████████| 317kB 34.1MB/s \n",
            "\u001b[?25hRequirement already satisfied: pytz>=2017.2 in /usr/local/lib/python3.7/dist-packages (from pandas>=0.23->arviz) (2018.9)\n",
            "Requirement already satisfied: six>=1.5 in /usr/local/lib/python3.7/dist-packages (from python-dateutil>=2.1->matplotlib>=3.0->arviz) (1.15.0)\n",
            "Installing collected packages: cftime, netcdf4, xarray, arviz\n",
            "  Found existing installation: xarray 0.15.1\n",
            "    Uninstalling xarray-0.15.1:\n",
            "      Successfully uninstalled xarray-0.15.1\n",
            "Successfully installed arviz-0.11.2 cftime-1.4.1 netcdf4-1.5.6 xarray-0.17.0\n"
          ],
          "name": "stdout"
        }
      ]
    },
    {
      "cell_type": "code",
      "metadata": {
        "id": "qeNtkXow2caJ"
      },
      "source": [
        "import pystan\n",
        "import numpy as np\n",
        "import matplotlib.pyplot as plt\n",
        "import arviz\n",
        "import pickle\n",
        "import cmdstanpy\n",
        "import json\n",
        "import pandas as pd"
      ],
      "execution_count": null,
      "outputs": []
    },
    {
      "cell_type": "code",
      "metadata": {
        "id": "JwLIG_Fx2cU_"
      },
      "source": [
        "with open('/content/drive/MyDrive/TFM-Crowd learning/multinomial.json') as json_file:\n",
        "    data = json.load(json_file)"
      ],
      "execution_count": null,
      "outputs": []
    },
    {
      "cell_type": "code",
      "metadata": {
        "id": "Mst1cH2Q2cSk",
        "colab": {
          "base_uri": "https://localhost:8080/",
          "height": 402
        },
        "outputId": "dfddf817-f085-4500-80cc-e50bbe20aaf8"
      },
      "source": [
        "dades={'Tasca': data['t_A'], 'Worker': data['w_A'], 'Anotació': data['ann'] }\n",
        "df = pd.DataFrame(data=dades)\n",
        "df"
      ],
      "execution_count": null,
      "outputs": [
        {
          "output_type": "execute_result",
          "data": {
            "text/html": [
              "<div>\n",
              "<style scoped>\n",
              "    .dataframe tbody tr th:only-of-type {\n",
              "        vertical-align: middle;\n",
              "    }\n",
              "\n",
              "    .dataframe tbody tr th {\n",
              "        vertical-align: top;\n",
              "    }\n",
              "\n",
              "    .dataframe thead th {\n",
              "        text-align: right;\n",
              "    }\n",
              "</style>\n",
              "<table border=\"1\" class=\"dataframe\">\n",
              "  <thead>\n",
              "    <tr style=\"text-align: right;\">\n",
              "      <th></th>\n",
              "      <th>Tasca</th>\n",
              "      <th>Worker</th>\n",
              "      <th>Anotació</th>\n",
              "    </tr>\n",
              "  </thead>\n",
              "  <tbody>\n",
              "    <tr>\n",
              "      <th>0</th>\n",
              "      <td>0</td>\n",
              "      <td>14</td>\n",
              "      <td>2</td>\n",
              "    </tr>\n",
              "    <tr>\n",
              "      <th>1</th>\n",
              "      <td>0</td>\n",
              "      <td>13</td>\n",
              "      <td>2</td>\n",
              "    </tr>\n",
              "    <tr>\n",
              "      <th>2</th>\n",
              "      <td>0</td>\n",
              "      <td>4</td>\n",
              "      <td>2</td>\n",
              "    </tr>\n",
              "    <tr>\n",
              "      <th>3</th>\n",
              "      <td>0</td>\n",
              "      <td>2</td>\n",
              "      <td>2</td>\n",
              "    </tr>\n",
              "    <tr>\n",
              "      <th>4</th>\n",
              "      <td>0</td>\n",
              "      <td>7</td>\n",
              "      <td>1</td>\n",
              "    </tr>\n",
              "    <tr>\n",
              "      <th>...</th>\n",
              "      <td>...</td>\n",
              "      <td>...</td>\n",
              "      <td>...</td>\n",
              "    </tr>\n",
              "    <tr>\n",
              "      <th>9995</th>\n",
              "      <td>999</td>\n",
              "      <td>17</td>\n",
              "      <td>2</td>\n",
              "    </tr>\n",
              "    <tr>\n",
              "      <th>9996</th>\n",
              "      <td>999</td>\n",
              "      <td>2</td>\n",
              "      <td>2</td>\n",
              "    </tr>\n",
              "    <tr>\n",
              "      <th>9997</th>\n",
              "      <td>999</td>\n",
              "      <td>13</td>\n",
              "      <td>2</td>\n",
              "    </tr>\n",
              "    <tr>\n",
              "      <th>9998</th>\n",
              "      <td>999</td>\n",
              "      <td>14</td>\n",
              "      <td>2</td>\n",
              "    </tr>\n",
              "    <tr>\n",
              "      <th>9999</th>\n",
              "      <td>999</td>\n",
              "      <td>15</td>\n",
              "      <td>2</td>\n",
              "    </tr>\n",
              "  </tbody>\n",
              "</table>\n",
              "<p>10000 rows × 3 columns</p>\n",
              "</div>"
            ],
            "text/plain": [
              "      Tasca  Worker  Anotació\n",
              "0         0      14         2\n",
              "1         0      13         2\n",
              "2         0       4         2\n",
              "3         0       2         2\n",
              "4         0       7         1\n",
              "...     ...     ...       ...\n",
              "9995    999      17         2\n",
              "9996    999       2         2\n",
              "9997    999      13         2\n",
              "9998    999      14         2\n",
              "9999    999      15         2\n",
              "\n",
              "[10000 rows x 3 columns]"
            ]
          },
          "metadata": {
            "tags": []
          },
          "execution_count": 40
        }
      ]
    },
    {
      "cell_type": "code",
      "metadata": {
        "id": "1emDV-Il2cPt",
        "colab": {
          "base_uri": "https://localhost:8080/"
        },
        "outputId": "875e9fff-4fe7-4086-8eac-fa367b847ec7"
      },
      "source": [
        "sm_ext = pystan.StanModel(file='/content/drive/MyDrive/TFM-Crowd learning/Fitxers STAN/extern_classes.stan')\n"
      ],
      "execution_count": null,
      "outputs": [
        {
          "output_type": "stream",
          "text": [
            "INFO:pystan:COMPILING THE C++ CODE FOR MODEL anon_model_5e4939feb462bdcc96651d9a4509501e NOW.\n"
          ],
          "name": "stderr"
        }
      ]
    },
    {
      "cell_type": "code",
      "metadata": {
        "id": "eI5s-ctG2cM-"
      },
      "source": [
        "w = len(np.unique(df['Worker']))\n",
        "t = len(np.unique(df['Tasca']))\n",
        "a = len(df['Anotació'])\n",
        "k = len(np.unique(df['Anotació']))\n",
        "num_classes_externes = 1\n",
        "k2=k+num_classes_externes\n",
        "t_A = np.array(df['Tasca'])+1\n",
        "w_A = np.array(df['Worker'])+1\n",
        "ann = np.array(df['Anotació'])+1\n",
        "tau_prior = np.array([1,1,1])\n",
        "pi_prior = np.ones((k,k2))\n",
        "\n",
        "dades_sm_ext = {'w':w,'t':t,'a':a,'k':k,'k2':k2,'t_A':t_A,'w_A':w_A,'ann':ann,'tau_prior':tau_prior,'pi_prior':pi_prior} "
      ],
      "execution_count": null,
      "outputs": []
    },
    {
      "cell_type": "code",
      "metadata": {
        "id": "PKlP9b20BQsT"
      },
      "source": [
        "inicial = np.array([[0.91,0.03,0.03,0.03],\n",
        "                    [0.03,0.91,0.03,0.03],\n",
        "                    [0.03,0.03,0.91,0.03]])"
      ],
      "execution_count": null,
      "outputs": []
    },
    {
      "cell_type": "code",
      "metadata": {
        "id": "_9BEUtCJ2cKa"
      },
      "source": [
        "pi_ini = np.zeros((w,k,k2))\n",
        "for yw in range(w):\n",
        "  pi_ini[yw] = inicial\n",
        "dades_inicials_gen = {'pi':pi_ini}"
      ],
      "execution_count": null,
      "outputs": []
    },
    {
      "cell_type": "code",
      "metadata": {
        "id": "5NdUyejb2cHw",
        "colab": {
          "base_uri": "https://localhost:8080/"
        },
        "outputId": "639d1d96-c398-4012-ed0b-e66e36067912"
      },
      "source": [
        "optim = sm_ext.optimizing(data=dades_sm_ext,init=dades_inicials_gen)\n",
        "optim"
      ],
      "execution_count": null,
      "outputs": [
        {
          "output_type": "execute_result",
          "data": {
            "text/plain": [
              "OrderedDict([('tau', array([0.11252257, 0.29708451, 0.59039292])),\n",
              "             ('pi',\n",
              "              array([[[8.50347658e-01, 7.91487509e-02, 7.05035912e-02, 8.36414271e-14],\n",
              "                      [2.19097745e-01, 5.88714383e-01, 1.92187750e-01, 1.22642694e-07],\n",
              "                      [1.47658250e-01, 9.12999941e-02, 7.61041746e-01, 9.31813093e-09]],\n",
              "              \n",
              "                     [[6.54470920e-01, 1.26597066e-01, 2.18931987e-01, 2.75059208e-08],\n",
              "                      [3.07690740e-01, 5.17229727e-01, 1.75079396e-01, 1.36806753e-07],\n",
              "                      [1.30578244e-01, 1.10735663e-01, 7.58686081e-01, 1.23414184e-08]],\n",
              "              \n",
              "                     [[6.24035079e-01, 8.48555505e-02, 2.91109112e-01, 2.58758061e-07],\n",
              "                      [2.13787591e-01, 6.02157076e-01, 1.84055198e-01, 1.34893658e-07],\n",
              "                      [7.40944991e-02, 1.08489483e-01, 8.17416001e-01, 1.70793957e-08]],\n",
              "              \n",
              "                     [[6.92333222e-01, 9.32334797e-02, 2.14433281e-01, 1.72698594e-08],\n",
              "                      [1.97455764e-01, 6.34241350e-01, 1.68302727e-01, 1.58646523e-07],\n",
              "                      [9.57858841e-02, 1.38253172e-01, 7.65960934e-01, 9.99925065e-09]],\n",
              "              \n",
              "                     [[5.55040671e-01, 1.62680822e-01, 2.82278388e-01, 1.18928570e-07],\n",
              "                      [2.22649472e-01, 6.30635102e-01, 1.46715289e-01, 1.37128187e-07],\n",
              "                      [8.05883352e-02, 1.22613372e-01, 7.96798279e-01, 1.32902651e-08]],\n",
              "              \n",
              "                     [[5.95726887e-01, 9.80923540e-02, 3.06180561e-01, 1.98306427e-07],\n",
              "                      [2.00572388e-01, 5.77401476e-01, 2.22026014e-01, 1.22320649e-07],\n",
              "                      [9.02013776e-02, 9.38102034e-02, 8.15988407e-01, 1.23020543e-08]],\n",
              "              \n",
              "                     [[6.43491874e-01, 1.51370496e-01, 2.05137567e-01, 6.21587497e-08],\n",
              "                      [1.69329902e-01, 6.04928333e-01, 2.25741637e-01, 1.28292421e-07],\n",
              "                      [9.37739102e-02, 8.70940409e-02, 8.19132037e-01, 1.20256565e-08]],\n",
              "              \n",
              "                     [[7.02199167e-01, 7.98361695e-02, 2.17964652e-01, 1.14365810e-08],\n",
              "                      [2.47570499e-01, 5.48369552e-01, 2.04059809e-01, 1.40269587e-07],\n",
              "                      [6.79187350e-02, 1.09671253e-01, 8.22409998e-01, 1.35304618e-08]],\n",
              "              \n",
              "                     [[7.03707188e-01, 1.29808349e-01, 1.66484462e-01, 6.09593181e-10],\n",
              "                      [1.90354731e-01, 6.12220195e-01, 1.97424964e-01, 1.09594394e-07],\n",
              "                      [1.03360984e-01, 7.13873797e-02, 8.25251620e-01, 1.69156469e-08]],\n",
              "              \n",
              "                     [[5.92008662e-01, 2.44217556e-01, 1.63773779e-01, 1.97971758e-09],\n",
              "                      [2.56477924e-01, 5.30224475e-01, 2.13297476e-01, 1.25332266e-07],\n",
              "                      [1.10727296e-01, 9.56021941e-02, 7.93670496e-01, 1.36165220e-08]],\n",
              "              \n",
              "                     [[8.13046532e-01, 4.03243526e-02, 1.46629115e-01, 9.97082972e-12],\n",
              "                      [1.95017545e-01, 6.40851653e-01, 1.64130676e-01, 1.26130693e-07],\n",
              "                      [9.01401324e-02, 1.24788984e-01, 7.85070871e-01, 1.23107461e-08]],\n",
              "              \n",
              "                     [[6.02967012e-01, 1.07036117e-01, 2.89996685e-01, 1.85675007e-07],\n",
              "                      [2.08189667e-01, 5.64332473e-01, 2.27477720e-01, 1.40015562e-07],\n",
              "                      [8.58618830e-02, 1.07088931e-01, 8.07049174e-01, 1.19947196e-08]],\n",
              "              \n",
              "                     [[7.30736774e-01, 1.21998560e-01, 1.47264663e-01, 2.61818872e-09],\n",
              "                      [2.07075972e-01, 6.26264532e-01, 1.66659358e-01, 1.38735448e-07],\n",
              "                      [1.05631344e-01, 1.02010501e-01, 7.92358144e-01, 1.06549417e-08]],\n",
              "              \n",
              "                     [[7.16221497e-01, 1.41206327e-01, 1.42572175e-01, 9.64509028e-12],\n",
              "                      [2.09692384e-01, 6.20339985e-01, 1.69967486e-01, 1.44012799e-07],\n",
              "                      [4.10375259e-02, 9.87672141e-02, 8.60195245e-01, 1.50802234e-08]],\n",
              "              \n",
              "                     [[8.29003347e-01, 3.58571316e-02, 1.35139521e-01, 1.47551971e-11],\n",
              "                      [1.87056106e-01, 6.26213222e-01, 1.86730534e-01, 1.37460364e-07],\n",
              "                      [9.61291120e-02, 7.80998216e-02, 8.25771049e-01, 1.70254633e-08]],\n",
              "              \n",
              "                     [[6.01006207e-01, 7.86950650e-02, 3.20298514e-01, 2.14384379e-07],\n",
              "                      [2.42470675e-01, 6.00615369e-01, 1.56913829e-01, 1.27217061e-07],\n",
              "                      [7.37669309e-02, 1.11943831e-01, 8.14289223e-01, 1.45601425e-08]],\n",
              "              \n",
              "                     [[7.15641925e-01, 6.42219904e-02, 2.20136065e-01, 1.97131089e-08],\n",
              "                      [2.16570550e-01, 6.36661634e-01, 1.46767682e-01, 1.33717336e-07],\n",
              "                      [9.84167595e-02, 1.15242304e-01, 7.86340927e-01, 8.97117380e-09]],\n",
              "              \n",
              "                     [[7.23693415e-01, 8.66189507e-02, 1.89687635e-01, 1.50817803e-10],\n",
              "                      [2.62590531e-01, 5.31117858e-01, 2.06291471e-01, 1.40017359e-07],\n",
              "                      [1.01622092e-01, 1.20831105e-01, 7.77546791e-01, 1.22189416e-08]],\n",
              "              \n",
              "                     [[7.28280544e-01, 3.34359359e-02, 2.38283488e-01, 3.20137174e-08],\n",
              "                      [2.10502743e-01, 5.94562896e-01, 1.94934234e-01, 1.26754426e-07],\n",
              "                      [8.76462565e-02, 1.11628492e-01, 8.00725238e-01, 1.36166793e-08]],\n",
              "              \n",
              "                     [[7.18878529e-01, 7.78124801e-02, 2.03308991e-01, 1.39372708e-10],\n",
              "                      [2.27116379e-01, 5.85932425e-01, 1.86951071e-01, 1.24699144e-07],\n",
              "                      [1.02613664e-01, 1.03728840e-01, 7.93657482e-01, 1.35207726e-08]]])),\n",
              "             ('log_p_t_C', array([[-19.24106562, -17.92332911,  -4.65966033],\n",
              "                     [ -9.26019601, -15.2086593 , -21.3911267 ],\n",
              "                     [-20.01903208, -15.25291711,  -8.69515563],\n",
              "                     ...,\n",
              "                     [-24.68811233,  -8.7464471 , -20.46302369],\n",
              "                     [-17.56272393, -18.13069529,  -4.92912636],\n",
              "                     [-18.3129982 , -17.78515403,  -2.645711  ]])),\n",
              "             ('t_C', array([[4.64916745e-07, 1.73644439e-06, 9.99997799e-01],\n",
              "                     [9.97391583e-01, 2.60304044e-03, 5.37612603e-06],\n",
              "                     [1.20637367e-05, 1.41703078e-03, 9.98570905e-01],\n",
              "                     ...,\n",
              "                     [1.19294155e-07, 9.99991723e-01, 8.15740169e-06],\n",
              "                     [3.26058909e-06, 1.84769057e-06, 9.99994892e-01],\n",
              "                     [1.56957995e-07, 2.66086752e-07, 9.99999577e-01]]))])"
            ]
          },
          "metadata": {
            "tags": []
          },
          "execution_count": 44
        }
      ]
    },
    {
      "cell_type": "code",
      "metadata": {
        "id": "Gh7TBKDD2cFP",
        "colab": {
          "base_uri": "https://localhost:8080/"
        },
        "outputId": "ba032003-79c1-4258-9d1b-dfff9ae23f1a"
      },
      "source": [
        "extern_indexs = np.random.randint(0,1000,size=150)\n",
        "extern_indexs"
      ],
      "execution_count": null,
      "outputs": [
        {
          "output_type": "execute_result",
          "data": {
            "text/plain": [
              "array([ 56, 712, 707, 395, 684, 638, 492, 492, 849, 803, 670, 325, 659,\n",
              "       746, 864, 789, 737, 276, 942, 240, 313, 738, 595, 632,  81, 178,\n",
              "       428, 133, 329, 830, 692, 574, 586,  64, 990, 361, 363, 683,  83,\n",
              "       113,  77, 840,  76,  35, 708, 236, 428, 995, 838, 503, 668, 330,\n",
              "        47, 369, 283, 759, 607, 415, 979, 164, 525, 491,  41, 887, 671,\n",
              "       111, 725,  31, 774, 187, 277, 141, 553, 909, 178, 757, 411, 349,\n",
              "       466, 607, 753, 602, 577, 827, 710, 227, 170,   6, 736, 585, 604,\n",
              "       573, 229, 610, 606, 346, 550, 982, 993, 423, 403, 999, 800,  51,\n",
              "       413, 355, 678, 754, 513, 202, 585, 818, 748, 857, 585, 768, 350,\n",
              "        40, 727, 798, 803, 550, 956, 241, 914, 979, 404,  31, 492, 906,\n",
              "       375, 837, 243,  69, 781,  35, 880, 942, 705, 128, 793, 270, 808,\n",
              "       938, 325, 306, 943, 836, 133, 948])"
            ]
          },
          "metadata": {
            "tags": []
          },
          "execution_count": 45
        }
      ]
    },
    {
      "cell_type": "code",
      "metadata": {
        "id": "XNKSx3Ml2b__"
      },
      "source": [
        "df_modified = df.copy()\n",
        "anotations = df_modified['Anotació'].values\n",
        "for index in extern_indexs:\n",
        "  anotations[index] = 3\n",
        " "
      ],
      "execution_count": null,
      "outputs": []
    },
    {
      "cell_type": "code",
      "metadata": {
        "id": "Is8uchBT2b9T",
        "colab": {
          "base_uri": "https://localhost:8080/",
          "height": 402
        },
        "outputId": "5cf822e0-5209-4a76-96f6-4998cdee6f8f"
      },
      "source": [
        "df_modified = df_modified.drop(columns= ['Anotació'])\n",
        "df_modified['Anotació'] = anotations\n",
        "df_modified"
      ],
      "execution_count": null,
      "outputs": [
        {
          "output_type": "execute_result",
          "data": {
            "text/html": [
              "<div>\n",
              "<style scoped>\n",
              "    .dataframe tbody tr th:only-of-type {\n",
              "        vertical-align: middle;\n",
              "    }\n",
              "\n",
              "    .dataframe tbody tr th {\n",
              "        vertical-align: top;\n",
              "    }\n",
              "\n",
              "    .dataframe thead th {\n",
              "        text-align: right;\n",
              "    }\n",
              "</style>\n",
              "<table border=\"1\" class=\"dataframe\">\n",
              "  <thead>\n",
              "    <tr style=\"text-align: right;\">\n",
              "      <th></th>\n",
              "      <th>Tasca</th>\n",
              "      <th>Worker</th>\n",
              "      <th>Anotació</th>\n",
              "    </tr>\n",
              "  </thead>\n",
              "  <tbody>\n",
              "    <tr>\n",
              "      <th>0</th>\n",
              "      <td>0</td>\n",
              "      <td>14</td>\n",
              "      <td>2</td>\n",
              "    </tr>\n",
              "    <tr>\n",
              "      <th>1</th>\n",
              "      <td>0</td>\n",
              "      <td>13</td>\n",
              "      <td>2</td>\n",
              "    </tr>\n",
              "    <tr>\n",
              "      <th>2</th>\n",
              "      <td>0</td>\n",
              "      <td>4</td>\n",
              "      <td>2</td>\n",
              "    </tr>\n",
              "    <tr>\n",
              "      <th>3</th>\n",
              "      <td>0</td>\n",
              "      <td>2</td>\n",
              "      <td>2</td>\n",
              "    </tr>\n",
              "    <tr>\n",
              "      <th>4</th>\n",
              "      <td>0</td>\n",
              "      <td>7</td>\n",
              "      <td>1</td>\n",
              "    </tr>\n",
              "    <tr>\n",
              "      <th>...</th>\n",
              "      <td>...</td>\n",
              "      <td>...</td>\n",
              "      <td>...</td>\n",
              "    </tr>\n",
              "    <tr>\n",
              "      <th>9995</th>\n",
              "      <td>999</td>\n",
              "      <td>17</td>\n",
              "      <td>2</td>\n",
              "    </tr>\n",
              "    <tr>\n",
              "      <th>9996</th>\n",
              "      <td>999</td>\n",
              "      <td>2</td>\n",
              "      <td>2</td>\n",
              "    </tr>\n",
              "    <tr>\n",
              "      <th>9997</th>\n",
              "      <td>999</td>\n",
              "      <td>13</td>\n",
              "      <td>2</td>\n",
              "    </tr>\n",
              "    <tr>\n",
              "      <th>9998</th>\n",
              "      <td>999</td>\n",
              "      <td>14</td>\n",
              "      <td>2</td>\n",
              "    </tr>\n",
              "    <tr>\n",
              "      <th>9999</th>\n",
              "      <td>999</td>\n",
              "      <td>15</td>\n",
              "      <td>2</td>\n",
              "    </tr>\n",
              "  </tbody>\n",
              "</table>\n",
              "<p>10000 rows × 3 columns</p>\n",
              "</div>"
            ],
            "text/plain": [
              "      Tasca  Worker  Anotació\n",
              "0         0      14         2\n",
              "1         0      13         2\n",
              "2         0       4         2\n",
              "3         0       2         2\n",
              "4         0       7         1\n",
              "...     ...     ...       ...\n",
              "9995    999      17         2\n",
              "9996    999       2         2\n",
              "9997    999      13         2\n",
              "9998    999      14         2\n",
              "9999    999      15         2\n",
              "\n",
              "[10000 rows x 3 columns]"
            ]
          },
          "metadata": {
            "tags": []
          },
          "execution_count": 47
        }
      ]
    },
    {
      "cell_type": "code",
      "metadata": {
        "id": "wYxk4vx5j0zk"
      },
      "source": [
        "w = len(np.unique(df_modified['Worker']))\n",
        "t = len(np.unique(df_modified['Tasca']))\n",
        "a = len(df_modified['Anotació'])\n",
        "k = 3\n",
        "num_classes_externes = 1\n",
        "k2=k+num_classes_externes\n",
        "t_A = np.array(df_modified['Tasca'])+1\n",
        "w_A = np.array(df_modified['Worker'])+1\n",
        "ann = np.array(df_modified['Anotació'])+1\n",
        "tau_prior = np.array([1,1,1])\n",
        "pi_prior = np.ones((k,k2))\n",
        "\n",
        "dades_sm_ext_modified = {'w':w,'t':t,'a':a,'k':k,'k2':k2,'t_A':t_A,'w_A':w_A,'ann':ann,'tau_prior':tau_prior,'pi_prior':pi_prior} "
      ],
      "execution_count": null,
      "outputs": []
    },
    {
      "cell_type": "code",
      "metadata": {
        "id": "HznWxQOPkeQu"
      },
      "source": [
        "inicial = np.array([[0.91,0.03,0.03,0.03],\n",
        "                    [0.03,0.91,0.03,0.03],\n",
        "                    [0.03,0.03,0.91,0.03]])"
      ],
      "execution_count": null,
      "outputs": []
    },
    {
      "cell_type": "code",
      "metadata": {
        "id": "gu0FI2yOkezH"
      },
      "source": [
        "pi_ini = np.zeros((w,k,k2))\n",
        "for yw in range(w):\n",
        "  pi_ini[yw] = inicial\n",
        "dades_inicials_gen = {'pi':pi_ini}"
      ],
      "execution_count": null,
      "outputs": []
    },
    {
      "cell_type": "code",
      "metadata": {
        "colab": {
          "base_uri": "https://localhost:8080/"
        },
        "id": "CqWYeXWHkO3Z",
        "outputId": "0051f55b-d793-4fda-b396-6afafadcde2b"
      },
      "source": [
        "optim = sm_ext.optimizing(data=dades_sm_ext_modified ,init=dades_inicials_gen)\n",
        "optim"
      ],
      "execution_count": null,
      "outputs": [
        {
          "output_type": "execute_result",
          "data": {
            "text/plain": [
              "OrderedDict([('tau', array([0.1138177 , 0.29464779, 0.59153451])),\n",
              "             ('pi',\n",
              "              array([[[8.38713312e-01, 7.72456667e-02, 6.97248673e-02, 1.43161543e-02],\n",
              "                      [2.13998630e-01, 5.90605437e-01, 1.95394249e-01, 1.68427076e-06],\n",
              "                      [1.44266191e-01, 8.72165215e-02, 7.50324113e-01, 1.81931744e-02]],\n",
              "              \n",
              "                     [[6.53246982e-01, 1.27680487e-01, 2.19068319e-01, 4.21227732e-06],\n",
              "                      [3.02091515e-01, 5.08625854e-01, 1.75845651e-01, 1.34369793e-02],\n",
              "                      [1.24160007e-01, 1.10927796e-01, 7.51893911e-01, 1.30182866e-02]],\n",
              "              \n",
              "                     [[6.04948021e-01, 8.56430966e-02, 2.93572002e-01, 1.58368801e-02],\n",
              "                      [2.08021673e-01, 5.88787537e-01, 1.83461431e-01, 1.97293588e-02],\n",
              "                      [7.40985207e-02, 1.08597875e-01, 8.02298872e-01, 1.50047320e-02]],\n",
              "              \n",
              "                     [[6.92428400e-01, 9.30498572e-02, 2.14512094e-01, 9.64882964e-06],\n",
              "                      [1.98001346e-01, 6.31117268e-01, 1.70879692e-01, 1.69393336e-06],\n",
              "                      [9.23511735e-02, 1.38113832e-01, 7.55458725e-01, 1.40762691e-02]],\n",
              "              \n",
              "                     [[5.33737860e-01, 1.82159171e-01, 2.65536983e-01, 1.85659863e-02],\n",
              "                      [2.21441584e-01, 6.28381060e-01, 1.50173899e-01, 3.45727876e-06],\n",
              "                      [7.39776739e-02, 1.15544917e-01, 7.90664280e-01, 1.98131288e-02]],\n",
              "              \n",
              "                     [[5.87578693e-01, 9.51397768e-02, 3.00484902e-01, 1.67966283e-02],\n",
              "                      [2.00989491e-01, 5.62814631e-01, 2.09495343e-01, 2.67005347e-02],\n",
              "                      [9.01703730e-02, 8.65466732e-02, 8.05642783e-01, 1.76401710e-02]],\n",
              "              \n",
              "                     [[6.44101130e-01, 1.51051481e-01, 2.04838425e-01, 8.96421011e-06],\n",
              "                      [1.69149580e-01, 5.97315455e-01, 2.26917941e-01, 6.61702359e-03],\n",
              "                      [9.38394289e-02, 8.74831883e-02, 8.11537588e-01, 7.13979448e-03]],\n",
              "              \n",
              "                     [[6.98544500e-01, 9.79840417e-02, 2.03467339e-01, 4.12014252e-06],\n",
              "                      [2.38175653e-01, 5.43438315e-01, 1.96663634e-01, 2.17223983e-02],\n",
              "                      [6.74704629e-02, 1.08953088e-01, 8.02629876e-01, 2.09465736e-02]],\n",
              "              \n",
              "                     [[6.85589216e-01, 1.33305426e-01, 1.64155074e-01, 1.69502841e-02],\n",
              "                      [1.86836591e-01, 5.96744810e-01, 1.98781978e-01, 1.76366211e-02],\n",
              "                      [1.05953958e-01, 7.10295556e-02, 8.10477144e-01, 1.25393421e-02]],\n",
              "              \n",
              "                     [[5.72234013e-01, 2.40137382e-01, 1.53755790e-01, 3.38728143e-02],\n",
              "                      [2.50659047e-01, 5.33080727e-01, 2.09524719e-01, 6.73550635e-03],\n",
              "                      [1.11017898e-01, 9.21624137e-02, 7.83844956e-01, 1.29747322e-02]],\n",
              "              \n",
              "                     [[7.93208328e-01, 3.79888043e-02, 1.49820739e-01, 1.89821288e-02],\n",
              "                      [1.85416196e-01, 6.43480147e-01, 1.65221896e-01, 5.88176101e-03],\n",
              "                      [9.36043549e-02, 1.24260386e-01, 7.68221057e-01, 1.39142029e-02]],\n",
              "              \n",
              "                     [[5.97310724e-01, 1.03082433e-01, 2.81811631e-01, 1.77952114e-02],\n",
              "                      [2.07441976e-01, 5.61006442e-01, 2.24544446e-01, 7.00713663e-03],\n",
              "                      [8.56253288e-02, 1.06735459e-01, 7.93751085e-01, 1.38881266e-02]],\n",
              "              \n",
              "                     [[6.80508584e-01, 1.41793025e-01, 1.44494812e-01, 3.32035795e-02],\n",
              "                      [2.10828198e-01, 6.27243333e-01, 1.61924833e-01, 3.63581366e-06],\n",
              "                      [9.39714411e-02, 9.76866531e-02, 7.86395847e-01, 2.19460587e-02]],\n",
              "              \n",
              "                     [[7.20978037e-01, 1.39621950e-01, 1.39388389e-01, 1.16236162e-05],\n",
              "                      [2.08966306e-01, 6.10944921e-01, 1.72782194e-01, 7.30657896e-03],\n",
              "                      [4.16637992e-02, 1.01710492e-01, 8.49610928e-01, 7.01478104e-03]],\n",
              "              \n",
              "                     [[8.11948026e-01, 2.37705602e-02, 1.08755131e-01, 5.55262828e-02],\n",
              "                      [1.80411921e-01, 6.21999827e-01, 1.90377389e-01, 7.21086274e-03],\n",
              "                      [9.32446058e-02, 7.78116968e-02, 8.07353276e-01, 2.15904210e-02]],\n",
              "              \n",
              "                     [[5.88409272e-01, 9.55123979e-02, 3.16069941e-01, 8.38923946e-06],\n",
              "                      [2.46360379e-01, 5.87207608e-01, 1.59626376e-01, 6.80563695e-03],\n",
              "                      [7.39932092e-02, 1.11817306e-01, 7.90661095e-01, 2.35283898e-02]],\n",
              "              \n",
              "                     [[6.93213057e-01, 5.30850505e-02, 1.92674669e-01, 6.10272235e-02],\n",
              "                      [2.19842112e-01, 6.36890534e-01, 1.43263604e-01, 3.74979144e-06],\n",
              "                      [9.87275531e-02, 1.14816280e-01, 7.75158402e-01, 1.12977652e-02]],\n",
              "              \n",
              "                     [[6.85495145e-01, 1.08917238e-01, 2.05573678e-01, 1.39386495e-05],\n",
              "                      [2.70133710e-01, 5.22286785e-01, 2.00679311e-01, 6.90019437e-03],\n",
              "                      [1.02077937e-01, 1.20536768e-01, 7.70689818e-01, 6.69547651e-03]],\n",
              "              \n",
              "                     [[6.71937541e-01, 3.18518365e-02, 2.31941577e-01, 6.42690459e-02],\n",
              "                      [2.08029327e-01, 5.81834167e-01, 1.89095779e-01, 2.10407267e-02],\n",
              "                      [8.76988327e-02, 1.11376101e-01, 7.94006274e-01, 6.91879211e-03]],\n",
              "              \n",
              "                     [[6.99134328e-01, 6.89482828e-02, 1.96033143e-01, 3.58842458e-02],\n",
              "                      [2.15521597e-01, 5.88322441e-01, 1.90382075e-01, 5.77388625e-03],\n",
              "                      [1.02423047e-01, 1.04204848e-01, 7.83043531e-01, 1.03285740e-02]]])),\n",
              "             ('log_p_t_C', array([[-21.56367338, -21.23122891,  -8.82328062],\n",
              "                     [ -9.44637665, -15.22749392, -21.432842  ],\n",
              "                     [-20.24017091, -15.3750027 ,  -8.81093339],\n",
              "                     ...,\n",
              "                     [-24.80643224,  -8.7923394 , -20.67269421],\n",
              "                     [-17.95183548, -18.23687575,  -4.99535201],\n",
              "                     [-18.57390686, -17.77211242,  -2.80923391]])),\n",
              "             ('t_C', array([[2.93031752e-06, 4.08595406e-06, 9.99992984e-01],\n",
              "                     [9.96918034e-01, 3.07575773e-03, 6.20874314e-06],\n",
              "                     [1.08574670e-05, 1.40813477e-03, 9.98581008e-01],\n",
              "                     ...,\n",
              "                     [1.10959577e-07, 9.99992964e-01, 6.92507382e-06],\n",
              "                     [2.36085290e-06, 1.77532354e-06, 9.99995864e-01],\n",
              "                     [1.42393226e-07, 3.17471124e-07, 9.99999540e-01]]))])"
            ]
          },
          "metadata": {
            "tags": []
          },
          "execution_count": 59
        }
      ]
    }
  ]
}