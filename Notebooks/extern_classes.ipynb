{
  "nbformat": 4,
  "nbformat_minor": 0,
  "metadata": {
    "colab": {
      "name": "extern_classes.ipynb",
      "provenance": [],
      "collapsed_sections": []
    },
    "kernelspec": {
      "name": "python3",
      "display_name": "Python 3"
    },
    "language_info": {
      "name": "python"
    }
  },
  "cells": [
    {
      "cell_type": "code",
      "metadata": {
        "id": "MdyivPSuKnRh",
        "colab": {
          "base_uri": "https://localhost:8080/"
        },
        "outputId": "a030f25b-5d16-4b55-eb75-603837c7af51"
      },
      "source": [
        "pip install arviz"
      ],
      "execution_count": null,
      "outputs": [
        {
          "output_type": "stream",
          "text": [
            "Collecting arviz\n",
            "\u001b[?25l  Downloading https://files.pythonhosted.org/packages/e2/a8/e2ad120b06822e29e0d185bed1ae300576f3f61f97fceb6933ba6f6accf7/arviz-0.11.2-py3-none-any.whl (1.6MB)\n",
            "\u001b[K     |████████████████████████████████| 1.6MB 6.8MB/s \n",
            "\u001b[?25hRequirement already satisfied: scipy>=0.19 in /usr/local/lib/python3.7/dist-packages (from arviz) (1.4.1)\n",
            "Requirement already satisfied: pandas>=0.23 in /usr/local/lib/python3.7/dist-packages (from arviz) (1.1.5)\n",
            "Requirement already satisfied: typing-extensions<4,>=3.7.4.3 in /usr/local/lib/python3.7/dist-packages (from arviz) (3.7.4.3)\n",
            "Requirement already satisfied: setuptools>=38.4 in /usr/local/lib/python3.7/dist-packages (from arviz) (56.0.0)\n",
            "Collecting xarray>=0.16.1\n",
            "\u001b[?25l  Downloading https://files.pythonhosted.org/packages/a5/19/debc1f470b8b9e2949da221663c8102ed6728f4d38dc964085ca43de1428/xarray-0.17.0-py3-none-any.whl (759kB)\n",
            "\u001b[K     |████████████████████████████████| 768kB 29.0MB/s \n",
            "\u001b[?25hRequirement already satisfied: matplotlib>=3.0 in /usr/local/lib/python3.7/dist-packages (from arviz) (3.2.2)\n",
            "Collecting netcdf4\n",
            "\u001b[?25l  Downloading https://files.pythonhosted.org/packages/37/56/f65978898fb8e7e5df9c67531d86eb24eb04938deae3b61dbcce12c98212/netCDF4-1.5.6-cp37-cp37m-manylinux2014_x86_64.whl (4.7MB)\n",
            "\u001b[K     |████████████████████████████████| 4.7MB 37.8MB/s \n",
            "\u001b[?25hRequirement already satisfied: numpy>=1.12 in /usr/local/lib/python3.7/dist-packages (from arviz) (1.19.5)\n",
            "Requirement already satisfied: packaging in /usr/local/lib/python3.7/dist-packages (from arviz) (20.9)\n",
            "Requirement already satisfied: python-dateutil>=2.7.3 in /usr/local/lib/python3.7/dist-packages (from pandas>=0.23->arviz) (2.8.1)\n",
            "Requirement already satisfied: pytz>=2017.2 in /usr/local/lib/python3.7/dist-packages (from pandas>=0.23->arviz) (2018.9)\n",
            "Requirement already satisfied: kiwisolver>=1.0.1 in /usr/local/lib/python3.7/dist-packages (from matplotlib>=3.0->arviz) (1.3.1)\n",
            "Requirement already satisfied: pyparsing!=2.0.4,!=2.1.2,!=2.1.6,>=2.0.1 in /usr/local/lib/python3.7/dist-packages (from matplotlib>=3.0->arviz) (2.4.7)\n",
            "Requirement already satisfied: cycler>=0.10 in /usr/local/lib/python3.7/dist-packages (from matplotlib>=3.0->arviz) (0.10.0)\n",
            "Collecting cftime\n",
            "\u001b[?25l  Downloading https://files.pythonhosted.org/packages/41/e0/3e120cca16571c5ee3b35f1ed432c2aae5dc91e2b789e8b9c3a70e721ea0/cftime-1.4.1-cp37-cp37m-manylinux2014_x86_64.whl (313kB)\n",
            "\u001b[K     |████████████████████████████████| 317kB 46.2MB/s \n",
            "\u001b[?25hRequirement already satisfied: six>=1.5 in /usr/local/lib/python3.7/dist-packages (from python-dateutil>=2.7.3->pandas>=0.23->arviz) (1.15.0)\n",
            "Installing collected packages: xarray, cftime, netcdf4, arviz\n",
            "  Found existing installation: xarray 0.15.1\n",
            "    Uninstalling xarray-0.15.1:\n",
            "      Successfully uninstalled xarray-0.15.1\n",
            "Successfully installed arviz-0.11.2 cftime-1.4.1 netcdf4-1.5.6 xarray-0.17.0\n"
          ],
          "name": "stdout"
        }
      ]
    },
    {
      "cell_type": "code",
      "metadata": {
        "id": "qeNtkXow2caJ"
      },
      "source": [
        "import pystan\n",
        "import numpy as np\n",
        "import matplotlib.pyplot as plt\n",
        "import arviz\n",
        "import pickle\n",
        "import cmdstanpy\n",
        "import json\n",
        "import pandas as pd"
      ],
      "execution_count": null,
      "outputs": []
    },
    {
      "cell_type": "code",
      "metadata": {
        "id": "JwLIG_Fx2cU_"
      },
      "source": [
        "with open('/content/drive/MyDrive/TFM-Crowd learning/multinomial.json') as json_file:\n",
        "    data = json.load(json_file)"
      ],
      "execution_count": null,
      "outputs": []
    },
    {
      "cell_type": "code",
      "metadata": {
        "id": "Mst1cH2Q2cSk",
        "colab": {
          "base_uri": "https://localhost:8080/",
          "height": 419
        },
        "outputId": "afbd17ff-b0bd-44d1-856f-37afb548ae81"
      },
      "source": [
        "dades={'Tasca': data['t_A'], 'Worker': data['w_A'], 'Anotació': data['ann'] }\n",
        "df = pd.DataFrame(data=dades)\n",
        "df"
      ],
      "execution_count": null,
      "outputs": [
        {
          "output_type": "execute_result",
          "data": {
            "text/html": [
              "<div>\n",
              "<style scoped>\n",
              "    .dataframe tbody tr th:only-of-type {\n",
              "        vertical-align: middle;\n",
              "    }\n",
              "\n",
              "    .dataframe tbody tr th {\n",
              "        vertical-align: top;\n",
              "    }\n",
              "\n",
              "    .dataframe thead th {\n",
              "        text-align: right;\n",
              "    }\n",
              "</style>\n",
              "<table border=\"1\" class=\"dataframe\">\n",
              "  <thead>\n",
              "    <tr style=\"text-align: right;\">\n",
              "      <th></th>\n",
              "      <th>Tasca</th>\n",
              "      <th>Worker</th>\n",
              "      <th>Anotació</th>\n",
              "    </tr>\n",
              "  </thead>\n",
              "  <tbody>\n",
              "    <tr>\n",
              "      <th>0</th>\n",
              "      <td>0</td>\n",
              "      <td>14</td>\n",
              "      <td>2</td>\n",
              "    </tr>\n",
              "    <tr>\n",
              "      <th>1</th>\n",
              "      <td>0</td>\n",
              "      <td>13</td>\n",
              "      <td>2</td>\n",
              "    </tr>\n",
              "    <tr>\n",
              "      <th>2</th>\n",
              "      <td>0</td>\n",
              "      <td>4</td>\n",
              "      <td>2</td>\n",
              "    </tr>\n",
              "    <tr>\n",
              "      <th>3</th>\n",
              "      <td>0</td>\n",
              "      <td>2</td>\n",
              "      <td>2</td>\n",
              "    </tr>\n",
              "    <tr>\n",
              "      <th>4</th>\n",
              "      <td>0</td>\n",
              "      <td>7</td>\n",
              "      <td>1</td>\n",
              "    </tr>\n",
              "    <tr>\n",
              "      <th>...</th>\n",
              "      <td>...</td>\n",
              "      <td>...</td>\n",
              "      <td>...</td>\n",
              "    </tr>\n",
              "    <tr>\n",
              "      <th>9995</th>\n",
              "      <td>999</td>\n",
              "      <td>17</td>\n",
              "      <td>2</td>\n",
              "    </tr>\n",
              "    <tr>\n",
              "      <th>9996</th>\n",
              "      <td>999</td>\n",
              "      <td>2</td>\n",
              "      <td>2</td>\n",
              "    </tr>\n",
              "    <tr>\n",
              "      <th>9997</th>\n",
              "      <td>999</td>\n",
              "      <td>13</td>\n",
              "      <td>2</td>\n",
              "    </tr>\n",
              "    <tr>\n",
              "      <th>9998</th>\n",
              "      <td>999</td>\n",
              "      <td>14</td>\n",
              "      <td>2</td>\n",
              "    </tr>\n",
              "    <tr>\n",
              "      <th>9999</th>\n",
              "      <td>999</td>\n",
              "      <td>15</td>\n",
              "      <td>2</td>\n",
              "    </tr>\n",
              "  </tbody>\n",
              "</table>\n",
              "<p>10000 rows × 3 columns</p>\n",
              "</div>"
            ],
            "text/plain": [
              "      Tasca  Worker  Anotació\n",
              "0         0      14         2\n",
              "1         0      13         2\n",
              "2         0       4         2\n",
              "3         0       2         2\n",
              "4         0       7         1\n",
              "...     ...     ...       ...\n",
              "9995    999      17         2\n",
              "9996    999       2         2\n",
              "9997    999      13         2\n",
              "9998    999      14         2\n",
              "9999    999      15         2\n",
              "\n",
              "[10000 rows x 3 columns]"
            ]
          },
          "metadata": {
            "tags": []
          },
          "execution_count": 25
        }
      ]
    },
    {
      "cell_type": "code",
      "metadata": {
        "id": "1emDV-Il2cPt",
        "colab": {
          "base_uri": "https://localhost:8080/"
        },
        "outputId": "19be495e-a3ce-46bd-fddf-98317ee7a15f"
      },
      "source": [
        "sm_ext = pystan.StanModel(file='/content/drive/MyDrive/TFM-Crowd learning/Fitxers STAN/extern_classes.stan')\n"
      ],
      "execution_count": null,
      "outputs": [
        {
          "output_type": "stream",
          "text": [
            "INFO:pystan:COMPILING THE C++ CODE FOR MODEL anon_model_ccda708da43115a83f1bd313f51b2f37 NOW.\n"
          ],
          "name": "stderr"
        }
      ]
    },
    {
      "cell_type": "code",
      "metadata": {
        "id": "eI5s-ctG2cM-"
      },
      "source": [
        "w = len(np.unique(df['Worker']))\n",
        "t = len(np.unique(df['Tasca']))\n",
        "a = len(df['Anotació'])\n",
        "k = len(np.unique(df['Anotació']))\n",
        "num_classes_externes = 1\n",
        "k2=k+num_classes_externes\n",
        "t_A = np.array(df['Tasca'])+1\n",
        "w_A = np.array(df['Worker'])+1\n",
        "ann = np.array(df['Anotació'])+1\n",
        "tau_prior = np.array([1,1,1])\n",
        "pi_prior = np.ones((k,k2))\n",
        "\n",
        "dades_sm_ext = {'w':w,'t':t,'a':a,'k':k,'k2':k2,'t_A':t_A,'w_A':w_A,'ann':ann,'tau_prior':tau_prior,'pi_prior':pi_prior} "
      ],
      "execution_count": null,
      "outputs": []
    },
    {
      "cell_type": "code",
      "metadata": {
        "id": "PKlP9b20BQsT"
      },
      "source": [
        "inicial = np.array([[0.91,0.03,0.03,0.03],\n",
        "                    [0.03,0.91,0.03,0.03],\n",
        "                    [0.03,0.03,0.91,0.03]])"
      ],
      "execution_count": null,
      "outputs": []
    },
    {
      "cell_type": "code",
      "metadata": {
        "id": "_9BEUtCJ2cKa"
      },
      "source": [
        "pi_ini = np.zeros((w,k,k2))\n",
        "for yw in range(w):\n",
        "  pi_ini[yw] = inicial\n",
        "dades_inicials_gen = {'pi':pi_ini}"
      ],
      "execution_count": null,
      "outputs": []
    },
    {
      "cell_type": "code",
      "metadata": {
        "id": "5NdUyejb2cHw",
        "colab": {
          "base_uri": "https://localhost:8080/"
        },
        "outputId": "4fc6e33a-27df-4fae-c3b3-fcd90badb65a"
      },
      "source": [
        "optim = sm_ext.optimizing(data=dades_sm_ext,init=dades_inicials_gen)\n",
        "optim"
      ],
      "execution_count": null,
      "outputs": [
        {
          "output_type": "execute_result",
          "data": {
            "text/plain": [
              "OrderedDict([('tau', array([0.1125492 , 0.29707459, 0.59037621])),\n",
              "             ('pi',\n",
              "              array([[[8.50400100e-01, 7.91348876e-02, 7.04650123e-02, 3.44266282e-12],\n",
              "                      [2.19057404e-01, 5.88754361e-01, 1.92188225e-01, 9.84673559e-09],\n",
              "                      [1.47670077e-01, 9.12949196e-02, 7.61034953e-01, 5.09124678e-08]],\n",
              "              \n",
              "                     [[6.54304459e-01, 1.26588446e-01, 2.19106960e-01, 1.34797369e-07],\n",
              "                      [3.07676536e-01, 5.17248083e-01, 1.75075365e-01, 1.63881191e-08],\n",
              "                      [1.30591696e-01, 1.10734431e-01, 7.58673823e-01, 4.97214194e-08]],\n",
              "              \n",
              "                     [[6.24033193e-01, 8.48437572e-02, 2.91122921e-01, 1.29077593e-07],\n",
              "                      [2.13772278e-01, 6.02179037e-01, 1.84048669e-01, 1.59265858e-08],\n",
              "                      [7.40930215e-02, 1.08487321e-01, 8.17419608e-01, 4.93351936e-08]],\n",
              "              \n",
              "                     [[6.92217930e-01, 9.32569728e-02, 2.14524988e-01, 1.09672588e-07],\n",
              "                      [1.97436980e-01, 6.34266577e-01, 1.68296416e-01, 2.68035705e-08],\n",
              "                      [9.57929224e-02, 1.38268935e-01, 7.65938091e-01, 5.14695642e-08]],\n",
              "              \n",
              "                     [[5.55186012e-01, 1.62688586e-01, 2.82125218e-01, 1.84938237e-07],\n",
              "                      [2.22623425e-01, 6.30663772e-01, 1.46712780e-01, 2.32007930e-08],\n",
              "                      [8.05933119e-02, 1.22616839e-01, 7.96789797e-01, 5.22428901e-08]],\n",
              "              \n",
              "                     [[5.95706462e-01, 9.81153516e-02, 3.06178008e-01, 1.78179343e-07],\n",
              "                      [2.00553296e-01, 5.77424910e-01, 2.22021785e-01, 8.51874551e-09],\n",
              "                      [9.02054983e-02, 9.38093877e-02, 8.15985059e-01, 5.45700287e-08]],\n",
              "              \n",
              "                     [[6.43436204e-01, 1.51367399e-01, 2.05196225e-01, 1.71652864e-07],\n",
              "                      [1.69258927e-01, 6.04986032e-01, 2.25755032e-01, 9.45384274e-09],\n",
              "                      [9.37808404e-02, 8.70873057e-02, 8.19131800e-01, 5.41099805e-08]],\n",
              "              \n",
              "                     [[7.02082517e-01, 7.98800295e-02, 2.18037367e-01, 8.61845314e-08],\n",
              "                      [2.47543091e-01, 5.48422146e-01, 2.04034750e-01, 1.35300439e-08],\n",
              "                      [6.79273973e-02, 1.09667015e-01, 8.22405533e-01, 5.44261873e-08]],\n",
              "              \n",
              "                     [[7.03572544e-01, 1.29875544e-01, 1.66551901e-01, 1.02684735e-08],\n",
              "                      [1.90320227e-01, 6.12242436e-01, 1.97437329e-01, 8.51602000e-09],\n",
              "                      [1.03362935e-01, 7.13827834e-02, 8.25254230e-01, 5.13473096e-08]],\n",
              "              \n",
              "                     [[5.91937484e-01, 2.44178027e-01, 1.63884457e-01, 3.15063066e-08],\n",
              "                      [2.56479889e-01, 5.30255642e-01, 2.13264459e-01, 9.99961433e-09],\n",
              "                      [1.10728598e-01, 9.56059436e-02, 7.93665407e-01, 5.17638153e-08]],\n",
              "              \n",
              "                     [[8.13111320e-01, 4.05261981e-02, 1.46362481e-01, 2.74972128e-10],\n",
              "                      [1.94929021e-01, 6.40889110e-01, 1.64181854e-01, 1.46714127e-08],\n",
              "                      [9.01510647e-02, 1.24791447e-01, 7.85057435e-01, 5.27813079e-08]],\n",
              "              \n",
              "                     [[6.02882627e-01, 1.07056034e-01, 2.90061166e-01, 1.73176169e-07],\n",
              "                      [2.08137007e-01, 5.64372643e-01, 2.27490337e-01, 1.21114665e-08],\n",
              "                      [8.58647998e-02, 1.07089356e-01, 8.07045791e-01, 5.36437240e-08]],\n",
              "              \n",
              "                     [[7.30806754e-01, 1.22079483e-01, 1.47113724e-01, 3.81640520e-08],\n",
              "                      [2.07024384e-01, 6.26291320e-01, 1.66684278e-01, 1.82180230e-08],\n",
              "                      [1.05630682e-01, 1.02015844e-01, 7.92353422e-01, 5.24495939e-08]],\n",
              "              \n",
              "                     [[7.16243819e-01, 1.41248491e-01, 1.42507690e-01, 3.70473735e-10],\n",
              "                      [2.09657025e-01, 6.20373658e-01, 1.69969297e-01, 1.95966956e-08],\n",
              "                      [4.10603015e-02, 9.87685249e-02, 8.60171118e-01, 5.58254817e-08]],\n",
              "              \n",
              "                     [[8.28741407e-01, 3.61981926e-02, 1.35060400e-01, 3.41086465e-10],\n",
              "                      [1.87032358e-01, 6.26215007e-01, 1.86752621e-01, 1.32598293e-08],\n",
              "                      [9.61299275e-02, 7.81037147e-02, 8.25766307e-01, 5.06573636e-08]],\n",
              "              \n",
              "                     [[6.00914373e-01, 7.87360417e-02, 3.20349450e-01, 1.35211141e-07],\n",
              "                      [2.42460491e-01, 6.00663533e-01, 1.56875961e-01, 1.57262897e-08],\n",
              "                      [7.37688998e-02, 1.11944437e-01, 8.14286610e-01, 5.37253007e-08]],\n",
              "              \n",
              "                     [[7.15507050e-01, 6.44835202e-02, 2.20009306e-01, 1.23538835e-07],\n",
              "                      [2.16574866e-01, 6.36639186e-01, 1.46785923e-01, 2.48115265e-08],\n",
              "                      [9.84198297e-02, 1.15242426e-01, 7.86337692e-01, 5.25766438e-08]],\n",
              "              \n",
              "                     [[7.23743890e-01, 8.66331727e-02, 1.89622933e-01, 3.55381444e-09],\n",
              "                      [2.62538589e-01, 5.31143710e-01, 2.06317687e-01, 1.35601803e-08],\n",
              "                      [1.01622233e-01, 1.20831841e-01, 7.77545875e-01, 5.14529840e-08]],\n",
              "              \n",
              "                     [[7.28224509e-01, 3.33794368e-02, 2.38395935e-01, 1.18754993e-07],\n",
              "                      [2.10496212e-01, 5.94606504e-01, 1.94897272e-01, 1.16591827e-08],\n",
              "                      [8.76487715e-02, 1.11626841e-01, 8.00724335e-01, 5.30393220e-08]],\n",
              "              \n",
              "                     [[7.18837883e-01, 7.80309691e-02, 2.03131144e-01, 4.01088940e-09],\n",
              "                      [2.27101852e-01, 5.85934408e-01, 1.86963730e-01, 1.05500524e-08],\n",
              "                      [1.02610434e-01, 1.03725088e-01, 7.93664426e-01, 5.26463884e-08]]])),\n",
              "             ('log_p_t_C', array([[-19.2459508 , -17.92277835,  -4.65978895],\n",
              "                     [ -9.26005684, -15.20918519, -21.39035289],\n",
              "                     [-20.02144417, -15.25217035,  -8.69522773],\n",
              "                     ...,\n",
              "                     [-24.68238061,  -8.74627222, -20.46313417],\n",
              "                     [-17.56470682, -18.13073853,  -4.92908726],\n",
              "                     [-18.31544573, -17.78486878,  -2.64579233]])),\n",
              "             ('t_C', array([[4.62710595e-07, 1.73762452e-06, 9.99997800e-01],\n",
              "                     [9.97393306e-01, 2.60131434e-03, 5.37954830e-06],\n",
              "                     [1.20355272e-05, 1.41819001e-03, 9.98569774e-01],\n",
              "                     ...,\n",
              "                     [1.19958898e-07, 9.99991725e-01, 8.15507416e-06],\n",
              "                     [3.25400289e-06, 1.84753845e-06, 9.99994898e-01],\n",
              "                     [1.56587040e-07, 2.66184312e-07, 9.99999577e-01]]))])"
            ]
          },
          "metadata": {
            "tags": []
          },
          "execution_count": 55
        }
      ]
    },
    {
      "cell_type": "code",
      "metadata": {
        "id": "Gh7TBKDD2cFP"
      },
      "source": [
        ""
      ],
      "execution_count": null,
      "outputs": []
    },
    {
      "cell_type": "code",
      "metadata": {
        "id": "XNKSx3Ml2b__"
      },
      "source": [
        ""
      ],
      "execution_count": null,
      "outputs": []
    },
    {
      "cell_type": "code",
      "metadata": {
        "id": "Is8uchBT2b9T"
      },
      "source": [
        ""
      ],
      "execution_count": null,
      "outputs": []
    }
  ]
}