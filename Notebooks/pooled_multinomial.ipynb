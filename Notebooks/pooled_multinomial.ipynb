{
  "nbformat": 4,
  "nbformat_minor": 0,
  "metadata": {
    "colab": {
      "name": "pooled_multinomial.ipynb",
      "provenance": [],
      "collapsed_sections": []
    },
    "kernelspec": {
      "name": "python3",
      "display_name": "Python 3"
    },
    "language_info": {
      "name": "python"
    }
  },
  "cells": [
    {
      "cell_type": "code",
      "metadata": {
        "colab": {
          "base_uri": "https://localhost:8080/"
        },
        "id": "4GuUTFr4wl4H",
        "outputId": "c71da635-6932-4e32-a864-c01e0b0b6567"
      },
      "source": [
        "pip install arviz"
      ],
      "execution_count": 1,
      "outputs": [
        {
          "output_type": "stream",
          "text": [
            "Collecting arviz\n",
            "\u001b[?25l  Downloading https://files.pythonhosted.org/packages/e2/a8/e2ad120b06822e29e0d185bed1ae300576f3f61f97fceb6933ba6f6accf7/arviz-0.11.2-py3-none-any.whl (1.6MB)\n",
            "\u001b[K     |████████████████████████████████| 1.6MB 4.9MB/s \n",
            "\u001b[?25hRequirement already satisfied: typing-extensions<4,>=3.7.4.3 in /usr/local/lib/python3.7/dist-packages (from arviz) (3.7.4.3)\n",
            "Requirement already satisfied: setuptools>=38.4 in /usr/local/lib/python3.7/dist-packages (from arviz) (56.1.0)\n",
            "Requirement already satisfied: numpy>=1.12 in /usr/local/lib/python3.7/dist-packages (from arviz) (1.19.5)\n",
            "Requirement already satisfied: pandas>=0.23 in /usr/local/lib/python3.7/dist-packages (from arviz) (1.1.5)\n",
            "Requirement already satisfied: scipy>=0.19 in /usr/local/lib/python3.7/dist-packages (from arviz) (1.4.1)\n",
            "Requirement already satisfied: matplotlib>=3.0 in /usr/local/lib/python3.7/dist-packages (from arviz) (3.2.2)\n",
            "Requirement already satisfied: packaging in /usr/local/lib/python3.7/dist-packages (from arviz) (20.9)\n",
            "Collecting netcdf4\n",
            "\u001b[?25l  Downloading https://files.pythonhosted.org/packages/37/56/f65978898fb8e7e5df9c67531d86eb24eb04938deae3b61dbcce12c98212/netCDF4-1.5.6-cp37-cp37m-manylinux2014_x86_64.whl (4.7MB)\n",
            "\u001b[K     |████████████████████████████████| 4.7MB 22.3MB/s \n",
            "\u001b[?25hCollecting xarray>=0.16.1\n",
            "\u001b[?25l  Downloading https://files.pythonhosted.org/packages/64/a7/cc07b0d64c36f2a5027edd88e417870681118d4cb621bafc8f15a766181a/xarray-0.18.0-py3-none-any.whl (801kB)\n",
            "\u001b[K     |████████████████████████████████| 808kB 35.4MB/s \n",
            "\u001b[?25hRequirement already satisfied: pytz>=2017.2 in /usr/local/lib/python3.7/dist-packages (from pandas>=0.23->arviz) (2018.9)\n",
            "Requirement already satisfied: python-dateutil>=2.7.3 in /usr/local/lib/python3.7/dist-packages (from pandas>=0.23->arviz) (2.8.1)\n",
            "Requirement already satisfied: kiwisolver>=1.0.1 in /usr/local/lib/python3.7/dist-packages (from matplotlib>=3.0->arviz) (1.3.1)\n",
            "Requirement already satisfied: cycler>=0.10 in /usr/local/lib/python3.7/dist-packages (from matplotlib>=3.0->arviz) (0.10.0)\n",
            "Requirement already satisfied: pyparsing!=2.0.4,!=2.1.2,!=2.1.6,>=2.0.1 in /usr/local/lib/python3.7/dist-packages (from matplotlib>=3.0->arviz) (2.4.7)\n",
            "Collecting cftime\n",
            "\u001b[?25l  Downloading https://files.pythonhosted.org/packages/41/e0/3e120cca16571c5ee3b35f1ed432c2aae5dc91e2b789e8b9c3a70e721ea0/cftime-1.4.1-cp37-cp37m-manylinux2014_x86_64.whl (313kB)\n",
            "\u001b[K     |████████████████████████████████| 317kB 37.3MB/s \n",
            "\u001b[?25hRequirement already satisfied: six>=1.5 in /usr/local/lib/python3.7/dist-packages (from python-dateutil>=2.7.3->pandas>=0.23->arviz) (1.15.0)\n",
            "Installing collected packages: cftime, netcdf4, xarray, arviz\n",
            "  Found existing installation: xarray 0.15.1\n",
            "    Uninstalling xarray-0.15.1:\n",
            "      Successfully uninstalled xarray-0.15.1\n",
            "Successfully installed arviz-0.11.2 cftime-1.4.1 netcdf4-1.5.6 xarray-0.18.0\n"
          ],
          "name": "stdout"
        }
      ]
    },
    {
      "cell_type": "code",
      "metadata": {
        "id": "6dFmM1mPlFC7"
      },
      "source": [
        "import pystan\n",
        "import numpy as np\n",
        "import matplotlib.pyplot as plt\n",
        "import arviz\n",
        "import pickle\n",
        "import cmdstanpy\n",
        "import json\n",
        "import pandas as pd"
      ],
      "execution_count": 2,
      "outputs": []
    },
    {
      "cell_type": "code",
      "metadata": {
        "colab": {
          "base_uri": "https://localhost:8080/"
        },
        "id": "TAP7CWwolNQn",
        "outputId": "47cd920c-9872-4602-f47f-ff346417a693"
      },
      "source": [
        "sm = pystan.StanModel(file='/content/drive/MyDrive/TFM-Crowd learning/Fitxers STAN/multinom_confusion_matrix.stan')"
      ],
      "execution_count": 3,
      "outputs": [
        {
          "output_type": "stream",
          "text": [
            "INFO:pystan:COMPILING THE C++ CODE FOR MODEL anon_model_38a56093ba42788a25cd0fbe0f6a6a8f NOW.\n"
          ],
          "name": "stderr"
        }
      ]
    },
    {
      "cell_type": "markdown",
      "metadata": {
        "id": "GznLGi2yyrO1"
      },
      "source": [
        "# Example with random $\\pi$ and $\\tau$"
      ]
    },
    {
      "cell_type": "code",
      "metadata": {
        "id": "AMQAqktBlNOA",
        "colab": {
          "base_uri": "https://localhost:8080/"
        },
        "outputId": "ad25bbb2-217e-423f-c56c-bde8ccc74b38"
      },
      "source": [
        "pi = np.random.dirichlet((5, 1, 1), 3)\n",
        "aux=pi[1,1];pi[1,1]=pi[1,0];pi[1,0]=aux\n",
        "aux=pi[2,2];pi[2,2]=pi[2,0];pi[2,0]=aux\n",
        "print(pi)\n",
        "\n",
        "p=np.array([0.1,0.6,0.3])\n",
        "n=1000\n",
        "t=10\n",
        "l=3\n",
        "tc = np.random.choice(l,p=p,size=n)\n",
        "x = np.zeros((n,l),dtype=np.int)\n",
        "for i in range(n):\n",
        "  x[i,:] = np.random.multinomial(t,pi[tc[i],:],size=1)\n",
        "print(x)\n",
        "prior_p = np.array([1,1,1],dtype=np.int)\n",
        "prior_pi = np.array([1,1,1],dtype=np.int)\n",
        "dades={'n':n,'x':x,'k': l,'prior_p':prior_p,'prior_pi':prior_pi}"
      ],
      "execution_count": 4,
      "outputs": [
        {
          "output_type": "stream",
          "text": [
            "[[0.64094493 0.3304241  0.02863098]\n",
            " [0.34039041 0.38766749 0.2719421 ]\n",
            " [0.07488878 0.22944495 0.69566627]]\n",
            "[[0 3 7]\n",
            " [2 5 3]\n",
            " [1 2 7]\n",
            " ...\n",
            " [0 3 7]\n",
            " [3 5 2]\n",
            " [5 2 3]]\n"
          ],
          "name": "stdout"
        }
      ]
    },
    {
      "cell_type": "code",
      "metadata": {
        "id": "8JGd09frlNLS",
        "colab": {
          "base_uri": "https://localhost:8080/"
        },
        "outputId": "cc67c159-5465-4a70-fcfd-07882e8f4daf"
      },
      "source": [
        "fit = sm.sampling(data=dades, iter=500, chains=4)"
      ],
      "execution_count": 5,
      "outputs": [
        {
          "output_type": "stream",
          "text": [
            "WARNING:pystan:Maximum (flat) parameter count (1000) exceeded: skipping diagnostic tests for n_eff and Rhat.\n",
            "To run all diagnostics call pystan.check_hmc_diagnostics(fit)\n"
          ],
          "name": "stderr"
        }
      ]
    },
    {
      "cell_type": "code",
      "metadata": {
        "id": "yN2RRw5TlMsO",
        "colab": {
          "base_uri": "https://localhost:8080/"
        },
        "outputId": "6532ceb3-bccb-4eec-c8be-60ac3de94c86"
      },
      "source": [
        "pi_ini = np.eye(3)+0.05\n",
        "pi_ini /= np.sum(pi_ini,axis=1)\n",
        "print(pi_ini)\n",
        "dades_inicials={'pi':pi_ini}"
      ],
      "execution_count": 6,
      "outputs": [
        {
          "output_type": "stream",
          "text": [
            "[[0.91304348 0.04347826 0.04347826]\n",
            " [0.04347826 0.91304348 0.04347826]\n",
            " [0.04347826 0.04347826 0.91304348]]\n"
          ],
          "name": "stdout"
        }
      ]
    },
    {
      "cell_type": "code",
      "metadata": {
        "id": "7OwP1qXVlMpw",
        "colab": {
          "base_uri": "https://localhost:8080/"
        },
        "outputId": "976963f2-f1a9-4c84-c549-bf1b8adb1ab9"
      },
      "source": [
        "sm.optimizing(data=dades,init=dades_inicials)"
      ],
      "execution_count": 7,
      "outputs": [
        {
          "output_type": "execute_result",
          "data": {
            "text/plain": [
              "OrderedDict([('p', array([0.5783812 , 0.12308913, 0.29852967])),\n",
              "             ('pi', array([[0.32709816, 0.38920459, 0.28369725],\n",
              "                     [0.62583956, 0.34036516, 0.03379528],\n",
              "                     [0.078664  , 0.22174497, 0.69959104]])),\n",
              "             ('log_tc', array([[ -7.4099142 , -24.25260179,  -3.4408917 ],\n",
              "                     [ -3.44829144, -10.75113817,  -7.06492599],\n",
              "                     [ -6.48514674, -22.54491449,  -3.37862179],\n",
              "                     ...,\n",
              "                     [ -7.4099142 , -24.25260179,  -3.4408917 ],\n",
              "                     [ -3.30593878,  -7.83236537,  -9.25023635],\n",
              "                     [ -3.96982594,  -8.92391314, -10.1739531 ]])),\n",
              "             ('tc',\n",
              "              array([1., 1., 1., 2., 3., 2., 1., 1., 1., 2., 3., 3., 3., 3., 1., 1., 2.,\n",
              "                     1., 3., 3., 1., 1., 3., 1., 3., 3., 1., 2., 2., 1., 3., 1., 2., 1.,\n",
              "                     2., 2., 1., 1., 2., 3., 3., 2., 3., 1., 2., 1., 3., 3., 1., 3., 1.,\n",
              "                     1., 3., 1., 1., 3., 2., 1., 1., 3., 1., 2., 2., 2., 1., 1., 1., 3.,\n",
              "                     1., 3., 1., 3., 1., 1., 1., 2., 1., 1., 2., 1., 1., 2., 3., 1., 3.,\n",
              "                     3., 2., 2., 2., 1., 3., 1., 2., 1., 1., 2., 3., 3., 1., 2., 1., 3.,\n",
              "                     1., 3., 3., 2., 1., 2., 3., 3., 1., 2., 1., 3., 2., 1., 3., 2., 3.,\n",
              "                     3., 1., 2., 1., 3., 2., 1., 3., 3., 1., 3., 2., 3., 3., 2., 1., 1.,\n",
              "                     1., 3., 1., 1., 1., 2., 1., 2., 2., 2., 1., 3., 2., 1., 3., 1., 1.,\n",
              "                     1., 1., 2., 2., 1., 1., 3., 1., 2., 1., 3., 2., 3., 1., 3., 3., 3.,\n",
              "                     3., 2., 2., 1., 3., 3., 2., 3., 1., 3., 1., 1., 3., 3., 3., 1., 1.,\n",
              "                     2., 1., 3., 3., 1., 1., 3., 1., 2., 2., 3., 2., 3., 1., 1., 1., 3.,\n",
              "                     1., 2., 1., 1., 2., 1., 3., 1., 1., 2., 3., 1., 3., 3., 3., 1., 1.,\n",
              "                     2., 3., 3., 2., 3., 2., 3., 3., 1., 1., 2., 1., 2., 1., 2., 2., 3.,\n",
              "                     1., 3., 2., 2., 1., 3., 1., 1., 1., 2., 1., 3., 3., 1., 1., 1., 1.,\n",
              "                     3., 3., 3., 3., 3., 3., 2., 1., 2., 2., 2., 2., 3., 1., 1., 3., 2.,\n",
              "                     1., 1., 2., 3., 1., 1., 3., 1., 1., 1., 1., 1., 2., 1., 3., 3., 2.,\n",
              "                     3., 2., 1., 1., 1., 3., 2., 3., 1., 3., 2., 1., 1., 1., 2., 3., 1.,\n",
              "                     1., 1., 1., 2., 1., 3., 1., 1., 3., 2., 1., 3., 3., 2., 3., 1., 2.,\n",
              "                     3., 3., 3., 3., 3., 2., 1., 2., 1., 2., 3., 2., 1., 3., 2., 3., 1.,\n",
              "                     1., 1., 1., 3., 3., 2., 3., 1., 1., 2., 3., 1., 1., 3., 1., 3., 2.,\n",
              "                     1., 3., 1., 3., 3., 3., 1., 3., 2., 1., 1., 3., 1., 1., 1., 3., 1.,\n",
              "                     3., 1., 1., 1., 3., 1., 1., 1., 3., 1., 3., 2., 1., 1., 2., 3., 3.,\n",
              "                     3., 1., 1., 1., 1., 1., 3., 3., 2., 1., 1., 1., 3., 3., 2., 1., 3.,\n",
              "                     2., 1., 2., 1., 3., 1., 3., 2., 1., 1., 1., 1., 3., 1., 3., 2., 1.,\n",
              "                     1., 3., 1., 3., 1., 2., 3., 1., 3., 1., 3., 2., 1., 3., 3., 2., 2.,\n",
              "                     1., 2., 3., 3., 1., 1., 1., 3., 1., 3., 2., 2., 3., 1., 3., 3., 3.,\n",
              "                     1., 1., 1., 1., 1., 3., 1., 1., 2., 1., 2., 3., 3., 3., 3., 1., 2.,\n",
              "                     3., 3., 1., 1., 2., 1., 2., 1., 1., 1., 3., 2., 2., 3., 3., 3., 1.,\n",
              "                     2., 3., 3., 1., 1., 3., 2., 3., 2., 3., 1., 2., 2., 2., 1., 1., 1.,\n",
              "                     1., 2., 2., 3., 2., 2., 2., 2., 3., 3., 3., 3., 1., 1., 2., 1., 2.,\n",
              "                     3., 2., 1., 3., 3., 2., 3., 3., 1., 1., 1., 2., 1., 3., 1., 1., 3.,\n",
              "                     1., 1., 1., 2., 1., 2., 1., 2., 3., 1., 1., 2., 1., 1., 3., 1., 2.,\n",
              "                     1., 2., 2., 3., 3., 1., 3., 3., 1., 3., 1., 1., 2., 1., 2., 1., 3.,\n",
              "                     2., 3., 2., 1., 2., 2., 2., 3., 1., 3., 2., 3., 1., 1., 3., 3., 3.,\n",
              "                     1., 3., 3., 2., 3., 2., 1., 1., 3., 3., 1., 3., 1., 1., 1., 1., 1.,\n",
              "                     1., 3., 2., 3., 3., 3., 3., 1., 1., 2., 3., 3., 3., 3., 3., 2., 1.,\n",
              "                     2., 1., 2., 1., 2., 3., 2., 2., 1., 3., 2., 3., 1., 3., 3., 1., 3.,\n",
              "                     1., 3., 1., 1., 1., 3., 1., 1., 1., 3., 1., 1., 3., 2., 3., 2., 2.,\n",
              "                     3., 1., 3., 2., 1., 2., 2., 3., 2., 1., 1., 2., 2., 1., 3., 2., 2.,\n",
              "                     1., 1., 1., 2., 2., 1., 1., 3., 1., 2., 2., 1., 1., 1., 3., 3., 2.,\n",
              "                     1., 2., 2., 1., 3., 1., 1., 3., 1., 2., 2., 3., 1., 3., 1., 3., 2.,\n",
              "                     1., 3., 3., 1., 2., 3., 1., 2., 2., 1., 3., 1., 1., 1., 3., 2., 3.,\n",
              "                     3., 3., 1., 3., 2., 2., 3., 1., 1., 3., 1., 2., 2., 3., 1., 1., 1.,\n",
              "                     3., 3., 1., 1., 1., 1., 2., 1., 3., 1., 1., 2., 3., 2., 1., 1., 1.,\n",
              "                     3., 3., 3., 1., 2., 3., 2., 1., 1., 1., 2., 1., 1., 1., 2., 3., 2.,\n",
              "                     1., 2., 2., 2., 1., 2., 2., 1., 3., 3., 1., 1., 2., 3., 1., 3., 1.,\n",
              "                     3., 3., 2., 3., 3., 3., 3., 1., 1., 2., 2., 2., 1., 2., 3., 1., 1.,\n",
              "                     1., 2., 3., 1., 3., 1., 1., 1., 3., 3., 2., 1., 1., 1., 2., 3., 2.,\n",
              "                     1., 2., 3., 1., 3., 3., 1., 1., 3., 3., 3., 1., 3., 1., 1., 1., 1.,\n",
              "                     1., 3., 3., 2., 1., 3., 1., 1., 1., 1., 1., 2., 3., 3., 3., 1., 1.,\n",
              "                     1., 1., 1., 2., 2., 3., 1., 1., 2., 1., 3., 3., 3., 1., 2., 1., 1.,\n",
              "                     1., 1., 2., 1., 2., 1., 3., 1., 2., 1., 3., 2., 2., 3., 3., 1., 1.,\n",
              "                     1., 3., 1., 1., 3., 1., 2., 2., 2., 1., 3., 2., 3., 1., 3., 1., 2.,\n",
              "                     2., 1., 1., 1., 1., 1., 1., 3., 2., 1., 1., 3., 1., 1., 1., 2., 2.,\n",
              "                     2., 3., 3., 1., 1., 1., 1., 2., 3., 1., 3., 1., 3., 1., 1., 1., 3.,\n",
              "                     2., 1., 2., 3., 1., 2., 1., 1., 3., 3., 3., 1., 2., 3., 2., 2., 3.,\n",
              "                     2., 2., 2., 1., 1., 3., 2., 3., 1., 2., 2., 1., 3., 2., 3., 3., 3.,\n",
              "                     1., 1., 1., 3., 1., 3., 1., 3., 1., 1., 1., 1., 3., 2.]))])"
            ]
          },
          "metadata": {
            "tags": []
          },
          "execution_count": 7
        }
      ]
    },
    {
      "cell_type": "markdown",
      "metadata": {
        "id": "wstum7Okyxx_"
      },
      "source": [
        "# Code with JSON file"
      ]
    },
    {
      "cell_type": "code",
      "metadata": {
        "id": "kJo2Fv6ly7qr"
      },
      "source": [
        "with open('/content/drive/MyDrive/TFM-Crowd learning/multinomial.json') as json_file:\n",
        "    data = json.load(json_file)"
      ],
      "execution_count": 8,
      "outputs": []
    },
    {
      "cell_type": "code",
      "metadata": {
        "colab": {
          "base_uri": "https://localhost:8080/",
          "height": 419
        },
        "id": "B2NMXbGzy7nQ",
        "outputId": "9720c710-978e-4f30-bdc8-50861bb61992"
      },
      "source": [
        "dades={'Tasca': data['t_A'], 'Worker': data['w_A'], 'Anotació': data['ann'] }\n",
        "df = pd.DataFrame(data=dades)\n",
        "df"
      ],
      "execution_count": 10,
      "outputs": [
        {
          "output_type": "execute_result",
          "data": {
            "text/html": [
              "<div>\n",
              "<style scoped>\n",
              "    .dataframe tbody tr th:only-of-type {\n",
              "        vertical-align: middle;\n",
              "    }\n",
              "\n",
              "    .dataframe tbody tr th {\n",
              "        vertical-align: top;\n",
              "    }\n",
              "\n",
              "    .dataframe thead th {\n",
              "        text-align: right;\n",
              "    }\n",
              "</style>\n",
              "<table border=\"1\" class=\"dataframe\">\n",
              "  <thead>\n",
              "    <tr style=\"text-align: right;\">\n",
              "      <th></th>\n",
              "      <th>Tasca</th>\n",
              "      <th>Worker</th>\n",
              "      <th>Anotació</th>\n",
              "    </tr>\n",
              "  </thead>\n",
              "  <tbody>\n",
              "    <tr>\n",
              "      <th>0</th>\n",
              "      <td>0</td>\n",
              "      <td>14</td>\n",
              "      <td>2</td>\n",
              "    </tr>\n",
              "    <tr>\n",
              "      <th>1</th>\n",
              "      <td>0</td>\n",
              "      <td>13</td>\n",
              "      <td>2</td>\n",
              "    </tr>\n",
              "    <tr>\n",
              "      <th>2</th>\n",
              "      <td>0</td>\n",
              "      <td>4</td>\n",
              "      <td>2</td>\n",
              "    </tr>\n",
              "    <tr>\n",
              "      <th>3</th>\n",
              "      <td>0</td>\n",
              "      <td>2</td>\n",
              "      <td>2</td>\n",
              "    </tr>\n",
              "    <tr>\n",
              "      <th>4</th>\n",
              "      <td>0</td>\n",
              "      <td>7</td>\n",
              "      <td>1</td>\n",
              "    </tr>\n",
              "    <tr>\n",
              "      <th>...</th>\n",
              "      <td>...</td>\n",
              "      <td>...</td>\n",
              "      <td>...</td>\n",
              "    </tr>\n",
              "    <tr>\n",
              "      <th>9995</th>\n",
              "      <td>999</td>\n",
              "      <td>17</td>\n",
              "      <td>2</td>\n",
              "    </tr>\n",
              "    <tr>\n",
              "      <th>9996</th>\n",
              "      <td>999</td>\n",
              "      <td>2</td>\n",
              "      <td>2</td>\n",
              "    </tr>\n",
              "    <tr>\n",
              "      <th>9997</th>\n",
              "      <td>999</td>\n",
              "      <td>13</td>\n",
              "      <td>2</td>\n",
              "    </tr>\n",
              "    <tr>\n",
              "      <th>9998</th>\n",
              "      <td>999</td>\n",
              "      <td>14</td>\n",
              "      <td>2</td>\n",
              "    </tr>\n",
              "    <tr>\n",
              "      <th>9999</th>\n",
              "      <td>999</td>\n",
              "      <td>15</td>\n",
              "      <td>2</td>\n",
              "    </tr>\n",
              "  </tbody>\n",
              "</table>\n",
              "<p>10000 rows × 3 columns</p>\n",
              "</div>"
            ],
            "text/plain": [
              "      Tasca  Worker  Anotació\n",
              "0         0      14         2\n",
              "1         0      13         2\n",
              "2         0       4         2\n",
              "3         0       2         2\n",
              "4         0       7         1\n",
              "...     ...     ...       ...\n",
              "9995    999      17         2\n",
              "9996    999       2         2\n",
              "9997    999      13         2\n",
              "9998    999      14         2\n",
              "9999    999      15         2\n",
              "\n",
              "[10000 rows x 3 columns]"
            ]
          },
          "metadata": {
            "tags": []
          },
          "execution_count": 10
        }
      ]
    },
    {
      "cell_type": "code",
      "metadata": {
        "colab": {
          "base_uri": "https://localhost:8080/"
        },
        "id": "SdD6skCNzLml",
        "outputId": "8070c56f-9b41-4071-f4ee-2ccec2ab6cb1"
      },
      "source": [
        "anotacions=np.asarray(df['Anotació'])\n",
        "anotacions.shape"
      ],
      "execution_count": 13,
      "outputs": [
        {
          "output_type": "execute_result",
          "data": {
            "text/plain": [
              "(10000,)"
            ]
          },
          "metadata": {
            "tags": []
          },
          "execution_count": 13
        }
      ]
    },
    {
      "cell_type": "code",
      "metadata": {
        "colab": {
          "base_uri": "https://localhost:8080/"
        },
        "id": "g3NFlxIlzHjD",
        "outputId": "2e6b1c2c-6108-453e-b14a-68fd2ca734c0"
      },
      "source": [
        "x=np.zeros((1000,3),dtype=np.int)\n",
        "aux1=0\n",
        "aux2=0\n",
        "for i in range(anotacions.shape[0]):\n",
        "  aux2+=1\n",
        "  if anotacions[i]==0:\n",
        "    x[aux1][0]+=1\n",
        "  elif anotacions[i]==1:\n",
        "    x[aux1][1]+=1\n",
        "  elif anotacions[i]==2:\n",
        "    x[aux1][2]+=1\n",
        "  if aux2==10:\n",
        "    aux2=0\n",
        "    aux1+=1\n",
        "print(x)\n",
        "print(x.shape)\n",
        "\n"
      ],
      "execution_count": 14,
      "outputs": [
        {
          "output_type": "stream",
          "text": [
            "[[ 0  1  9]\n",
            " [ 7  1  2]\n",
            " [ 1  2  7]\n",
            " ...\n",
            " [ 1  8  1]\n",
            " [ 1  0  9]\n",
            " [ 0  0 10]]\n",
            "(1000, 3)\n"
          ],
          "name": "stdout"
        }
      ]
    },
    {
      "cell_type": "code",
      "metadata": {
        "colab": {
          "base_uri": "https://localhost:8080/"
        },
        "id": "rYpW4n2cy7kf",
        "outputId": "bf4f9ca5-34df-4957-a342-2648ec8eb19c"
      },
      "source": [
        "pi_ini = np.eye(3)+0.05\n",
        "pi_ini /= np.sum(pi_ini,axis=1)\n",
        "print(pi_ini)\n",
        "dades_inicials={'pi':pi_ini}"
      ],
      "execution_count": 15,
      "outputs": [
        {
          "output_type": "stream",
          "text": [
            "[[0.91304348 0.04347826 0.04347826]\n",
            " [0.04347826 0.91304348 0.04347826]\n",
            " [0.04347826 0.04347826 0.91304348]]\n"
          ],
          "name": "stdout"
        }
      ]
    },
    {
      "cell_type": "code",
      "metadata": {
        "id": "wrFFJ950y7h1"
      },
      "source": [
        "n=x.shape[0]\n",
        "l=x.shape[1]\n",
        "prior_p = np.array([1,1,1])\n",
        "prior_pi = np.array([1,1,1])\n",
        "dades2={'n':n,'x':x,'k': l,'prior_p':prior_p,'prior_pi':prior_pi}"
      ],
      "execution_count": 18,
      "outputs": []
    },
    {
      "cell_type": "code",
      "metadata": {
        "colab": {
          "base_uri": "https://localhost:8080/"
        },
        "id": "G2J4B2IUy7fJ",
        "outputId": "ab69f20c-fdfe-4478-e7f5-392e450098f0"
      },
      "source": [
        "opt= sm.optimizing(data=dades2,init=dades_inicials)\n",
        "opt"
      ],
      "execution_count": 22,
      "outputs": [
        {
          "output_type": "execute_result",
          "data": {
            "text/plain": [
              "OrderedDict([('p', array([0.11447845, 0.29650916, 0.58901239])),\n",
              "             ('pi', array([[0.68293363, 0.10402475, 0.21304162],\n",
              "                     [0.21832192, 0.59436654, 0.18731154],\n",
              "                     [0.09335238, 0.10484805, 0.80179957]])),\n",
              "             ('log_tc', array([[-16.04431946, -14.50818964,  -2.47003565],\n",
              "                     [ -4.30642971,  -9.85228862, -13.93985762],\n",
              "                     [-12.01274909,  -9.61675029,  -3.07134048],\n",
              "                     ...,\n",
              "                     [-17.70019558,  -4.07470679, -16.66371382],\n",
              "                     [-14.16255066, -15.50971518,  -2.58616643],\n",
              "                     [-17.63004587, -17.96549771,  -2.73827425]])),\n",
              "             ('tc',\n",
              "              array([2., 1., 2., 3., 1., 3., 1., 1., 3., 3., 1., 2., 3., 3., 2., 3., 2.,\n",
              "                     1., 3., 2., 2., 1., 3., 1., 1., 1., 1., 3., 3., 3., 1., 1., 3., 3.,\n",
              "                     2., 1., 3., 3., 1., 2., 2., 1., 3., 2., 2., 1., 1., 2., 2., 2., 1.,\n",
              "                     3., 3., 3., 3., 2., 1., 3., 3., 3., 1., 3., 3., 3., 3., 3., 2., 3.,\n",
              "                     2., 2., 3., 2., 2., 1., 1., 2., 2., 3., 3., 3., 2., 3., 1., 1., 2.,\n",
              "                     3., 3., 1., 2., 3., 2., 3., 3., 3., 1., 3., 2., 2., 3., 3., 3., 2.,\n",
              "                     1., 1., 3., 2., 3., 2., 2., 3., 2., 1., 3., 3., 3., 1., 3., 1., 3.,\n",
              "                     3., 2., 1., 2., 1., 2., 3., 1., 3., 2., 2., 3., 2., 3., 2., 1., 2.,\n",
              "                     2., 3., 2., 2., 3., 2., 2., 2., 1., 2., 1., 3., 3., 3., 1., 1., 2.,\n",
              "                     2., 3., 1., 2., 3., 3., 3., 2., 1., 3., 3., 3., 2., 2., 2., 3., 3.,\n",
              "                     3., 1., 2., 3., 3., 3., 3., 3., 3., 1., 1., 1., 1., 1., 3., 3., 3.,\n",
              "                     2., 3., 1., 2., 1., 3., 1., 3., 3., 3., 3., 2., 2., 2., 3., 3., 3.,\n",
              "                     1., 2., 3., 2., 2., 1., 1., 2., 3., 1., 1., 1., 2., 2., 2., 2., 2.,\n",
              "                     1., 3., 3., 2., 2., 1., 3., 2., 2., 1., 3., 3., 2., 2., 2., 3., 3.,\n",
              "                     2., 2., 3., 3., 3., 2., 2., 3., 1., 3., 3., 3., 1., 3., 2., 2., 1.,\n",
              "                     1., 2., 2., 1., 1., 2., 3., 1., 2., 3., 2., 2., 1., 2., 2., 3., 2.,\n",
              "                     3., 2., 2., 1., 3., 2., 2., 1., 1., 3., 3., 3., 3., 3., 3., 3., 3.,\n",
              "                     2., 1., 2., 1., 3., 3., 1., 1., 2., 3., 2., 3., 2., 3., 1., 3., 2.,\n",
              "                     3., 3., 1., 3., 2., 3., 2., 2., 3., 3., 1., 1., 2., 3., 1., 2., 1.,\n",
              "                     2., 2., 1., 3., 3., 1., 1., 3., 3., 1., 3., 3., 2., 1., 1., 2., 2.,\n",
              "                     3., 3., 1., 3., 3., 1., 1., 3., 1., 3., 2., 1., 3., 1., 3., 2., 1.,\n",
              "                     1., 3., 3., 2., 1., 1., 3., 3., 1., 1., 2., 1., 3., 1., 1., 3., 2.,\n",
              "                     2., 3., 2., 3., 3., 2., 2., 3., 1., 2., 3., 1., 1., 2., 3., 2., 2.,\n",
              "                     1., 2., 3., 1., 1., 1., 2., 1., 3., 1., 1., 3., 1., 1., 3., 1., 1.,\n",
              "                     2., 1., 3., 1., 2., 3., 3., 2., 1., 1., 3., 3., 3., 2., 2., 3., 3.,\n",
              "                     2., 3., 3., 3., 2., 2., 2., 1., 2., 2., 1., 3., 3., 3., 3., 1., 2.,\n",
              "                     2., 3., 2., 2., 3., 1., 1., 1., 3., 1., 3., 3., 3., 2., 3., 2., 1.,\n",
              "                     3., 1., 3., 1., 2., 1., 2., 2., 3., 3., 1., 3., 3., 3., 1., 1., 3.,\n",
              "                     1., 3., 2., 3., 3., 3., 1., 2., 1., 1., 3., 1., 1., 1., 2., 2., 3.,\n",
              "                     3., 1., 3., 2., 3., 2., 2., 3., 2., 2., 2., 3., 2., 3., 3., 3., 3.,\n",
              "                     3., 3., 1., 3., 2., 2., 3., 2., 2., 3., 2., 1., 2., 2., 2., 3., 3.,\n",
              "                     1., 2., 3., 1., 3., 2., 3., 1., 1., 3., 2., 3., 3., 3., 2., 2., 3.,\n",
              "                     1., 2., 1., 3., 2., 2., 2., 3., 1., 3., 2., 2., 3., 2., 3., 3., 2.,\n",
              "                     1., 3., 3., 2., 3., 1., 2., 3., 3., 3., 2., 1., 1., 1., 3., 3., 3.,\n",
              "                     3., 2., 3., 2., 1., 3., 2., 1., 3., 3., 3., 1., 3., 2., 2., 3., 3.,\n",
              "                     1., 3., 1., 3., 2., 2., 2., 1., 2., 1., 3., 2., 2., 3., 2., 3., 3.,\n",
              "                     2., 2., 3., 3., 1., 1., 1., 3., 3., 3., 1., 2., 1., 1., 3., 2., 3.,\n",
              "                     3., 3., 2., 1., 3., 2., 3., 3., 3., 3., 3., 1., 2., 1., 1., 3., 1.,\n",
              "                     2., 1., 1., 1., 2., 1., 2., 1., 1., 1., 2., 3., 3., 1., 3., 3., 1.,\n",
              "                     1., 2., 3., 1., 3., 1., 3., 3., 3., 3., 3., 1., 3., 3., 3., 2., 1.,\n",
              "                     3., 3., 3., 3., 1., 2., 3., 2., 3., 2., 3., 3., 3., 2., 1., 2., 2.,\n",
              "                     1., 2., 3., 3., 2., 2., 1., 1., 3., 1., 1., 3., 1., 2., 2., 3., 3.,\n",
              "                     2., 3., 2., 3., 1., 2., 3., 3., 2., 1., 1., 3., 3., 3., 1., 1., 3.,\n",
              "                     3., 3., 2., 3., 3., 3., 1., 2., 2., 2., 1., 2., 1., 3., 2., 3., 2.,\n",
              "                     1., 1., 3., 1., 3., 1., 3., 2., 3., 2., 2., 2., 2., 2., 2., 3., 3.,\n",
              "                     3., 3., 1., 2., 2., 2., 2., 2., 2., 3., 1., 1., 1., 3., 3., 3., 2.,\n",
              "                     1., 1., 2., 1., 3., 1., 3., 3., 1., 3., 3., 3., 2., 1., 2., 2., 1.,\n",
              "                     3., 3., 2., 3., 2., 3., 2., 1., 2., 3., 3., 2., 3., 2., 2., 2., 2.,\n",
              "                     3., 2., 2., 1., 3., 2., 3., 3., 3., 3., 2., 3., 3., 2., 2., 1., 2.,\n",
              "                     3., 2., 2., 2., 3., 3., 2., 2., 3., 2., 3., 2., 1., 2., 3., 3., 3.,\n",
              "                     2., 3., 3., 3., 2., 3., 3., 3., 1., 2., 1., 1., 3., 3., 3., 1., 3.,\n",
              "                     3., 3., 3., 2., 3., 1., 3., 1., 3., 3., 1., 1., 1., 2., 3., 3., 1.,\n",
              "                     2., 3., 2., 2., 2., 3., 2., 2., 2., 1., 2., 2., 2., 3., 2., 1., 2.,\n",
              "                     3., 1., 3., 2., 3., 2., 2., 2., 2., 1., 3., 3., 2., 3., 2., 2., 3.,\n",
              "                     3., 1., 2., 2., 2., 1., 3., 2., 2., 2., 2., 3., 2., 2., 3., 2., 3.,\n",
              "                     3., 1., 2., 2., 3., 1., 2., 3., 1., 1., 1., 3., 1., 1., 3., 2., 1.,\n",
              "                     3., 3., 2., 2., 2., 2., 1., 1., 2., 3., 3., 3., 1., 3., 3., 2., 3.,\n",
              "                     2., 3., 2., 3., 3., 2., 3., 3., 2., 2., 3., 3., 3., 3., 3., 3., 3.,\n",
              "                     3., 3., 3., 2., 3., 2., 3., 3., 2., 3., 3., 3., 2., 3.]))])"
            ]
          },
          "metadata": {
            "tags": []
          },
          "execution_count": 22
        }
      ]
    },
    {
      "cell_type": "code",
      "metadata": {
        "id": "FKhzKEmpy6xy"
      },
      "source": [
        ""
      ],
      "execution_count": null,
      "outputs": []
    }
  ]
}