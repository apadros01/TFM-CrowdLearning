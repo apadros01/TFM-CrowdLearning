{
  "nbformat": 4,
  "nbformat_minor": 0,
  "metadata": {
    "colab": {
      "name": "generate_data.ipynb",
      "provenance": [],
      "collapsed_sections": [],
      "machine_shape": "hm"
    },
    "kernelspec": {
      "display_name": "Python 3",
      "name": "python3"
    },
    "language_info": {
      "name": "python"
    }
  },
  "cells": [
    {
      "cell_type": "code",
      "metadata": {
        "colab": {
          "base_uri": "https://localhost:8080/"
        },
        "id": "Zvd6ahaakjhp",
        "outputId": "817c8eb3-8368-45ac-9fdd-a032a73399a7"
      },
      "source": [
        "pip install arviz"
      ],
      "execution_count": null,
      "outputs": [
        {
          "output_type": "stream",
          "text": [
            "Requirement already satisfied: arviz in /usr/local/lib/python3.7/dist-packages (0.11.2)\n",
            "Requirement already satisfied: setuptools>=38.4 in /usr/local/lib/python3.7/dist-packages (from arviz) (57.0.0)\n",
            "Requirement already satisfied: netcdf4 in /usr/local/lib/python3.7/dist-packages (from arviz) (1.5.6)\n",
            "Requirement already satisfied: typing-extensions<4,>=3.7.4.3 in /usr/local/lib/python3.7/dist-packages (from arviz) (3.7.4.3)\n",
            "Requirement already satisfied: packaging in /usr/local/lib/python3.7/dist-packages (from arviz) (20.9)\n",
            "Requirement already satisfied: numpy>=1.12 in /usr/local/lib/python3.7/dist-packages (from arviz) (1.19.5)\n",
            "Requirement already satisfied: pandas>=0.23 in /usr/local/lib/python3.7/dist-packages (from arviz) (1.1.5)\n",
            "Requirement already satisfied: scipy>=0.19 in /usr/local/lib/python3.7/dist-packages (from arviz) (1.4.1)\n",
            "Requirement already satisfied: xarray>=0.16.1 in /usr/local/lib/python3.7/dist-packages (from arviz) (0.18.2)\n",
            "Requirement already satisfied: matplotlib>=3.0 in /usr/local/lib/python3.7/dist-packages (from arviz) (3.2.2)\n",
            "Requirement already satisfied: cftime in /usr/local/lib/python3.7/dist-packages (from netcdf4->arviz) (1.5.0)\n",
            "Requirement already satisfied: pyparsing>=2.0.2 in /usr/local/lib/python3.7/dist-packages (from packaging->arviz) (2.4.7)\n",
            "Requirement already satisfied: python-dateutil>=2.7.3 in /usr/local/lib/python3.7/dist-packages (from pandas>=0.23->arviz) (2.8.1)\n",
            "Requirement already satisfied: pytz>=2017.2 in /usr/local/lib/python3.7/dist-packages (from pandas>=0.23->arviz) (2018.9)\n",
            "Requirement already satisfied: kiwisolver>=1.0.1 in /usr/local/lib/python3.7/dist-packages (from matplotlib>=3.0->arviz) (1.3.1)\n",
            "Requirement already satisfied: cycler>=0.10 in /usr/local/lib/python3.7/dist-packages (from matplotlib>=3.0->arviz) (0.10.0)\n",
            "Requirement already satisfied: six>=1.5 in /usr/local/lib/python3.7/dist-packages (from python-dateutil>=2.7.3->pandas>=0.23->arviz) (1.15.0)\n"
          ],
          "name": "stdout"
        }
      ]
    },
    {
      "cell_type": "code",
      "metadata": {
        "id": "BDHXBSn2ktzY"
      },
      "source": [
        "import pystan\n",
        "import numpy as np\n",
        "import matplotlib.pyplot as plt\n",
        "import arviz\n",
        "import pickle\n",
        "import cmdstanpy\n",
        "import json\n",
        "import copy\n",
        "import pandas as pd"
      ],
      "execution_count": null,
      "outputs": []
    },
    {
      "cell_type": "code",
      "metadata": {
        "id": "5dO2GQxQktwf"
      },
      "source": [
        "with open('/content/drive/MyDrive/TFM-Crowd learning/multinomial.json') as json_file:\n",
        "    data = json.load(json_file)"
      ],
      "execution_count": null,
      "outputs": []
    },
    {
      "cell_type": "code",
      "metadata": {
        "colab": {
          "base_uri": "https://localhost:8080/",
          "height": 402
        },
        "id": "fLVHjNWfktt5",
        "outputId": "819d12dd-283c-49ce-8ce5-db00b6348363"
      },
      "source": [
        "dades={'Tasca': data['t_A'], 'Worker': data['w_A'], 'Anotació': data['ann'] }\n",
        "df = pd.DataFrame(data=dades)\n",
        "df"
      ],
      "execution_count": null,
      "outputs": [
        {
          "output_type": "execute_result",
          "data": {
            "text/html": [
              "<div>\n",
              "<style scoped>\n",
              "    .dataframe tbody tr th:only-of-type {\n",
              "        vertical-align: middle;\n",
              "    }\n",
              "\n",
              "    .dataframe tbody tr th {\n",
              "        vertical-align: top;\n",
              "    }\n",
              "\n",
              "    .dataframe thead th {\n",
              "        text-align: right;\n",
              "    }\n",
              "</style>\n",
              "<table border=\"1\" class=\"dataframe\">\n",
              "  <thead>\n",
              "    <tr style=\"text-align: right;\">\n",
              "      <th></th>\n",
              "      <th>Tasca</th>\n",
              "      <th>Worker</th>\n",
              "      <th>Anotació</th>\n",
              "    </tr>\n",
              "  </thead>\n",
              "  <tbody>\n",
              "    <tr>\n",
              "      <th>0</th>\n",
              "      <td>0</td>\n",
              "      <td>14</td>\n",
              "      <td>2</td>\n",
              "    </tr>\n",
              "    <tr>\n",
              "      <th>1</th>\n",
              "      <td>0</td>\n",
              "      <td>13</td>\n",
              "      <td>2</td>\n",
              "    </tr>\n",
              "    <tr>\n",
              "      <th>2</th>\n",
              "      <td>0</td>\n",
              "      <td>4</td>\n",
              "      <td>2</td>\n",
              "    </tr>\n",
              "    <tr>\n",
              "      <th>3</th>\n",
              "      <td>0</td>\n",
              "      <td>2</td>\n",
              "      <td>2</td>\n",
              "    </tr>\n",
              "    <tr>\n",
              "      <th>4</th>\n",
              "      <td>0</td>\n",
              "      <td>7</td>\n",
              "      <td>1</td>\n",
              "    </tr>\n",
              "    <tr>\n",
              "      <th>...</th>\n",
              "      <td>...</td>\n",
              "      <td>...</td>\n",
              "      <td>...</td>\n",
              "    </tr>\n",
              "    <tr>\n",
              "      <th>9995</th>\n",
              "      <td>999</td>\n",
              "      <td>17</td>\n",
              "      <td>2</td>\n",
              "    </tr>\n",
              "    <tr>\n",
              "      <th>9996</th>\n",
              "      <td>999</td>\n",
              "      <td>2</td>\n",
              "      <td>2</td>\n",
              "    </tr>\n",
              "    <tr>\n",
              "      <th>9997</th>\n",
              "      <td>999</td>\n",
              "      <td>13</td>\n",
              "      <td>2</td>\n",
              "    </tr>\n",
              "    <tr>\n",
              "      <th>9998</th>\n",
              "      <td>999</td>\n",
              "      <td>14</td>\n",
              "      <td>2</td>\n",
              "    </tr>\n",
              "    <tr>\n",
              "      <th>9999</th>\n",
              "      <td>999</td>\n",
              "      <td>15</td>\n",
              "      <td>2</td>\n",
              "    </tr>\n",
              "  </tbody>\n",
              "</table>\n",
              "<p>10000 rows × 3 columns</p>\n",
              "</div>"
            ],
            "text/plain": [
              "      Tasca  Worker  Anotació\n",
              "0         0      14         2\n",
              "1         0      13         2\n",
              "2         0       4         2\n",
              "3         0       2         2\n",
              "4         0       7         1\n",
              "...     ...     ...       ...\n",
              "9995    999      17         2\n",
              "9996    999       2         2\n",
              "9997    999      13         2\n",
              "9998    999      14         2\n",
              "9999    999      15         2\n",
              "\n",
              "[10000 rows x 3 columns]"
            ]
          },
          "metadata": {
            "tags": []
          },
          "execution_count": 4
        }
      ]
    },
    {
      "cell_type": "code",
      "metadata": {
        "colab": {
          "base_uri": "https://localhost:8080/"
        },
        "id": "ipQHTJwhktrD",
        "outputId": "4ed4b30d-ad5d-4b02-f86e-2805a10ece25"
      },
      "source": [
        "sm_general = pystan.StanModel(file='/content/drive/MyDrive/TFM-Crowd learning/Fitxers STAN/general_dawid-skene.stan')\n"
      ],
      "execution_count": null,
      "outputs": [
        {
          "output_type": "stream",
          "text": [
            "INFO:pystan:COMPILING THE C++ CODE FOR MODEL anon_model_b3b91d5d08ea08e32e8380bfec8b2a00 NOW.\n"
          ],
          "name": "stderr"
        }
      ]
    },
    {
      "cell_type": "code",
      "metadata": {
        "id": "oSBEtAe9ktob"
      },
      "source": [
        "w = len(np.unique(df['Worker']))\n",
        "t = len(np.unique(df['Tasca']))\n",
        "a = len(df['Anotació'])\n",
        "k = len(np.unique(df['Anotació']))\n",
        "t_A = np.array(df['Tasca'])+1\n",
        "w_A = np.array(df['Worker'])+1\n",
        "ann = np.array(df['Anotació'])+1\n",
        "tau_prior = np.array([1,1,1])\n",
        "pi_prior = np.ones((k,k))\n",
        "\n",
        "dades_sm_gen = {'w':w,'t':t,'a':a,'k':k,'t_A':t_A,'w_A':w_A,'ann':ann,'tau_prior':tau_prior,'pi_prior':pi_prior} "
      ],
      "execution_count": null,
      "outputs": []
    },
    {
      "cell_type": "code",
      "metadata": {
        "id": "dmTtmx-2ktlp"
      },
      "source": [
        "pi_ini = np.zeros((w,k,k))\n",
        "for yw in range(w):\n",
        "  pi_ini[yw] = np.eye(k)+0.05\n",
        "  pi_ini[yw] /= np.sum(pi_ini[yw],axis=1)\n",
        "dades_inicials_gen = {'pi':pi_ini}"
      ],
      "execution_count": null,
      "outputs": []
    },
    {
      "cell_type": "code",
      "metadata": {
        "colab": {
          "base_uri": "https://localhost:8080/"
        },
        "id": "jFKi4SRhktit",
        "outputId": "d15d0a48-37a1-4110-d54e-887da19d50ac"
      },
      "source": [
        "optim = sm_general.optimizing(data=dades_sm_gen,init=dades_inicials_gen)\n",
        "optim"
      ],
      "execution_count": null,
      "outputs": [
        {
          "output_type": "execute_result",
          "data": {
            "text/plain": [
              "OrderedDict([('tau', array([0.11255439, 0.29707807, 0.59036754])),\n",
              "             ('pi', array([[[0.85030393, 0.07912402, 0.07057205],\n",
              "                      [0.2190914 , 0.58873216, 0.19217643],\n",
              "                      [0.14764806, 0.09130008, 0.76105187]],\n",
              "              \n",
              "                     [[0.65428744, 0.12651689, 0.21919568],\n",
              "                      [0.30767997, 0.51725506, 0.17506497],\n",
              "                      [0.13056934, 0.11073742, 0.75869324]],\n",
              "              \n",
              "                     [[0.62411089, 0.08478025, 0.29110886],\n",
              "                      [0.21375239, 0.60219209, 0.18405553],\n",
              "                      [0.07409223, 0.10849206, 0.8174157 ]],\n",
              "              \n",
              "                     [[0.69221724, 0.09323093, 0.21455183],\n",
              "                      [0.19745893, 0.63426118, 0.16827989],\n",
              "                      [0.09578798, 0.13825148, 0.76596054]],\n",
              "              \n",
              "                     [[0.55527261, 0.16266821, 0.28205918],\n",
              "                      [0.22260538, 0.63068554, 0.14670908],\n",
              "                      [0.08058695, 0.12261348, 0.79679957]],\n",
              "              \n",
              "                     [[0.59565955, 0.098254  , 0.30608645],\n",
              "                      [0.20057738, 0.5773847 , 0.22203792],\n",
              "                      [0.09020413, 0.09381211, 0.81598376]],\n",
              "              \n",
              "                     [[0.64338867, 0.15136751, 0.20524383],\n",
              "                      [0.16929851, 0.60497138, 0.22573011],\n",
              "                      [0.09377898, 0.08709454, 0.81912648]],\n",
              "              \n",
              "                     [[0.7020581 , 0.07975594, 0.21818595],\n",
              "                      [0.24755906, 0.54840329, 0.20403765],\n",
              "                      [0.06791561, 0.10967417, 0.82241022]],\n",
              "              \n",
              "                     [[0.70357202, 0.12979127, 0.16663671],\n",
              "                      [0.19032069, 0.61225   , 0.1974293 ],\n",
              "                      [0.10336381, 0.07138479, 0.8252514 ]],\n",
              "              \n",
              "                     [[0.59195708, 0.24419073, 0.16385219],\n",
              "                      [0.25649076, 0.53023588, 0.21327336],\n",
              "                      [0.11073087, 0.09560904, 0.79366009]],\n",
              "              \n",
              "                     [[0.81299383, 0.04049444, 0.14651173],\n",
              "                      [0.19494795, 0.64089924, 0.1641528 ],\n",
              "                      [0.09014563, 0.12478804, 0.78506633]],\n",
              "              \n",
              "                     [[0.60304599, 0.10717254, 0.28978147],\n",
              "                      [0.20813377, 0.56436357, 0.22750266],\n",
              "                      [0.08586075, 0.10709169, 0.80704756]],\n",
              "              \n",
              "                     [[0.73074452, 0.12213955, 0.14711593],\n",
              "                      [0.20705964, 0.62627262, 0.16666774],\n",
              "                      [0.10563034, 0.10201447, 0.79235519]],\n",
              "              \n",
              "                     [[0.71624524, 0.14123742, 0.14251734],\n",
              "                      [0.20966969, 0.62033998, 0.16999033],\n",
              "                      [0.04104643, 0.09876891, 0.86018467]],\n",
              "              \n",
              "                     [[0.82878037, 0.03629729, 0.13492234],\n",
              "                      [0.18705059, 0.62619012, 0.18675929],\n",
              "                      [0.09612937, 0.07809983, 0.82577081]],\n",
              "              \n",
              "                     [[0.60085022, 0.07858432, 0.32056546],\n",
              "                      [0.24247724, 0.60067075, 0.15685201],\n",
              "                      [0.07376714, 0.11194654, 0.81428633]],\n",
              "              \n",
              "                     [[0.71555584, 0.06457157, 0.21987259],\n",
              "                      [0.21657372, 0.63663833, 0.14678796],\n",
              "                      [0.09842147, 0.11524238, 0.78633614]],\n",
              "              \n",
              "                     [[0.72367312, 0.08670093, 0.18962595],\n",
              "                      [0.26255817, 0.53112405, 0.20631777],\n",
              "                      [0.10162281, 0.12083193, 0.77754526]],\n",
              "              \n",
              "                     [[0.72818608, 0.03361121, 0.23820271],\n",
              "                      [0.21048759, 0.59457802, 0.19493439],\n",
              "                      [0.08765003, 0.11162819, 0.80072178]],\n",
              "              \n",
              "                     [[0.71868657, 0.07807766, 0.20323577],\n",
              "                      [0.22712678, 0.58590952, 0.18696371],\n",
              "                      [0.10261387, 0.10373109, 0.79365504]]])),\n",
              "             ('log_p_t_C', array([[-19.24709505, -17.92304465,  -4.6597103 ],\n",
              "                     [ -9.26081485, -15.2089767 , -21.39087838],\n",
              "                     [-20.02390457, -15.25218517,  -8.69512516],\n",
              "                     ...,\n",
              "                     [-24.67511925,  -8.74617755, -20.46297296],\n",
              "                     [-17.56601001, -18.13053474,  -4.92913748],\n",
              "                     [-18.31510845, -17.78500427,  -2.64580323]])),\n",
              "             ('t_C', array([[4.62145090e-07, 1.73702524e-06, 9.99997801e-01],\n",
              "                     [9.97390796e-01, 2.60382317e-03, 5.38078578e-06],\n",
              "                     [1.20047224e-05, 1.41802381e-03, 9.98569971e-01],\n",
              "                     ...,\n",
              "                     [1.20821695e-07, 9.99991724e-01, 8.15561687e-06],\n",
              "                     [3.24992829e-06, 1.84800781e-06, 9.99994902e-01],\n",
              "                     [1.56641568e-07, 2.66151149e-07, 9.99999577e-01]]))])"
            ]
          },
          "metadata": {
            "tags": []
          },
          "execution_count": 8
        }
      ]
    },
    {
      "cell_type": "code",
      "metadata": {
        "colab": {
          "base_uri": "https://localhost:8080/"
        },
        "id": "LklJFvHIktXf",
        "outputId": "db57261e-2626-46f1-954a-4b18357f729d"
      },
      "source": [
        "sm_gener_data = pystan.StanModel(file='/content/drive/MyDrive/TFM-Crowd learning/Fitxers STAN/generate_data.stan')\n"
      ],
      "execution_count": null,
      "outputs": [
        {
          "output_type": "stream",
          "text": [
            "INFO:pystan:COMPILING THE C++ CODE FOR MODEL anon_model_8251fcac44b8988cc03b6a3bfb75909e NOW.\n"
          ],
          "name": "stderr"
        }
      ]
    },
    {
      "cell_type": "markdown",
      "metadata": {
        "id": "5q_W_QfdbBRU"
      },
      "source": [
        "## Functions"
      ]
    },
    {
      "cell_type": "code",
      "metadata": {
        "id": "JqHwODkTbEsq"
      },
      "source": [
        "import random \n",
        "from scipy.stats import entropy\n",
        "\n",
        "def generate_new_data(opt,k):\n",
        "  results = opt['ann']-1\n",
        "  results=np.where(results<0,np.nan,results)\n",
        "  diction = {}\n",
        "  for i in range(k):\n",
        "    diction[\"where_{0}_task\".format(i)] = np.where(results==i)[0]\n",
        "    diction[\"where_{0}_worker\".format(i)] = np.where(results==i)[1]\n",
        "    diction[\"annotation_{0}\".format(i)] = np.full(len(diction[\"where_{0}_task\".format(i)]), fill_value=i, dtype = np.int)\n",
        "  tasks_col = np.concatenate([diction[\"where_{0}_task\".format(i)] for i in range(k)])\n",
        "  workers_col = np.concatenate([diction[\"where_{0}_worker\".format(i)] for i in range(k)])\n",
        "  annotatios_col = np.concatenate([diction[\"annotation_{0}\".format(i)] for i in range(k)])\n",
        "  d = {'Tasca': tasks_col, 'Worker': workers_col, 'Anotació':annotatios_col}\n",
        "  return pd.DataFrame(d).sort_values(by='Tasca')\n",
        "\n",
        "def generate_permutation(perm):\n",
        "    l=list(perm)\n",
        "    uniques=[k for k in l if l.count(k)==1]\n",
        "    if len(uniques)==len(l): \n",
        "      return np.array(l)\n",
        "    existing=list(set(l))\n",
        "    rank=list(range(len(l)))\n",
        "    missing=[x for x in rank if x not in existing]\n",
        "    corrected=[]\n",
        "    for k in range(len(l)):\n",
        "        if l[k] not in uniques:\n",
        "            if l[k] not in corrected:\n",
        "                if l[l[k]]==l[k]:\n",
        "                    if k!=l[k]:\n",
        "                        l[k]=missing[0]\n",
        "                        missing.pop(0)\n",
        "                    else:\n",
        "                        corrected.append(l[k])\n",
        "                else:\n",
        "                    corrected.append(l[k])\n",
        "            else:\n",
        "                l[k]=missing[0]\n",
        "                missing.pop(0)\n",
        "        else:\n",
        "          continue\n",
        "    return np.array(l)\n",
        "\n",
        "def pipeline(t,ann_per_task,tau,pi,tau_prior,pi_prior,sm_generate = sm_gener_data,sm2 = sm_general ):\n",
        "  w = pi.shape[0]\n",
        "  k = pi.shape[1]\n",
        "  workers_random_order = []\n",
        "  for i in range(t):\n",
        "    workers=np.arange(1,w+1)\n",
        "    random.shuffle(workers)\n",
        "    workers_random_order.append(workers)\n",
        "  data_to_pass = {'w':w,'t':t,'k':k,'tau':tau,'ann_per_task':ann_per_task,'workers_random_order':workers_random_order,'pi':pi} \n",
        "  generated_data = sm_generate.optimizing(data=data_to_pass)\n",
        "  generated_data_df = generate_new_data(generated_data,k)\n",
        "  a = len(generated_data_df['Anotació'])\n",
        "  t_A = np.array(generated_data_df['Tasca'])+1\n",
        "  w_A = np.array(generated_data_df['Worker'])+1\n",
        "  ann = np.array(generated_data_df['Anotació'])+1\n",
        "  data_to_pass_2 = {'w':w,'t':t,'a':a,'k':k,'t_A':t_A,'w_A':w_A,'ann':ann,'tau_prior':tau_prior,'pi_prior':pi_prior} \n",
        "  params = sm2.optimizing(data=data_to_pass_2)\n",
        "  return params\n",
        "\n",
        "def kullback_leibler_tau(tau_init,tau_hat):\n",
        "  entrop = entropy(pk = tau_init, qk = tau_hat)\n",
        "  if entrop == np.nan or entrop == np.inf: #should never enter here\n",
        "    return 100 \n",
        "  else:\n",
        "    return entrop\n",
        "\n",
        "def kullback_leibler_pi(pi_init,pi_hat):\n",
        "  KL_values = []\n",
        "  for i in range(len(pi_init)):\n",
        "    entrop = entropy(pk = pi_init[i], qk = pi_hat[i])\n",
        "    if np.isinf(entrop).all() ==True or np.isnan(entrop).all()==True:  #should never enter here\n",
        "      continue\n",
        "    KL_values.append(np.nanmax(entrop[entrop != np.inf]))\n",
        "  \n",
        "  if not KL_values: #if array is empty\n",
        "    return 100 #case where it has worked horrible, should never enter here\n",
        "  else:\n",
        "    return np.nanmedian(KL_values)\n",
        "\n",
        "\n",
        "def correct_label_switching(tau,pi):\n",
        "  acumulacio_permutacions=[]\n",
        "\n",
        "  new_pi = copy.deepcopy(pi)\n",
        "  new_tau = copy.deepcopy(tau)\n",
        "\n",
        "\n",
        "  for w in range(len(pi)):\n",
        "    on_hauria_danar = np.argmax(pi[w],axis=1)\n",
        "    acumulacio_permutacions.append(on_hauria_danar)\n",
        "\n",
        "  #we determine the winner permutation in order to apply it to tau and pi\n",
        "  values, counts = np.unique(acumulacio_permutacions,axis=0, return_counts=True)\n",
        "  ind = np.argmax(counts)\n",
        "  permutacio = values[ind]\n",
        "\n",
        "  #fix (if necessary) the obtained permutation (the result is an array!)\n",
        "  good_permutation = generate_permutation(permutacio)\n",
        "\n",
        "  #update pi\n",
        "  for w in range(len(pi)):\n",
        "    new_pi[w,good_permutation,:] = pi[w,np.arange(len(pi[w])),:]\n",
        "\n",
        "  #update tau\n",
        "  for i in range(len(tau)):\n",
        "    new_tau[good_permutation[i]] = tau[i]\n",
        "\n",
        "  return new_tau,new_pi\n",
        "\n",
        "\n",
        "def get_KL_values(tau,pi,exp):\n",
        "  exps =  copy.deepcopy(exp)\n",
        "  tau_hat = exps['tau']\n",
        "  pi_hat = exps['pi']\n",
        "  KL_tau_no_LS = kullback_leibler_tau(tau,tau_hat)\n",
        "  KL_pi_no_LS = kullback_leibler_pi(pi,pi_hat)\n",
        "  new_tau_hat,new_pi_hat = correct_label_switching(tau_hat,pi_hat)\n",
        "  KL_tau_LS = kullback_leibler_tau(tau,new_tau_hat)\n",
        "  KL_pi_LS = kullback_leibler_pi(pi,new_pi_hat)\n",
        "  return KL_tau_no_LS,KL_pi_no_LS,KL_tau_LS,KL_pi_LS\n",
        "\n",
        "def experiment_repetition(t,ann_per_task,tau,pi,tau_prior,pi_prior,num_repetitions=500):\n",
        "  KL_tau_no_LS_values=[]\n",
        "  KL_pi_no_LS_values=[]\n",
        "  KL_tau_LS_values=[]\n",
        "  KL_pi_LS_values=[]\n",
        "  for i in range(num_repetitions):\n",
        "    exp = pipeline(t,ann_per_task,tau,pi,tau_prior,pi_prior)\n",
        "    KL_tau_no_LS,KL_pi_no_LS,KL_tau_LS,KL_pi_LS = get_KL_values(tau,pi,exp)\n",
        "    KL_tau_no_LS_values.append(KL_tau_no_LS)\n",
        "    KL_pi_no_LS_values.append(KL_pi_no_LS)\n",
        "    KL_tau_LS_values.append(KL_tau_LS)\n",
        "    KL_pi_LS_values.append(KL_pi_LS)\n",
        "  return KL_tau_no_LS_values,KL_pi_no_LS_values,KL_tau_LS_values,KL_pi_LS_values\n",
        "\n"
      ],
      "execution_count": null,
      "outputs": []
    },
    {
      "cell_type": "markdown",
      "metadata": {
        "id": "n60QV8kN3bv5"
      },
      "source": [
        "## Data from multinomial.json\n",
        "\n"
      ]
    },
    {
      "cell_type": "code",
      "metadata": {
        "id": "x3RYmtkARj-A"
      },
      "source": [
        "#PIPELINE CELL\n",
        "k = len(np.unique(df['Anotació']))\n",
        "tau_prior = np.full(shape=k,fill_value=1)\n",
        "pi_prior = np.ones((k,k))\n",
        "KL_tau_no_LS_values=[]\n",
        "KL_pi_no_LS_values=[]\n",
        "KL_tau_LS_values=[]\n",
        "KL_pi_LS_values=[]\n",
        "\n",
        "for i in range(6,22,2):\n",
        "  print(i)\n",
        "  KL_tau_no_LS,KL_pi_no_LS,KL_tau_LS,KL_pi_LS= experiment_repetition(t=len(np.unique(df['Tasca'])),ann_per_task=i,tau=optim['tau'],pi=optim['pi'],tau_prior = tau_prior,pi_prior=pi_prior)\n",
        "  KL_tau_no_LS_values.append(KL_tau_no_LS)\n",
        "  KL_pi_no_LS_values.append(KL_pi_no_LS)\n",
        "  KL_tau_LS_values.append(KL_tau_LS)\n",
        "  KL_pi_LS_values.append(KL_pi_LS)\n",
        "\n",
        "KL_tau_no_LS_values = np.array(KL_tau_no_LS_values)\n",
        "KL_pi_no_LS_values = np.array(KL_pi_no_LS_values)\n",
        "KL_tau_LS_values = np.array(KL_tau_LS_values)\n",
        "KL_pi_LS_values = np.array(KL_pi_LS_values)"
      ],
      "execution_count": null,
      "outputs": []
    },
    {
      "cell_type": "code",
      "metadata": {
        "id": "4ewzKTqWh3Rs"
      },
      "source": [
        "#save values in txt file\n",
        "file_KL_tau_no_LS_values = open(\"data_from_multinomial_json_KL_tau_no_LS_values.txt\", \"w\")\n",
        "for row in KL_tau_no_LS_values:\n",
        "  np.savetxt(file_KL_tau_no_LS_values, row)\n",
        "\n",
        "file_KL_tau_no_LS_values.close()\n",
        "\n",
        "file_KL_pi_no_LS_values = open(\"data_from_multinomial_json_KL_pi_no_LS_values.txt\", \"w\")\n",
        "for row in KL_pi_no_LS_values:\n",
        "  np.savetxt(file_KL_pi_no_LS_values, row)\n",
        "\n",
        "file_KL_pi_no_LS_values.close()\n",
        "\n",
        "\n",
        "file_KL_tau_LS_values = open(\"data_from_multinomial_json_KL_tau_LS_values.txt\", \"w\")\n",
        "for row in KL_tau_LS_values:\n",
        "  np.savetxt(file_KL_tau_LS_values, row)\n",
        "\n",
        "file_KL_tau_LS_values.close()\n",
        "\n",
        "file_KL_pi_LS_values = open(\"data_from_multinomial_json_KL_pi_LS_values.txt\", \"w\")\n",
        "for row in KL_pi_LS_values:\n",
        "  np.savetxt(file_KL_pi_LS_values, row)\n",
        "\n",
        "file_KL_pi_LS_values.close()\n",
        "\n"
      ],
      "execution_count": null,
      "outputs": []
    },
    {
      "cell_type": "code",
      "metadata": {
        "colab": {
          "base_uri": "https://localhost:8080/",
          "height": 17
        },
        "id": "zylarlrm9Xcx",
        "outputId": "5b696bac-f388-4149-d9bf-51c7b78de6af"
      },
      "source": [
        "from google.colab import files\n",
        "files.download('data_from_multinomial_json_KL_tau_no_LS_values.txt')\n",
        "files.download('data_from_multinomial_json_KL_pi_no_LS_values.txt')\n",
        "files.download('data_from_multinomial_json_KL_tau_LS_values.txt')\n",
        "files.download('data_from_multinomial_json_KL_pi_LS_values.txt')"
      ],
      "execution_count": null,
      "outputs": [
        {
          "output_type": "display_data",
          "data": {
            "application/javascript": [
              "\n",
              "    async function download(id, filename, size) {\n",
              "      if (!google.colab.kernel.accessAllowed) {\n",
              "        return;\n",
              "      }\n",
              "      const div = document.createElement('div');\n",
              "      const label = document.createElement('label');\n",
              "      label.textContent = `Downloading \"${filename}\": `;\n",
              "      div.appendChild(label);\n",
              "      const progress = document.createElement('progress');\n",
              "      progress.max = size;\n",
              "      div.appendChild(progress);\n",
              "      document.body.appendChild(div);\n",
              "\n",
              "      const buffers = [];\n",
              "      let downloaded = 0;\n",
              "\n",
              "      const channel = await google.colab.kernel.comms.open(id);\n",
              "      // Send a message to notify the kernel that we're ready.\n",
              "      channel.send({})\n",
              "\n",
              "      for await (const message of channel.messages) {\n",
              "        // Send a message to notify the kernel that we're ready.\n",
              "        channel.send({})\n",
              "        if (message.buffers) {\n",
              "          for (const buffer of message.buffers) {\n",
              "            buffers.push(buffer);\n",
              "            downloaded += buffer.byteLength;\n",
              "            progress.value = downloaded;\n",
              "          }\n",
              "        }\n",
              "      }\n",
              "      const blob = new Blob(buffers, {type: 'application/binary'});\n",
              "      const a = document.createElement('a');\n",
              "      a.href = window.URL.createObjectURL(blob);\n",
              "      a.download = filename;\n",
              "      div.appendChild(a);\n",
              "      a.click();\n",
              "      div.remove();\n",
              "    }\n",
              "  "
            ],
            "text/plain": [
              "<IPython.core.display.Javascript object>"
            ]
          },
          "metadata": {
            "tags": []
          }
        },
        {
          "output_type": "display_data",
          "data": {
            "application/javascript": [
              "download(\"download_236f6fd2-87c2-4009-9842-2bd6dae94fb3\", \"data_from_multinomial_json_KL_tau_no_LS_values.txt\", 100000)"
            ],
            "text/plain": [
              "<IPython.core.display.Javascript object>"
            ]
          },
          "metadata": {
            "tags": []
          }
        },
        {
          "output_type": "display_data",
          "data": {
            "application/javascript": [
              "\n",
              "    async function download(id, filename, size) {\n",
              "      if (!google.colab.kernel.accessAllowed) {\n",
              "        return;\n",
              "      }\n",
              "      const div = document.createElement('div');\n",
              "      const label = document.createElement('label');\n",
              "      label.textContent = `Downloading \"${filename}\": `;\n",
              "      div.appendChild(label);\n",
              "      const progress = document.createElement('progress');\n",
              "      progress.max = size;\n",
              "      div.appendChild(progress);\n",
              "      document.body.appendChild(div);\n",
              "\n",
              "      const buffers = [];\n",
              "      let downloaded = 0;\n",
              "\n",
              "      const channel = await google.colab.kernel.comms.open(id);\n",
              "      // Send a message to notify the kernel that we're ready.\n",
              "      channel.send({})\n",
              "\n",
              "      for await (const message of channel.messages) {\n",
              "        // Send a message to notify the kernel that we're ready.\n",
              "        channel.send({})\n",
              "        if (message.buffers) {\n",
              "          for (const buffer of message.buffers) {\n",
              "            buffers.push(buffer);\n",
              "            downloaded += buffer.byteLength;\n",
              "            progress.value = downloaded;\n",
              "          }\n",
              "        }\n",
              "      }\n",
              "      const blob = new Blob(buffers, {type: 'application/binary'});\n",
              "      const a = document.createElement('a');\n",
              "      a.href = window.URL.createObjectURL(blob);\n",
              "      a.download = filename;\n",
              "      div.appendChild(a);\n",
              "      a.click();\n",
              "      div.remove();\n",
              "    }\n",
              "  "
            ],
            "text/plain": [
              "<IPython.core.display.Javascript object>"
            ]
          },
          "metadata": {
            "tags": []
          }
        },
        {
          "output_type": "display_data",
          "data": {
            "application/javascript": [
              "download(\"download_696679bf-1110-4d92-8dca-d5fc3c6d6b3e\", \"data_from_multinomial_json_KL_pi_no_LS_values.txt\", 100000)"
            ],
            "text/plain": [
              "<IPython.core.display.Javascript object>"
            ]
          },
          "metadata": {
            "tags": []
          }
        },
        {
          "output_type": "display_data",
          "data": {
            "application/javascript": [
              "\n",
              "    async function download(id, filename, size) {\n",
              "      if (!google.colab.kernel.accessAllowed) {\n",
              "        return;\n",
              "      }\n",
              "      const div = document.createElement('div');\n",
              "      const label = document.createElement('label');\n",
              "      label.textContent = `Downloading \"${filename}\": `;\n",
              "      div.appendChild(label);\n",
              "      const progress = document.createElement('progress');\n",
              "      progress.max = size;\n",
              "      div.appendChild(progress);\n",
              "      document.body.appendChild(div);\n",
              "\n",
              "      const buffers = [];\n",
              "      let downloaded = 0;\n",
              "\n",
              "      const channel = await google.colab.kernel.comms.open(id);\n",
              "      // Send a message to notify the kernel that we're ready.\n",
              "      channel.send({})\n",
              "\n",
              "      for await (const message of channel.messages) {\n",
              "        // Send a message to notify the kernel that we're ready.\n",
              "        channel.send({})\n",
              "        if (message.buffers) {\n",
              "          for (const buffer of message.buffers) {\n",
              "            buffers.push(buffer);\n",
              "            downloaded += buffer.byteLength;\n",
              "            progress.value = downloaded;\n",
              "          }\n",
              "        }\n",
              "      }\n",
              "      const blob = new Blob(buffers, {type: 'application/binary'});\n",
              "      const a = document.createElement('a');\n",
              "      a.href = window.URL.createObjectURL(blob);\n",
              "      a.download = filename;\n",
              "      div.appendChild(a);\n",
              "      a.click();\n",
              "      div.remove();\n",
              "    }\n",
              "  "
            ],
            "text/plain": [
              "<IPython.core.display.Javascript object>"
            ]
          },
          "metadata": {
            "tags": []
          }
        },
        {
          "output_type": "display_data",
          "data": {
            "application/javascript": [
              "download(\"download_79143a0e-7638-423f-86e7-0765185d56b8\", \"data_from_multinomial_json_KL_tau_LS_values.txt\", 100000)"
            ],
            "text/plain": [
              "<IPython.core.display.Javascript object>"
            ]
          },
          "metadata": {
            "tags": []
          }
        },
        {
          "output_type": "display_data",
          "data": {
            "application/javascript": [
              "\n",
              "    async function download(id, filename, size) {\n",
              "      if (!google.colab.kernel.accessAllowed) {\n",
              "        return;\n",
              "      }\n",
              "      const div = document.createElement('div');\n",
              "      const label = document.createElement('label');\n",
              "      label.textContent = `Downloading \"${filename}\": `;\n",
              "      div.appendChild(label);\n",
              "      const progress = document.createElement('progress');\n",
              "      progress.max = size;\n",
              "      div.appendChild(progress);\n",
              "      document.body.appendChild(div);\n",
              "\n",
              "      const buffers = [];\n",
              "      let downloaded = 0;\n",
              "\n",
              "      const channel = await google.colab.kernel.comms.open(id);\n",
              "      // Send a message to notify the kernel that we're ready.\n",
              "      channel.send({})\n",
              "\n",
              "      for await (const message of channel.messages) {\n",
              "        // Send a message to notify the kernel that we're ready.\n",
              "        channel.send({})\n",
              "        if (message.buffers) {\n",
              "          for (const buffer of message.buffers) {\n",
              "            buffers.push(buffer);\n",
              "            downloaded += buffer.byteLength;\n",
              "            progress.value = downloaded;\n",
              "          }\n",
              "        }\n",
              "      }\n",
              "      const blob = new Blob(buffers, {type: 'application/binary'});\n",
              "      const a = document.createElement('a');\n",
              "      a.href = window.URL.createObjectURL(blob);\n",
              "      a.download = filename;\n",
              "      div.appendChild(a);\n",
              "      a.click();\n",
              "      div.remove();\n",
              "    }\n",
              "  "
            ],
            "text/plain": [
              "<IPython.core.display.Javascript object>"
            ]
          },
          "metadata": {
            "tags": []
          }
        },
        {
          "output_type": "display_data",
          "data": {
            "application/javascript": [
              "download(\"download_041e44f0-2595-4841-9a81-a259d1f8a122\", \"data_from_multinomial_json_KL_pi_LS_values.txt\", 100000)"
            ],
            "text/plain": [
              "<IPython.core.display.Javascript object>"
            ]
          },
          "metadata": {
            "tags": []
          }
        }
      ]
    },
    {
      "cell_type": "code",
      "metadata": {
        "id": "nyL3UqP_eLqp"
      },
      "source": [
        "#to recover the arrays from the txt files, compile this:\n",
        "#FOR THE SHAPES, SEE THE prints from the pipeline CELL, but it is basically (len(np.unique(ann_per_task)),t)\n",
        "original_KL_tau_no_LS_values = np.loadtxt(\"/content/drive/MyDrive/TFM-Crowd learning/txt files/data_from_multinomial_json_KL_tau_no_LS_values.txt\").reshape(8, 500)\n",
        "original_KL_pi_no_LS_values = np.loadtxt(\"/content/drive/MyDrive/TFM-Crowd learning/txt files/data_from_multinomial_json_KL_pi_no_LS_values.txt\").reshape(8,500)\n",
        "original_KL_tau_LS_values = np.loadtxt(\"/content/drive/MyDrive/TFM-Crowd learning/txt files/data_from_multinomial_json_KL_tau_LS_values.txt\").reshape(8,500)\n",
        "original_KL_pi_LS_values = np.loadtxt(\"/content/drive/MyDrive/TFM-Crowd learning/txt files/data_from_multinomial_json_KL_pi_LS_values.txt\").reshape(8,500)"
      ],
      "execution_count": null,
      "outputs": []
    },
    {
      "cell_type": "code",
      "metadata": {
        "colab": {
          "base_uri": "https://localhost:8080/",
          "height": 295
        },
        "id": "d718i0rLeLwQ",
        "outputId": "7bb9d85a-3121-4e65-8281-22e1e0bc0da7"
      },
      "source": [
        "import matplotlib.pyplot as plt\n",
        "annots_x_task = np.arange(start=6,stop=22,step=2)\n",
        "ax = plt.subplot()\n",
        "plt.grid(True)\n",
        "plt.plot(annots_x_task,np.nanmedian(KL_tau_no_LS_values,axis=1),'b--')\n",
        "plt.xlabel('Number of annotations per task')\n",
        "plt.ylabel('Kullback–Leibler divergence')\n",
        "plt.title('(annotations per task, KL) before applying label switching')\n",
        "plt.legend(['tau'])\n",
        "ax.fill_between(annots_x_task,y1=np.percentile(KL_tau_no_LS_values, 25,axis=1),y2=np.percentile(KL_tau_no_LS_values, 75,axis=1),alpha=0.3,facecolor='green')\n",
        "\n",
        "plt.show()"
      ],
      "execution_count": null,
      "outputs": [
        {
          "output_type": "display_data",
          "data": {
            "image/png": "[encoded data removed]",
            "text/plain": [
              "<Figure size 432x288 with 1 Axes>"
            ]
          },
          "metadata": {
            "tags": []
          }
        }
      ]
    },
    {
      "cell_type": "code",
      "metadata": {
        "colab": {
          "base_uri": "https://localhost:8080/"
        },
        "id": "rT9LpocOsi6a",
        "outputId": "f4c878c4-13e1-453d-cac0-ce34c9627ad8"
      },
      "source": [
        "print('Mean value of the KL values for tau BEFORE LS', np.mean(np.nanmedian(KL_tau_no_LS_values,axis=1)))"
      ],
      "execution_count": null,
      "outputs": [
        {
          "output_type": "stream",
          "text": [
            "Mean value of the KL values for tau BEFORE LS 0.3909576953345755\n"
          ],
          "name": "stdout"
        }
      ]
    },
    {
      "cell_type": "code",
      "metadata": {
        "colab": {
          "base_uri": "https://localhost:8080/",
          "height": 295
        },
        "id": "Fpp7FxqQhmCH",
        "outputId": "d525a008-e0e7-4ccc-8c08-3e3f89fd12c4"
      },
      "source": [
        "import matplotlib.pyplot as plt\n",
        "annots_x_task = np.arange(start=6,stop=22,step=2)\n",
        "ax = plt.subplot()\n",
        "plt.grid(True)\n",
        "plt.plot(annots_x_task,np.nanmedian(KL_pi_no_LS_values,axis=1),'r--')\n",
        "plt.xlabel('Number of annotations per task')\n",
        "plt.ylabel('Kullback–Leibler divergence')\n",
        "plt.title('(annotations per task, KL) before applying label switching')\n",
        "plt.legend(['pi'])\n",
        "ax.fill_between(annots_x_task,y1=np.percentile(KL_pi_no_LS_values, 25,axis=1),y2=np.percentile(KL_pi_no_LS_values, 75,axis=1),alpha=0.3,facecolor='pink')\n",
        "\n",
        "plt.show()"
      ],
      "execution_count": null,
      "outputs": [
        {
          "output_type": "display_data",
          "data": {
            "image/png": "[encoded data removed]",
            "text/plain": [
              "<Figure size 432x288 with 1 Axes>"
            ]
          },
          "metadata": {
            "tags": []
          }
        }
      ]
    },
    {
      "cell_type": "code",
      "metadata": {
        "colab": {
          "base_uri": "https://localhost:8080/"
        },
        "id": "wcGcWwb-soDQ",
        "outputId": "50f5c364-fe48-4755-c197-a71681c4b9df"
      },
      "source": [
        "print('Mean value of the KL values for pi BEFORE LS', np.mean(np.nanmedian(KL_pi_no_LS_values,axis=1)))"
      ],
      "execution_count": null,
      "outputs": [
        {
          "output_type": "stream",
          "text": [
            "Mean value of the KL values for pi BEFORE LS 1.156477396836359\n"
          ],
          "name": "stdout"
        }
      ]
    },
    {
      "cell_type": "code",
      "metadata": {
        "colab": {
          "base_uri": "https://localhost:8080/",
          "height": 295
        },
        "id": "HuCFI9z1h3a6",
        "outputId": "21b64266-5dca-4b60-8b0c-dab78d6c5de9"
      },
      "source": [
        "import matplotlib.pyplot as plt\n",
        "annots_x_task = np.arange(start=6,stop=22,step=2)\n",
        "ax = plt.subplot()\n",
        "plt.grid(True)\n",
        "plt.plot(annots_x_task,np.nanmedian(KL_tau_LS_values,axis=1),'b--')\n",
        "plt.xlabel('Number of annotations per task')\n",
        "plt.ylabel('Kullback–Leibler divergence')\n",
        "plt.title('(annotations per task, KL) after applying label switching')\n",
        "plt.legend(['tau'])\n",
        "ax.fill_between(annots_x_task,y1=np.percentile(KL_tau_LS_values, 25,axis=1),y2=np.percentile(KL_tau_LS_values, 75,axis=1),alpha=0.3,facecolor='green')\n",
        "\n",
        "plt.show()"
      ],
      "execution_count": null,
      "outputs": [
        {
          "output_type": "display_data",
          "data": {
            "image/png": "[encoded data removed]",
            "text/plain": [
              "<Figure size 432x288 with 1 Axes>"
            ]
          },
          "metadata": {
            "tags": []
          }
        }
      ]
    },
    {
      "cell_type": "code",
      "metadata": {
        "colab": {
          "base_uri": "https://localhost:8080/"
        },
        "id": "h3167OKfsvmK",
        "outputId": "3603eb24-3c63-4a64-b5c0-f78efa87501b"
      },
      "source": [
        "print('Mean value of the KL values for tau AFTER LS', np.mean(np.nanmedian(KL_tau_LS_values,axis=1)))"
      ],
      "execution_count": null,
      "outputs": [
        {
          "output_type": "stream",
          "text": [
            "Mean value of the KL values for tau AFTER LS 0.000912804582351748\n"
          ],
          "name": "stdout"
        }
      ]
    },
    {
      "cell_type": "code",
      "metadata": {
        "colab": {
          "base_uri": "https://localhost:8080/",
          "height": 295
        },
        "id": "mToA9Salh3X5",
        "outputId": "97a976d1-e6ad-4e8a-c630-66f51e8b8fe0"
      },
      "source": [
        "import matplotlib.pyplot as plt\n",
        "annots_x_task = np.arange(start=6,stop=22,step=2)\n",
        "ax = plt.subplot()\n",
        "plt.grid(True)\n",
        "plt.plot(annots_x_task,np.nanmedian(KL_pi_LS_values,axis=1),'r--')\n",
        "plt.xlabel('Number of annotations per task')\n",
        "plt.ylabel('Kullback–Leibler divergence')\n",
        "plt.title('(annotations per task, KL) after applying label switching')\n",
        "plt.legend(['pi'])\n",
        "ax.fill_between(annots_x_task,y1=np.percentile(KL_pi_LS_values, 25,axis=1),y2=np.percentile(KL_pi_LS_values, 75,axis=1),alpha=0.3,facecolor='pink')\n",
        "\n",
        "plt.show()"
      ],
      "execution_count": null,
      "outputs": [
        {
          "output_type": "display_data",
          "data": {
            "image/png": "[encoded data removed]",
            "text/plain": [
              "<Figure size 432x288 with 1 Axes>"
            ]
          },
          "metadata": {
            "tags": []
          }
        }
      ]
    },
    {
      "cell_type": "code",
      "metadata": {
        "colab": {
          "base_uri": "https://localhost:8080/"
        },
        "id": "xi02wkITeLnG",
        "outputId": "6de5beca-60af-49cf-a4ef-37c8b0fa8b2f"
      },
      "source": [
        "print('Mean value of the KL values for pi AFTER LS', np.mean(np.nanmedian(KL_pi_LS_values,axis=1)))"
      ],
      "execution_count": null,
      "outputs": [
        {
          "output_type": "stream",
          "text": [
            "Mean value of the KL values for pi AFTER LS 0.013486506767889577\n"
          ],
          "name": "stdout"
        }
      ]
    },
    {
      "cell_type": "markdown",
      "metadata": {
        "id": "UpsLA0VsdH3V"
      },
      "source": [
        "Combined plots:"
      ]
    },
    {
      "cell_type": "code",
      "metadata": {
        "colab": {
          "base_uri": "https://localhost:8080/",
          "height": 295
        },
        "id": "YbYtZjzAd3FX",
        "outputId": "5c23002a-6b8c-4af2-9568-05ae5d1e0c7d"
      },
      "source": [
        "import matplotlib.pyplot as plt\n",
        "annots_x_task = np.arange(start=6,stop=22,step=2)\n",
        "ax = plt.subplot()\n",
        "plt.grid(True)\n",
        "plt.plot(annots_x_task,np.nanmedian(original_KL_pi_no_LS_values,axis=1),'r--')\n",
        "plt.plot(annots_x_task,np.nanmedian(original_KL_tau_no_LS_values,axis=1),'b--')\n",
        "plt.xlabel('Number of annotations per task')\n",
        "plt.ylabel('Kullback–Leibler divergence')\n",
        "plt.title('(annotations per task, KL) before applying label switching')\n",
        "plt.legend(['pi','tau'])\n",
        "ax.fill_between(annots_x_task,y1=np.percentile(original_KL_pi_no_LS_values, 25,axis=1),y2=np.percentile(original_KL_pi_no_LS_values, 75,axis=1),alpha=0.3,facecolor='pink')\n",
        "ax.fill_between(annots_x_task,y1=np.percentile(original_KL_tau_no_LS_values, 25,axis=1),y2=np.percentile(original_KL_tau_no_LS_values, 75,axis=1),alpha=0.3,facecolor='green')\n",
        "\n",
        "plt.show()"
      ],
      "execution_count": null,
      "outputs": [
        {
          "output_type": "display_data",
          "data": {
            "image/png": "[encoded data removed]",
            "text/plain": [
              "<Figure size 432x288 with 1 Axes>"
            ]
          },
          "metadata": {
            "tags": [],
            "needs_background": "light"
          }
        }
      ]
    },
    {
      "cell_type": "code",
      "metadata": {
        "colab": {
          "base_uri": "https://localhost:8080/",
          "height": 295
        },
        "id": "rIaN-2audEFM",
        "outputId": "bbebbe50-70c9-40ac-e3fc-eaa516c6d606"
      },
      "source": [
        "import matplotlib.pyplot as plt\n",
        "annots_x_task = np.arange(start=6,stop=22,step=2)\n",
        "ax = plt.subplot()\n",
        "plt.grid(True)\n",
        "plt.plot(annots_x_task,np.nanmedian(original_KL_pi_LS_values,axis=1),'r--')\n",
        "plt.plot(annots_x_task,np.nanmedian(original_KL_tau_LS_values,axis=1),'b--')\n",
        "plt.xlabel('Number of annotations per task')\n",
        "plt.ylabel('Kullback–Leibler divergence')\n",
        "plt.title('(annotations per task, KL) after applying label switching')\n",
        "plt.legend(['pi','tau'])\n",
        "ax.fill_between(annots_x_task,y1=np.percentile(original_KL_pi_LS_values, 25,axis=1),y2=np.percentile(original_KL_pi_LS_values, 75,axis=1),alpha=0.3,facecolor='pink')\n",
        "ax.fill_between(annots_x_task,y1=np.percentile(original_KL_tau_LS_values, 25,axis=1),y2=np.percentile(original_KL_tau_LS_values, 75,axis=1),alpha=0.3,facecolor='green')\n",
        "\n",
        "plt.show()"
      ],
      "execution_count": null,
      "outputs": [
        {
          "output_type": "display_data",
          "data": {
            "image/png": "[encoded data removed]",
            "text/plain": [
              "<Figure size 432x288 with 1 Axes>"
            ]
          },
          "metadata": {
            "tags": [],
            "needs_background": "light"
          }
        }
      ]
    },
    {
      "cell_type": "markdown",
      "metadata": {
        "id": "nTs4E5AHVAvu"
      },
      "source": [
        "## Paid crowd from the article"
      ]
    },
    {
      "cell_type": "code",
      "metadata": {
        "id": "DeX7ufGGVMd-"
      },
      "source": [
        "#PIPELINE CELL\n",
        "k=5\n",
        "num_workers=50\n",
        "tau_prior = np.full(shape=k,fill_value=1)\n",
        "pi_prior = np.ones((k,k))\n",
        "\n",
        "tau = np.random.dirichlet([15,15,15,15,15])\n",
        "pi=np.zeros((num_workers,k,k))\n",
        "\n",
        "for w in range(num_workers):\n",
        "  matriu_randoms_dirichlet = np.array([[37,11,7,12,33],\n",
        "                                      [17,40,16,12,15],\n",
        "                                      [6,5,27,31,31],\n",
        "                                      [5,3,19,31,42],\n",
        "                                      [2,1,5,19,73]])\n",
        "  for i in range(k):\n",
        "    pi[w][i] += np.random.dirichlet(matriu_randoms_dirichlet[i])\n",
        "\n",
        "\n",
        "KL_tau_no_LS_values=[]\n",
        "KL_pi_no_LS_values=[]\n",
        "KL_tau_LS_values=[]\n",
        "KL_pi_LS_values=[]\n",
        "\n",
        "for i in range(6,38,2):\n",
        "  print(i)\n",
        "  KL_tau_no_LS,KL_pi_no_LS,KL_tau_LS,KL_pi_LS = experiment_repetition(t=800,ann_per_task=i,tau=tau,pi=pi,tau_prior = tau_prior,pi_prior=pi_prior)\n",
        "  KL_tau_no_LS_values.append(KL_tau_no_LS)\n",
        "  KL_pi_no_LS_values.append(KL_pi_no_LS)\n",
        "  KL_tau_LS_values.append(KL_tau_LS)\n",
        "  KL_pi_LS_values.append(KL_pi_LS)\n",
        "\n",
        "KL_tau_no_LS_values = np.array(KL_tau_no_LS_values)\n",
        "KL_pi_no_LS_values = np.array(KL_pi_no_LS_values)\n",
        "KL_tau_LS_values = np.array(KL_tau_LS_values)\n",
        "KL_pi_LS_values = np.array(KL_pi_LS_values)\n"
      ],
      "execution_count": null,
      "outputs": []
    },
    {
      "cell_type": "code",
      "metadata": {
        "id": "YzK6-dBfmeYJ"
      },
      "source": [
        "#save values in txt file\n",
        "file_KL_tau_no_LS_values = open(\"paid_crowd_tau_dirichlet_15_KL_tau_no_LS_values.txt\", \"w\")\n",
        "for row in KL_tau_no_LS_values:\n",
        "  np.savetxt(file_KL_tau_no_LS_values, row)\n",
        "\n",
        "file_KL_tau_no_LS_values.close()\n",
        "\n",
        "file_KL_pi_no_LS_values = open(\"paid_crowd_tau_dirichlet_15_KL_pi_no_LS_values.txt\", \"w\")\n",
        "for row in KL_pi_no_LS_values:\n",
        "  np.savetxt(file_KL_pi_no_LS_values, row)\n",
        "\n",
        "file_KL_pi_no_LS_values.close()\n",
        "\n",
        "\n",
        "file_KL_tau_LS_values = open(\"paid_crowd_tau_dirichlet_15_tau_LS_values.txt\", \"w\")\n",
        "for row in KL_tau_LS_values:\n",
        "  np.savetxt(file_KL_tau_LS_values, row)\n",
        "\n",
        "file_KL_tau_LS_values.close()\n",
        "\n",
        "file_KL_pi_LS_values = open(\"paid_crowd_tau_dirichlet_15_KL_pi_LS_values.txt\", \"w\")\n",
        "for row in KL_pi_LS_values:\n",
        "  np.savetxt(file_KL_pi_LS_values, row)\n",
        "\n",
        "file_KL_pi_LS_values.close()\n"
      ],
      "execution_count": null,
      "outputs": []
    },
    {
      "cell_type": "code",
      "metadata": {
        "id": "UckZ8830myyR"
      },
      "source": [
        "from google.colab import files\n",
        "files.download('paid_crowd_tau_dirichlet_15_KL_tau_no_LS_values.txt')\n",
        "files.download('paid_crowd_tau_dirichlet_15_KL_pi_no_LS_values.txt')\n",
        "files.download('paid_crowd_tau_dirichlet_15_tau_LS_values.txt')\n",
        "files.download('paid_crowd_tau_dirichlet_15_KL_pi_LS_values.txt')"
      ],
      "execution_count": null,
      "outputs": []
    },
    {
      "cell_type": "code",
      "metadata": {
        "id": "dcVl_tW_myvu"
      },
      "source": [
        "#to recover the arrays from the txt files, compile this:\n",
        "#FOR THE SHAPES, SEE THE prints from the pipeline CELL\n",
        "original_KL_tau_no_LS_values = np.loadtxt(\"/content/drive/MyDrive/TFM-Crowd learning/txt files/paid_crowd_tau_dirichlet_15_KL_tau_no_LS_values.txt\").reshape(16, 500)\n",
        "original_KL_pi_no_LS_values = np.loadtxt(\"/content/drive/MyDrive/TFM-Crowd learning/txt files/paid_crowd_tau_dirichlet_15_KL_pi_no_LS_values.txt\").reshape(16,500)\n",
        "original_KL_tau_LS_values = np.loadtxt(\"/content/drive/MyDrive/TFM-Crowd learning/txt files/paid_crowd_tau_dirichlet_15_tau_LS_values.txt\").reshape(16,500)\n",
        "original_KL_pi_LS_values = np.loadtxt(\"/content/drive/MyDrive/TFM-Crowd learning/txt files/paid_crowd_tau_dirichlet_15_KL_pi_LS_values.txt\").reshape(16,500)"
      ],
      "execution_count": null,
      "outputs": []
    },
    {
      "cell_type": "code",
      "metadata": {
        "colab": {
          "base_uri": "https://localhost:8080/",
          "height": 295
        },
        "id": "E6WfdQHxZxSZ",
        "outputId": "5fff7310-2033-4bcf-af3b-60e45e3113d2"
      },
      "source": [
        "import matplotlib.pyplot as plt\n",
        "annots_x_task = np.arange(start=6,stop=38,step=2)\n",
        "ax = plt.subplot()\n",
        "plt.grid(True)\n",
        "plt.plot(annots_x_task,np.nanmedian(original_KL_tau_no_LS_values,axis=1),'b--')\n",
        "plt.xlabel('Number of annotations per task')\n",
        "plt.ylabel('Kullback–Leibler divergence')\n",
        "plt.title('(annotations per task, KL) before applying label switching')\n",
        "plt.legend(['tau'])\n",
        "ax.fill_between(annots_x_task,y1=np.percentile(original_KL_tau_no_LS_values, 25,axis=1),y2=np.percentile(original_KL_tau_no_LS_values, 75,axis=1),alpha=0.3,facecolor='green')\n",
        "\n",
        "plt.show()"
      ],
      "execution_count": null,
      "outputs": [
        {
          "output_type": "display_data",
          "data": {
            "image/png": "[encoded data removed]",
            "text/plain": [
              "<Figure size 432x288 with 1 Axes>"
            ]
          },
          "metadata": {
            "tags": [],
            "needs_background": "light"
          }
        }
      ]
    },
    {
      "cell_type": "code",
      "metadata": {
        "id": "h9ZFt__CnF2j",
        "colab": {
          "base_uri": "https://localhost:8080/"
        },
        "outputId": "2112f9a5-7645-4b5b-8807-4e706bbe05d7"
      },
      "source": [
        "print('Mean value of the KL values for tau BEFORE LS', np.mean(np.nanmedian(original_KL_tau_no_LS_values,axis=1)))"
      ],
      "execution_count": null,
      "outputs": [
        {
          "output_type": "stream",
          "text": [
            "Mean value of the KL values for tau BEFORE LS 0.459620574964252\n"
          ],
          "name": "stdout"
        }
      ]
    },
    {
      "cell_type": "code",
      "metadata": {
        "colab": {
          "base_uri": "https://localhost:8080/",
          "height": 295
        },
        "id": "EvpydbeDaBhG",
        "outputId": "8afd1672-d9df-42f8-ae8e-8add3c127e83"
      },
      "source": [
        "import matplotlib.pyplot as plt\n",
        "annots_x_task = np.arange(start=6,stop=38,step=2)\n",
        "ax = plt.subplot()\n",
        "plt.grid(True)\n",
        "plt.plot(annots_x_task,np.nanmedian(original_KL_pi_no_LS_values,axis=1),'r--')\n",
        "plt.xlabel('Number of annotations per task')\n",
        "plt.ylabel('Kullback–Leibler divergence')\n",
        "plt.title('(annotations per task, KL) before applying label switching')\n",
        "plt.legend(['pi'])\n",
        "ax.fill_between(annots_x_task,y1=np.percentile(original_KL_pi_no_LS_values, 25,axis=1),y2=np.percentile(original_KL_pi_no_LS_values, 75,axis=1),alpha=0.3,facecolor='pink')\n",
        "\n",
        "plt.show()"
      ],
      "execution_count": null,
      "outputs": [
        {
          "output_type": "display_data",
          "data": {
            "image/png": "[encoded data removed]",
            "text/plain": [
              "<Figure size 432x288 with 1 Axes>"
            ]
          },
          "metadata": {
            "tags": [],
            "needs_background": "light"
          }
        }
      ]
    },
    {
      "cell_type": "code",
      "metadata": {
        "id": "XiGP9oTFmysa",
        "colab": {
          "base_uri": "https://localhost:8080/"
        },
        "outputId": "f29e94ce-f8dc-4eeb-fd4b-914abddfe1c5"
      },
      "source": [
        "print('Mean value of the KL values for pi BEFORE LS', np.mean(np.nanmedian(original_KL_pi_no_LS_values,axis=1)))"
      ],
      "execution_count": null,
      "outputs": [
        {
          "output_type": "stream",
          "text": [
            "Mean value of the KL values for pi BEFORE LS 5.575075331686551\n"
          ],
          "name": "stdout"
        }
      ]
    },
    {
      "cell_type": "code",
      "metadata": {
        "colab": {
          "base_uri": "https://localhost:8080/",
          "height": 295
        },
        "id": "qvbWssj9aMHl",
        "outputId": "8bf01e31-e417-424c-cb03-f2caccc374f7"
      },
      "source": [
        "import matplotlib.pyplot as plt\n",
        "annots_x_task = np.arange(start=6,stop=38,step=2)\n",
        "ax = plt.subplot()\n",
        "plt.grid(True)\n",
        "plt.plot(annots_x_task,np.nanmedian(original_KL_tau_LS_values,axis=1),'b--')\n",
        "plt.xlabel('Number of annotations per task')\n",
        "plt.ylabel('Kullback–Leibler divergence')\n",
        "plt.title('(annotations per task, KL) after applying label switching')\n",
        "plt.legend(['tau'])\n",
        "ax.fill_between(annots_x_task,y1=np.percentile(original_KL_tau_LS_values, 25,axis=1),y2=np.percentile(original_KL_tau_LS_values, 75,axis=1),alpha=0.3,facecolor='green')\n",
        "\n",
        "plt.show()"
      ],
      "execution_count": null,
      "outputs": [
        {
          "output_type": "display_data",
          "data": {
            "image/png": "[encoded data removed]",
            "text/plain": [
              "<Figure size 432x288 with 1 Axes>"
            ]
          },
          "metadata": {
            "tags": [],
            "needs_background": "light"
          }
        }
      ]
    },
    {
      "cell_type": "code",
      "metadata": {
        "id": "qkDY_TchmeRj",
        "colab": {
          "base_uri": "https://localhost:8080/"
        },
        "outputId": "0ed545f0-dbce-40fd-da39-81b556c9ba64"
      },
      "source": [
        "print('Mean value of the KL values for tau AFTER LS', np.mean(np.nanmedian(original_KL_tau_LS_values,axis=1)))"
      ],
      "execution_count": null,
      "outputs": [
        {
          "output_type": "stream",
          "text": [
            "Mean value of the KL values for tau AFTER LS 0.3706050278644728\n"
          ],
          "name": "stdout"
        }
      ]
    },
    {
      "cell_type": "code",
      "metadata": {
        "colab": {
          "base_uri": "https://localhost:8080/",
          "height": 295
        },
        "id": "11neeIBmagUD",
        "outputId": "771f80a1-01f5-409b-d4b1-9c6d38f8fa32"
      },
      "source": [
        "import matplotlib.pyplot as plt\n",
        "annots_x_task = np.arange(start=6,stop=38,step=2)\n",
        "ax = plt.subplot()\n",
        "plt.grid(True)\n",
        "plt.plot(annots_x_task,np.nanmedian(original_KL_pi_LS_values,axis=1),'r--')\n",
        "plt.xlabel('Number of annotations per task')\n",
        "plt.ylabel('Kullback–Leibler divergence')\n",
        "plt.title('(annotations per task, KL) after applying label switching')\n",
        "plt.legend(['pi'])\n",
        "ax.fill_between(annots_x_task,y1=np.percentile(original_KL_pi_LS_values, 25,axis=1),y2=np.percentile(original_KL_pi_LS_values, 75,axis=1),alpha=0.3,facecolor='pink')\n",
        "\n",
        "plt.show()"
      ],
      "execution_count": null,
      "outputs": [
        {
          "output_type": "display_data",
          "data": {
            "image/png": "[encoded data removed]",
            "text/plain": [
              "<Figure size 432x288 with 1 Axes>"
            ]
          },
          "metadata": {
            "tags": [],
            "needs_background": "light"
          }
        }
      ]
    },
    {
      "cell_type": "code",
      "metadata": {
        "id": "IRR_DYjsmeLC",
        "colab": {
          "base_uri": "https://localhost:8080/"
        },
        "outputId": "f4c3c790-1c6a-426a-85c2-37e15658d044"
      },
      "source": [
        "print('Mean value of the KL values for pi AFTER LS', np.mean(np.nanmedian(original_KL_pi_LS_values,axis=1)))"
      ],
      "execution_count": null,
      "outputs": [
        {
          "output_type": "stream",
          "text": [
            "Mean value of the KL values for pi AFTER LS 3.602301717901088\n"
          ],
          "name": "stdout"
        }
      ]
    }
  ]
}