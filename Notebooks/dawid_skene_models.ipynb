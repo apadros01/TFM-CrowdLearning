{
  "nbformat": 4,
  "nbformat_minor": 0,
  "metadata": {
    "colab": {
      "name": "dawid-skene-models.ipynb",
      "provenance": [],
      "collapsed_sections": []
    },
    "kernelspec": {
      "name": "python3",
      "display_name": "Python 3"
    },
    "language_info": {
      "name": "python"
    }
  },
  "cells": [
    {
      "cell_type": "code",
      "metadata": {
        "colab": {
          "base_uri": "https://localhost:8080/"
        },
        "id": "E9QWEg_BViAw",
        "outputId": "c4ecc515-5950-4792-9da2-0d89b32c71bc"
      },
      "source": [
        "pip install arviz"
      ],
      "execution_count": 1,
      "outputs": [
        {
          "output_type": "stream",
          "text": [
            "Collecting arviz\n",
            "\u001b[?25l  Downloading https://files.pythonhosted.org/packages/e2/a8/e2ad120b06822e29e0d185bed1ae300576f3f61f97fceb6933ba6f6accf7/arviz-0.11.2-py3-none-any.whl (1.6MB)\n",
            "\u001b[K     |████████████████████████████████| 1.6MB 6.9MB/s \n",
            "\u001b[?25hRequirement already satisfied: numpy>=1.12 in /usr/local/lib/python3.7/dist-packages (from arviz) (1.19.5)\n",
            "Collecting xarray>=0.16.1\n",
            "\u001b[?25l  Downloading https://files.pythonhosted.org/packages/a5/19/debc1f470b8b9e2949da221663c8102ed6728f4d38dc964085ca43de1428/xarray-0.17.0-py3-none-any.whl (759kB)\n",
            "\u001b[K     |████████████████████████████████| 768kB 28.7MB/s \n",
            "\u001b[?25hRequirement already satisfied: typing-extensions<4,>=3.7.4.3 in /usr/local/lib/python3.7/dist-packages (from arviz) (3.7.4.3)\n",
            "Requirement already satisfied: packaging in /usr/local/lib/python3.7/dist-packages (from arviz) (20.9)\n",
            "Requirement already satisfied: setuptools>=38.4 in /usr/local/lib/python3.7/dist-packages (from arviz) (56.0.0)\n",
            "Requirement already satisfied: matplotlib>=3.0 in /usr/local/lib/python3.7/dist-packages (from arviz) (3.2.2)\n",
            "Requirement already satisfied: scipy>=0.19 in /usr/local/lib/python3.7/dist-packages (from arviz) (1.4.1)\n",
            "Requirement already satisfied: pandas>=0.23 in /usr/local/lib/python3.7/dist-packages (from arviz) (1.1.5)\n",
            "Collecting netcdf4\n",
            "\u001b[?25l  Downloading https://files.pythonhosted.org/packages/37/56/f65978898fb8e7e5df9c67531d86eb24eb04938deae3b61dbcce12c98212/netCDF4-1.5.6-cp37-cp37m-manylinux2014_x86_64.whl (4.7MB)\n",
            "\u001b[K     |████████████████████████████████| 4.7MB 41.0MB/s \n",
            "\u001b[?25hRequirement already satisfied: pyparsing>=2.0.2 in /usr/local/lib/python3.7/dist-packages (from packaging->arviz) (2.4.7)\n",
            "Requirement already satisfied: kiwisolver>=1.0.1 in /usr/local/lib/python3.7/dist-packages (from matplotlib>=3.0->arviz) (1.3.1)\n",
            "Requirement already satisfied: cycler>=0.10 in /usr/local/lib/python3.7/dist-packages (from matplotlib>=3.0->arviz) (0.10.0)\n",
            "Requirement already satisfied: python-dateutil>=2.1 in /usr/local/lib/python3.7/dist-packages (from matplotlib>=3.0->arviz) (2.8.1)\n",
            "Requirement already satisfied: pytz>=2017.2 in /usr/local/lib/python3.7/dist-packages (from pandas>=0.23->arviz) (2018.9)\n",
            "Collecting cftime\n",
            "\u001b[?25l  Downloading https://files.pythonhosted.org/packages/41/e0/3e120cca16571c5ee3b35f1ed432c2aae5dc91e2b789e8b9c3a70e721ea0/cftime-1.4.1-cp37-cp37m-manylinux2014_x86_64.whl (313kB)\n",
            "\u001b[K     |████████████████████████████████| 317kB 45.6MB/s \n",
            "\u001b[?25hRequirement already satisfied: six in /usr/local/lib/python3.7/dist-packages (from cycler>=0.10->matplotlib>=3.0->arviz) (1.15.0)\n",
            "Installing collected packages: xarray, cftime, netcdf4, arviz\n",
            "  Found existing installation: xarray 0.15.1\n",
            "    Uninstalling xarray-0.15.1:\n",
            "      Successfully uninstalled xarray-0.15.1\n",
            "Successfully installed arviz-0.11.2 cftime-1.4.1 netcdf4-1.5.6 xarray-0.17.0\n"
          ],
          "name": "stdout"
        }
      ]
    },
    {
      "cell_type": "code",
      "metadata": {
        "id": "Xtt_8enyVpUU"
      },
      "source": [
        "import pystan\n",
        "import numpy as np\n",
        "import matplotlib.pyplot as plt\n",
        "import arviz\n",
        "import pickle\n",
        "import cmdstanpy\n",
        "import json\n",
        "import pandas as pd"
      ],
      "execution_count": 2,
      "outputs": []
    },
    {
      "cell_type": "code",
      "metadata": {
        "id": "SDHiDzGdVpRd"
      },
      "source": [
        "with open('/content/drive/MyDrive/TFM-Crowd learning/multinomial.json') as json_file:\n",
        "    data = json.load(json_file)"
      ],
      "execution_count": 4,
      "outputs": []
    },
    {
      "cell_type": "code",
      "metadata": {
        "colab": {
          "base_uri": "https://localhost:8080/",
          "height": 419
        },
        "id": "ZV5LbZllVpOr",
        "outputId": "795985d2-5028-466b-d085-85c0ec0378fe"
      },
      "source": [
        "dades={'Tasca': data['t_A'], 'Worker': data['w_A'], 'Anotació': data['ann'] }\n",
        "df = pd.DataFrame(data=dades)\n",
        "df"
      ],
      "execution_count": 5,
      "outputs": [
        {
          "output_type": "execute_result",
          "data": {
            "text/html": [
              "<div>\n",
              "<style scoped>\n",
              "    .dataframe tbody tr th:only-of-type {\n",
              "        vertical-align: middle;\n",
              "    }\n",
              "\n",
              "    .dataframe tbody tr th {\n",
              "        vertical-align: top;\n",
              "    }\n",
              "\n",
              "    .dataframe thead th {\n",
              "        text-align: right;\n",
              "    }\n",
              "</style>\n",
              "<table border=\"1\" class=\"dataframe\">\n",
              "  <thead>\n",
              "    <tr style=\"text-align: right;\">\n",
              "      <th></th>\n",
              "      <th>Tasca</th>\n",
              "      <th>Worker</th>\n",
              "      <th>Anotació</th>\n",
              "    </tr>\n",
              "  </thead>\n",
              "  <tbody>\n",
              "    <tr>\n",
              "      <th>0</th>\n",
              "      <td>0</td>\n",
              "      <td>14</td>\n",
              "      <td>2</td>\n",
              "    </tr>\n",
              "    <tr>\n",
              "      <th>1</th>\n",
              "      <td>0</td>\n",
              "      <td>13</td>\n",
              "      <td>2</td>\n",
              "    </tr>\n",
              "    <tr>\n",
              "      <th>2</th>\n",
              "      <td>0</td>\n",
              "      <td>4</td>\n",
              "      <td>2</td>\n",
              "    </tr>\n",
              "    <tr>\n",
              "      <th>3</th>\n",
              "      <td>0</td>\n",
              "      <td>2</td>\n",
              "      <td>2</td>\n",
              "    </tr>\n",
              "    <tr>\n",
              "      <th>4</th>\n",
              "      <td>0</td>\n",
              "      <td>7</td>\n",
              "      <td>1</td>\n",
              "    </tr>\n",
              "    <tr>\n",
              "      <th>...</th>\n",
              "      <td>...</td>\n",
              "      <td>...</td>\n",
              "      <td>...</td>\n",
              "    </tr>\n",
              "    <tr>\n",
              "      <th>9995</th>\n",
              "      <td>999</td>\n",
              "      <td>17</td>\n",
              "      <td>2</td>\n",
              "    </tr>\n",
              "    <tr>\n",
              "      <th>9996</th>\n",
              "      <td>999</td>\n",
              "      <td>2</td>\n",
              "      <td>2</td>\n",
              "    </tr>\n",
              "    <tr>\n",
              "      <th>9997</th>\n",
              "      <td>999</td>\n",
              "      <td>13</td>\n",
              "      <td>2</td>\n",
              "    </tr>\n",
              "    <tr>\n",
              "      <th>9998</th>\n",
              "      <td>999</td>\n",
              "      <td>14</td>\n",
              "      <td>2</td>\n",
              "    </tr>\n",
              "    <tr>\n",
              "      <th>9999</th>\n",
              "      <td>999</td>\n",
              "      <td>15</td>\n",
              "      <td>2</td>\n",
              "    </tr>\n",
              "  </tbody>\n",
              "</table>\n",
              "<p>10000 rows × 3 columns</p>\n",
              "</div>"
            ],
            "text/plain": [
              "      Tasca  Worker  Anotació\n",
              "0         0      14         2\n",
              "1         0      13         2\n",
              "2         0       4         2\n",
              "3         0       2         2\n",
              "4         0       7         1\n",
              "...     ...     ...       ...\n",
              "9995    999      17         2\n",
              "9996    999       2         2\n",
              "9997    999      13         2\n",
              "9998    999      14         2\n",
              "9999    999      15         2\n",
              "\n",
              "[10000 rows x 3 columns]"
            ]
          },
          "metadata": {
            "tags": []
          },
          "execution_count": 5
        }
      ]
    },
    {
      "cell_type": "markdown",
      "metadata": {
        "id": "gGoU_UzLWCAg"
      },
      "source": [
        "# General Dawid-Skene "
      ]
    },
    {
      "cell_type": "code",
      "metadata": {
        "colab": {
          "base_uri": "https://localhost:8080/"
        },
        "id": "lWBBmyY1VpLp",
        "outputId": "f585b363-b3c2-41f9-9260-977293634011"
      },
      "source": [
        "sm_general = pystan.StanModel(file='/content/drive/MyDrive/TFM-Crowd learning/Fitxers STAN/general_dawid-skene.stan')\n"
      ],
      "execution_count": 6,
      "outputs": [
        {
          "output_type": "stream",
          "text": [
            "INFO:pystan:COMPILING THE C++ CODE FOR MODEL anon_model_b3b91d5d08ea08e32e8380bfec8b2a00 NOW.\n"
          ],
          "name": "stderr"
        }
      ]
    },
    {
      "cell_type": "code",
      "metadata": {
        "id": "Ti9J2EUZVpIz"
      },
      "source": [
        "w = len(np.unique(df['Worker']))\n",
        "t = len(np.unique(df['Tasca']))\n",
        "a = len(df['Anotació'])\n",
        "k = len(np.unique(df['Anotació']))\n",
        "t_A = np.array(df['Tasca'])+1\n",
        "w_A = np.array(df['Worker'])+1\n",
        "ann = np.array(df['Anotació'])+1\n",
        "tau_prior = np.array([1,1,1])\n",
        "pi_prior = np.ones((k,k))\n",
        "\n",
        "dades_sm_gen = {'w':w,'t':t,'a':a,'k':k,'t_A':t_A,'w_A':w_A,'ann':ann,'tau_prior':tau_prior,'pi_prior':pi_prior} "
      ],
      "execution_count": 7,
      "outputs": []
    },
    {
      "cell_type": "code",
      "metadata": {
        "id": "Qin6Ae-SVpF-"
      },
      "source": [
        "pi_ini = np.zeros((w,k,k))\n",
        "for yw in range(w):\n",
        "  pi_ini[yw] = np.eye(k)+0.05\n",
        "  pi_ini[yw] /= np.sum(pi_ini[yw],axis=1)\n",
        "dades_inicials_gen = {'pi':pi_ini}"
      ],
      "execution_count": 8,
      "outputs": []
    },
    {
      "cell_type": "code",
      "metadata": {
        "colab": {
          "base_uri": "https://localhost:8080/"
        },
        "id": "O6m07FVFVpDD",
        "outputId": "53877063-9b3c-4424-827c-9f000d6151ba"
      },
      "source": [
        "optim = sm_general.optimizing(data=dades_sm_gen,init=dades_inicials_gen)\n",
        "optim"
      ],
      "execution_count": 9,
      "outputs": [
        {
          "output_type": "execute_result",
          "data": {
            "text/plain": [
              "OrderedDict([('tau', array([0.11252923, 0.29709025, 0.59038051])),\n",
              "             ('pi', array([[[0.85028421, 0.07914283, 0.07057296],\n",
              "                      [0.21907211, 0.58874502, 0.19218287],\n",
              "                      [0.14766048, 0.09128907, 0.76105045]],\n",
              "              \n",
              "                     [[0.65429652, 0.12651422, 0.21918926],\n",
              "                      [0.30767353, 0.51727564, 0.17505084],\n",
              "                      [0.13057862, 0.11073393, 0.75868745]],\n",
              "              \n",
              "                     [[0.62403594, 0.08478104, 0.29118302],\n",
              "                      [0.21374825, 0.60218811, 0.18406364],\n",
              "                      [0.07408813, 0.1084926 , 0.81741927]],\n",
              "              \n",
              "                     [[0.69219166, 0.09323484, 0.2145735 ],\n",
              "                      [0.19748289, 0.63423896, 0.16827815],\n",
              "                      [0.09577848, 0.13825913, 0.76596239]],\n",
              "              \n",
              "                     [[0.55518691, 0.16259694, 0.28221615],\n",
              "                      [0.22259685, 0.63070878, 0.14669437],\n",
              "                      [0.08058337, 0.12261725, 0.79679938]],\n",
              "              \n",
              "                     [[0.59562584, 0.09817693, 0.30619723],\n",
              "                      [0.20057564, 0.57739766, 0.2220267 ],\n",
              "                      [0.09020372, 0.09380549, 0.81599078]],\n",
              "              \n",
              "                     [[0.64330928, 0.15136925, 0.20532147],\n",
              "                      [0.16930397, 0.60498175, 0.22571428],\n",
              "                      [0.09377776, 0.0870855 , 0.81913674]],\n",
              "              \n",
              "                     [[0.7020558 , 0.07976502, 0.21817918],\n",
              "                      [0.24755334, 0.54841549, 0.20403117],\n",
              "                      [0.06792322, 0.10967026, 0.82240653]],\n",
              "              \n",
              "                     [[0.7035658 , 0.12980394, 0.16663026],\n",
              "                      [0.19031584, 0.61226667, 0.19741749],\n",
              "                      [0.10336288, 0.0713866 , 0.82525052]],\n",
              "              \n",
              "                     [[0.59191831, 0.24419671, 0.16388497],\n",
              "                      [0.25648164, 0.53023702, 0.21328134],\n",
              "                      [0.11072855, 0.09560384, 0.7936676 ]],\n",
              "              \n",
              "                     [[0.81308536, 0.04049227, 0.14642237],\n",
              "                      [0.1949472 , 0.64091557, 0.16413722],\n",
              "                      [0.09013773, 0.12479038, 0.78507189]],\n",
              "              \n",
              "                     [[0.60295723, 0.10706566, 0.28997711],\n",
              "                      [0.20813603, 0.56437356, 0.22749042],\n",
              "                      [0.08586181, 0.10708952, 0.80704866]],\n",
              "              \n",
              "                     [[0.73080755, 0.12209058, 0.14710187],\n",
              "                      [0.20705849, 0.62627807, 0.16666344],\n",
              "                      [0.10562415, 0.10200988, 0.79236596]],\n",
              "              \n",
              "                     [[0.71622624, 0.14127565, 0.1424981 ],\n",
              "                      [0.20969302, 0.62034574, 0.16996124],\n",
              "                      [0.04104713, 0.09876457, 0.8601883 ]],\n",
              "              \n",
              "                     [[0.82859291, 0.03632823, 0.13507886],\n",
              "                      [0.18708832, 0.62618067, 0.18673101],\n",
              "                      [0.09612638, 0.07809342, 0.8257802 ]],\n",
              "              \n",
              "                     [[0.60086164, 0.07862863, 0.32050973],\n",
              "                      [0.24244835, 0.60069518, 0.15685648],\n",
              "                      [0.07377217, 0.1119443 , 0.81428353]],\n",
              "              \n",
              "                     [[0.71549982, 0.06455607, 0.21994411],\n",
              "                      [0.21656796, 0.63665482, 0.14677722],\n",
              "                      [0.09841465, 0.11523982, 0.78634553]],\n",
              "              \n",
              "                     [[0.72382372, 0.08666081, 0.18951547],\n",
              "                      [0.26252568, 0.53113486, 0.20633946],\n",
              "                      [0.10161823, 0.12083282, 0.77754895]],\n",
              "              \n",
              "                     [[0.72821085, 0.0335608 , 0.23822835],\n",
              "                      [0.21047221, 0.59459108, 0.19493671],\n",
              "                      [0.08764309, 0.11162918, 0.80072774]],\n",
              "              \n",
              "                     [[0.71877232, 0.07802204, 0.20320564],\n",
              "                      [0.22710726, 0.58592958, 0.18696316],\n",
              "                      [0.1026105 , 0.10372792, 0.79366158]]])),\n",
              "             ('log_p_t_C', array([[-19.2460719 , -17.92352845,  -4.65966687],\n",
              "                     [ -9.26001851, -15.2092669 , -21.39087366],\n",
              "                     [-20.02173504, -15.25259579,  -8.69510178],\n",
              "                     ...,\n",
              "                     [-24.67832639,  -8.74612086, -20.46305496],\n",
              "                     [-17.56514138, -18.13095579,  -4.92913669],\n",
              "                     [-18.31431474, -17.78529247,  -2.6457213 ]])),\n",
              "             ('t_C', array([[4.62598084e-07, 1.73610965e-06, 9.99997801e-01],\n",
              "                     [9.97393621e-01, 2.60100292e-03, 5.37654317e-06],\n",
              "                     [1.20305210e-05, 1.41740936e-03, 9.98570560e-01],\n",
              "                     ...,\n",
              "                     [1.20427997e-07, 9.99991725e-01, 8.15448583e-06],\n",
              "                     [3.25274991e-06, 1.84722841e-06, 9.99994900e-01],\n",
              "                     [1.56753104e-07, 2.66052656e-07, 9.99999577e-01]]))])"
            ]
          },
          "metadata": {
            "tags": []
          },
          "execution_count": 9
        }
      ]
    },
    {
      "cell_type": "markdown",
      "metadata": {
        "id": "Zk5o-Mu_WQs8"
      },
      "source": [
        "# Class-Conditional Dawid-Skene "
      ]
    },
    {
      "cell_type": "code",
      "metadata": {
        "colab": {
          "base_uri": "https://localhost:8080/"
        },
        "id": "1C3qDYV7Vo-m",
        "outputId": "85cd2f0f-5b3d-4c69-eb37-cf88342ae17a"
      },
      "source": [
        "sm_cond = pystan.StanModel(file='/content/drive/MyDrive/TFM-Crowd learning/Fitxers STAN/conditional_dawid-skene.stan')\n"
      ],
      "execution_count": 10,
      "outputs": [
        {
          "output_type": "stream",
          "text": [
            "INFO:pystan:COMPILING THE C++ CODE FOR MODEL anon_model_ebe8ab115e5074b7e42906e44eb05239 NOW.\n"
          ],
          "name": "stderr"
        }
      ]
    },
    {
      "cell_type": "code",
      "metadata": {
        "id": "o4A6-0VfVo70"
      },
      "source": [
        "w = len(np.unique(df['Worker']))\n",
        "t = len(np.unique(df['Tasca']))\n",
        "a = len(df['Anotació'])\n",
        "k = len(np.unique(df['Anotació']))\n",
        "t_A = np.array(df['Tasca'])+1\n",
        "w_A = np.array(df['Worker'])+1\n",
        "ann = np.array(df['Anotació'])+1\n",
        "tau_prior = np.array([1,1,1])\n",
        "pi_prior = np.ones((3,3))\n",
        "\n",
        "dades_sm_cond = {'w':w,'t':t,'a':a,'k':k,'t_A':t_A,'w_A':w_A,'ann':ann,'tau_prior':tau_prior,'pi_prior':pi_prior} "
      ],
      "execution_count": 11,
      "outputs": []
    },
    {
      "cell_type": "code",
      "metadata": {
        "id": "Mlg9eqDjVo5V"
      },
      "source": [
        "pi_ini = 0.9*np.ones((w,k))\n",
        "dades_inicials_cond = {'pi_k':pi_ini}"
      ],
      "execution_count": 12,
      "outputs": []
    },
    {
      "cell_type": "code",
      "metadata": {
        "colab": {
          "base_uri": "https://localhost:8080/"
        },
        "id": "bI4RtxVaWawk",
        "outputId": "43d71e0a-4476-403e-f94e-58922a797597"
      },
      "source": [
        "optim_cond = sm_cond.optimizing(data=dades_sm_cond,init=dades_inicials_cond)\n",
        "optim_cond"
      ],
      "execution_count": 13,
      "outputs": [
        {
          "output_type": "execute_result",
          "data": {
            "text/plain": [
              "OrderedDict([('tau', array([0.11641835, 0.29063652, 0.59294513])),\n",
              "             ('pi_k', array([[0.83807799, 0.59836365, 0.75733106],\n",
              "                     [0.65031908, 0.52271787, 0.75633185],\n",
              "                     [0.62282182, 0.60905796, 0.81679091],\n",
              "                     [0.69725956, 0.6393832 , 0.76562285],\n",
              "                     [0.54351267, 0.6353455 , 0.79291203],\n",
              "                     [0.58407672, 0.58132163, 0.81153748],\n",
              "                     [0.6299252 , 0.60938472, 0.82000539],\n",
              "                     [0.69704586, 0.55701376, 0.82369476],\n",
              "                     [0.6969647 , 0.61527891, 0.82693834],\n",
              "                     [0.60184114, 0.53640816, 0.79043941],\n",
              "                     [0.81728851, 0.64673394, 0.78434712],\n",
              "                     [0.61279838, 0.57003476, 0.80593495],\n",
              "                     [0.71977342, 0.63623496, 0.78859145],\n",
              "                     [0.69825348, 0.63027463, 0.85768064],\n",
              "                     [0.8148269 , 0.62591781, 0.8263993 ],\n",
              "                     [0.593483  , 0.60365539, 0.81213079],\n",
              "                     [0.71031616, 0.64222516, 0.78753451],\n",
              "                     [0.73743443, 0.54377104, 0.77357651],\n",
              "                     [0.72422033, 0.59479553, 0.80100228],\n",
              "                     [0.70674282, 0.58385754, 0.79334352]])),\n",
              "             ('log_p_t_C', array([[-21.25787857, -16.86727842,  -4.8888063 ],\n",
              "                     [ -9.99343559, -16.23809217, -19.80230648],\n",
              "                     [-20.2377056 , -15.18401673,  -9.09895955],\n",
              "                     ...,\n",
              "                     [-19.39746617,  -8.82283368, -21.3779403 ],\n",
              "                     [-19.88330408, -17.46959175,  -4.758282  ],\n",
              "                     [-20.96940698, -17.26495111,  -2.65781627]])),\n",
              "             ('t_C', array([[7.78035621e-08, 6.27787836e-06, 9.99993644e-01],\n",
              "                     [9.98008216e-01, 1.93693134e-03, 5.48523976e-05],\n",
              "                     [1.45047467e-05, 2.27142991e-03, 9.97714065e-01],\n",
              "                     ...,\n",
              "                     [2.55554086e-05, 9.99970918e-01, 3.52674327e-06],\n",
              "                     [2.69951001e-07, 3.01680256e-06, 9.99996713e-01],\n",
              "                     [1.11526224e-08, 4.53108011e-07, 9.99999536e-01]])),\n",
              "             ('pi', array([[[0.83807799, 0.08096101, 0.08096101],\n",
              "                      [0.20081817, 0.59836365, 0.20081817],\n",
              "                      [0.12133447, 0.12133447, 0.75733106]],\n",
              "              \n",
              "                     [[0.65031908, 0.17484046, 0.17484046],\n",
              "                      [0.23864107, 0.52271787, 0.23864107],\n",
              "                      [0.12183407, 0.12183407, 0.75633185]],\n",
              "              \n",
              "                     [[0.62282182, 0.18858909, 0.18858909],\n",
              "                      [0.19547102, 0.60905796, 0.19547102],\n",
              "                      [0.09160455, 0.09160455, 0.81679091]],\n",
              "              \n",
              "                     [[0.69725956, 0.15137022, 0.15137022],\n",
              "                      [0.1803084 , 0.6393832 , 0.1803084 ],\n",
              "                      [0.11718857, 0.11718857, 0.76562285]],\n",
              "              \n",
              "                     [[0.54351267, 0.22824367, 0.22824367],\n",
              "                      [0.18232725, 0.6353455 , 0.18232725],\n",
              "                      [0.10354399, 0.10354399, 0.79291203]],\n",
              "              \n",
              "                     [[0.58407672, 0.20796164, 0.20796164],\n",
              "                      [0.20933918, 0.58132163, 0.20933918],\n",
              "                      [0.09423126, 0.09423126, 0.81153748]],\n",
              "              \n",
              "                     [[0.6299252 , 0.1850374 , 0.1850374 ],\n",
              "                      [0.19530764, 0.60938472, 0.19530764],\n",
              "                      [0.08999731, 0.08999731, 0.82000539]],\n",
              "              \n",
              "                     [[0.69704586, 0.15147707, 0.15147707],\n",
              "                      [0.22149312, 0.55701376, 0.22149312],\n",
              "                      [0.08815262, 0.08815262, 0.82369476]],\n",
              "              \n",
              "                     [[0.6969647 , 0.15151765, 0.15151765],\n",
              "                      [0.19236054, 0.61527891, 0.19236054],\n",
              "                      [0.08653083, 0.08653083, 0.82693834]],\n",
              "              \n",
              "                     [[0.60184114, 0.19907943, 0.19907943],\n",
              "                      [0.23179592, 0.53640816, 0.23179592],\n",
              "                      [0.10478029, 0.10478029, 0.79043941]],\n",
              "              \n",
              "                     [[0.81728851, 0.09135574, 0.09135574],\n",
              "                      [0.17663303, 0.64673394, 0.17663303],\n",
              "                      [0.10782644, 0.10782644, 0.78434712]],\n",
              "              \n",
              "                     [[0.61279838, 0.19360081, 0.19360081],\n",
              "                      [0.21498262, 0.57003476, 0.21498262],\n",
              "                      [0.09703253, 0.09703253, 0.80593495]],\n",
              "              \n",
              "                     [[0.71977342, 0.14011329, 0.14011329],\n",
              "                      [0.18188252, 0.63623496, 0.18188252],\n",
              "                      [0.10570427, 0.10570427, 0.78859145]],\n",
              "              \n",
              "                     [[0.69825348, 0.15087326, 0.15087326],\n",
              "                      [0.18486269, 0.63027463, 0.18486269],\n",
              "                      [0.07115968, 0.07115968, 0.85768064]],\n",
              "              \n",
              "                     [[0.8148269 , 0.09258655, 0.09258655],\n",
              "                      [0.1870411 , 0.62591781, 0.1870411 ],\n",
              "                      [0.08680035, 0.08680035, 0.8263993 ]],\n",
              "              \n",
              "                     [[0.593483  , 0.2032585 , 0.2032585 ],\n",
              "                      [0.19817231, 0.60365539, 0.19817231],\n",
              "                      [0.09393461, 0.09393461, 0.81213079]],\n",
              "              \n",
              "                     [[0.71031616, 0.14484192, 0.14484192],\n",
              "                      [0.17888742, 0.64222516, 0.17888742],\n",
              "                      [0.10623275, 0.10623275, 0.78753451]],\n",
              "              \n",
              "                     [[0.73743443, 0.13128279, 0.13128279],\n",
              "                      [0.22811448, 0.54377104, 0.22811448],\n",
              "                      [0.11321174, 0.11321174, 0.77357651]],\n",
              "              \n",
              "                     [[0.72422033, 0.13788983, 0.13788983],\n",
              "                      [0.20260223, 0.59479553, 0.20260223],\n",
              "                      [0.09949886, 0.09949886, 0.80100228]],\n",
              "              \n",
              "                     [[0.70674282, 0.14662859, 0.14662859],\n",
              "                      [0.20807123, 0.58385754, 0.20807123],\n",
              "                      [0.10332824, 0.10332824, 0.79334352]]]))])"
            ]
          },
          "metadata": {
            "tags": []
          },
          "execution_count": 13
        }
      ]
    },
    {
      "cell_type": "markdown",
      "metadata": {
        "id": "IIytX9WwWhiI"
      },
      "source": [
        "# Homogeneous Dawid - Skene"
      ]
    },
    {
      "cell_type": "code",
      "metadata": {
        "colab": {
          "base_uri": "https://localhost:8080/"
        },
        "id": "Zt9qjTS6Wat3",
        "outputId": "d5cb5fdc-8ce1-4153-8c47-d306c093a98b"
      },
      "source": [
        "sm_homo = pystan.StanModel(file='/content/drive/MyDrive/TFM-Crowd learning/Fitxers STAN/homogeni_dawid-skene.stan')\n"
      ],
      "execution_count": 14,
      "outputs": [
        {
          "output_type": "stream",
          "text": [
            "INFO:pystan:COMPILING THE C++ CODE FOR MODEL anon_model_4543859a14fbad94a494d1c3eeb41537 NOW.\n"
          ],
          "name": "stderr"
        }
      ]
    },
    {
      "cell_type": "code",
      "metadata": {
        "id": "EgStqi_IWaqv"
      },
      "source": [
        "w = len(np.unique(df['Worker']))\n",
        "t = len(np.unique(df['Tasca']))\n",
        "a = len(df['Anotació'])\n",
        "k = len(np.unique(df['Anotació']))\n",
        "t_A = np.array(df['Tasca'])+1\n",
        "w_A = np.array(df['Worker'])+1\n",
        "ann = np.array(df['Anotació'])+1\n",
        "tau_prior = np.array([1,1,1])\n",
        "pi_prior = np.ones((3,3))\n",
        "\n",
        "dades_sm_hom = {'w':w,'t':t,'a':a,'k':k,'t_A':t_A,'w_A':w_A,'ann':ann,'tau_prior':tau_prior,'pi_prior':pi_prior} "
      ],
      "execution_count": 15,
      "outputs": []
    },
    {
      "cell_type": "code",
      "metadata": {
        "id": "0aOCDan_Wan4"
      },
      "source": [
        "pi_ini = 0.9*np.ones(w)\n",
        "dades_inicials_hom = {'pi_k':pi_ini}"
      ],
      "execution_count": 16,
      "outputs": []
    },
    {
      "cell_type": "code",
      "metadata": {
        "colab": {
          "base_uri": "https://localhost:8080/"
        },
        "id": "lpH9e-aZWak1",
        "outputId": "c8413405-4e79-43e2-8e9a-6e16ea8fbfce"
      },
      "source": [
        "optim_homo = sm_homo.optimizing(data=dades_sm_hom,init=dades_inicials_hom)\n",
        "optim_homo"
      ],
      "execution_count": 17,
      "outputs": [
        {
          "output_type": "execute_result",
          "data": {
            "text/plain": [
              "OrderedDict([('tau', array([0.11989646, 0.258313  , 0.62179053])),\n",
              "             ('pi_k',\n",
              "              array([0.71897477, 0.68478314, 0.73840626, 0.71496385, 0.72227269,\n",
              "                     0.72119119, 0.73620445, 0.73588733, 0.74948245, 0.69940491,\n",
              "                     0.74684207, 0.71930607, 0.73118534, 0.7773559 , 0.77161839,\n",
              "                     0.73192078, 0.72292088, 0.70172006, 0.73670182, 0.7228838 ])),\n",
              "             ('log_p_t_C', array([[-22.55569233, -20.07030044,  -5.20544963],\n",
              "                     [-10.18503731, -19.81390419, -17.11943585],\n",
              "                     [-20.70959986, -18.05128371,  -8.5642629 ],\n",
              "                     ...,\n",
              "                     [-20.48418648,  -8.10386334, -18.62138449],\n",
              "                     [-20.54204088, -21.54948481,  -5.35990696],\n",
              "                     [-22.36079725, -21.59325379,  -3.56548853]])),\n",
              "             ('t_C', array([[2.91665573e-08, 3.50168561e-07, 9.99999621e-01],\n",
              "                     [9.98961569e-01, 6.57332379e-05, 9.72697403e-04],\n",
              "                     [5.31265901e-06, 7.58235259e-05, 9.99918864e-01],\n",
              "                     ...,\n",
              "                     [4.20030088e-06, 9.99968742e-01, 2.70573355e-05],\n",
              "                     [2.54966348e-07, 9.31012525e-08, 9.99999652e-01],\n",
              "                     [6.87544994e-09, 1.48129315e-08, 9.99999978e-01]])),\n",
              "             ('pi', array([[[0.71897477, 0.14051262, 0.14051262],\n",
              "                      [0.14051262, 0.71897477, 0.14051262],\n",
              "                      [0.14051262, 0.14051262, 0.71897477]],\n",
              "              \n",
              "                     [[0.68478314, 0.15760843, 0.15760843],\n",
              "                      [0.15760843, 0.68478314, 0.15760843],\n",
              "                      [0.15760843, 0.15760843, 0.68478314]],\n",
              "              \n",
              "                     [[0.73840626, 0.13079687, 0.13079687],\n",
              "                      [0.13079687, 0.73840626, 0.13079687],\n",
              "                      [0.13079687, 0.13079687, 0.73840626]],\n",
              "              \n",
              "                     [[0.71496385, 0.14251807, 0.14251807],\n",
              "                      [0.14251807, 0.71496385, 0.14251807],\n",
              "                      [0.14251807, 0.14251807, 0.71496385]],\n",
              "              \n",
              "                     [[0.72227269, 0.13886365, 0.13886365],\n",
              "                      [0.13886365, 0.72227269, 0.13886365],\n",
              "                      [0.13886365, 0.13886365, 0.72227269]],\n",
              "              \n",
              "                     [[0.72119119, 0.13940441, 0.13940441],\n",
              "                      [0.13940441, 0.72119119, 0.13940441],\n",
              "                      [0.13940441, 0.13940441, 0.72119119]],\n",
              "              \n",
              "                     [[0.73620445, 0.13189777, 0.13189777],\n",
              "                      [0.13189777, 0.73620445, 0.13189777],\n",
              "                      [0.13189777, 0.13189777, 0.73620445]],\n",
              "              \n",
              "                     [[0.73588733, 0.13205633, 0.13205633],\n",
              "                      [0.13205633, 0.73588733, 0.13205633],\n",
              "                      [0.13205633, 0.13205633, 0.73588733]],\n",
              "              \n",
              "                     [[0.74948245, 0.12525877, 0.12525877],\n",
              "                      [0.12525877, 0.74948245, 0.12525877],\n",
              "                      [0.12525877, 0.12525877, 0.74948245]],\n",
              "              \n",
              "                     [[0.69940491, 0.15029755, 0.15029755],\n",
              "                      [0.15029755, 0.69940491, 0.15029755],\n",
              "                      [0.15029755, 0.15029755, 0.69940491]],\n",
              "              \n",
              "                     [[0.74684207, 0.12657897, 0.12657897],\n",
              "                      [0.12657897, 0.74684207, 0.12657897],\n",
              "                      [0.12657897, 0.12657897, 0.74684207]],\n",
              "              \n",
              "                     [[0.71930607, 0.14034696, 0.14034696],\n",
              "                      [0.14034696, 0.71930607, 0.14034696],\n",
              "                      [0.14034696, 0.14034696, 0.71930607]],\n",
              "              \n",
              "                     [[0.73118534, 0.13440733, 0.13440733],\n",
              "                      [0.13440733, 0.73118534, 0.13440733],\n",
              "                      [0.13440733, 0.13440733, 0.73118534]],\n",
              "              \n",
              "                     [[0.7773559 , 0.11132205, 0.11132205],\n",
              "                      [0.11132205, 0.7773559 , 0.11132205],\n",
              "                      [0.11132205, 0.11132205, 0.7773559 ]],\n",
              "              \n",
              "                     [[0.77161839, 0.11419081, 0.11419081],\n",
              "                      [0.11419081, 0.77161839, 0.11419081],\n",
              "                      [0.11419081, 0.11419081, 0.77161839]],\n",
              "              \n",
              "                     [[0.73192078, 0.13403961, 0.13403961],\n",
              "                      [0.13403961, 0.73192078, 0.13403961],\n",
              "                      [0.13403961, 0.13403961, 0.73192078]],\n",
              "              \n",
              "                     [[0.72292088, 0.13853956, 0.13853956],\n",
              "                      [0.13853956, 0.72292088, 0.13853956],\n",
              "                      [0.13853956, 0.13853956, 0.72292088]],\n",
              "              \n",
              "                     [[0.70172006, 0.14913997, 0.14913997],\n",
              "                      [0.14913997, 0.70172006, 0.14913997],\n",
              "                      [0.14913997, 0.14913997, 0.70172006]],\n",
              "              \n",
              "                     [[0.73670182, 0.13164909, 0.13164909],\n",
              "                      [0.13164909, 0.73670182, 0.13164909],\n",
              "                      [0.13164909, 0.13164909, 0.73670182]],\n",
              "              \n",
              "                     [[0.7228838 , 0.1385581 , 0.1385581 ],\n",
              "                      [0.1385581 , 0.7228838 , 0.1385581 ],\n",
              "                      [0.1385581 , 0.1385581 , 0.7228838 ]]]))])"
            ]
          },
          "metadata": {
            "tags": []
          },
          "execution_count": 17
        }
      ]
    }
  ]
}