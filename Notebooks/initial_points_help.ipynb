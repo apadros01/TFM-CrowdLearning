{
  "nbformat": 4,
  "nbformat_minor": 0,
  "metadata": {
    "colab": {
      "name": "initial_points_help.ipynb",
      "provenance": [],
      "collapsed_sections": [],
      "machine_shape": "hm"
    },
    "kernelspec": {
      "display_name": "Python 3",
      "name": "python3"
    },
    "language_info": {
      "name": "python"
    }
  },
  "cells": [
    {
      "cell_type": "code",
      "metadata": {
        "colab": {
          "base_uri": "https://localhost:8080/"
        },
        "id": "U9AUbE6oJzMs",
        "outputId": "a5774103-883e-4ed1-f5f4-d61da397c73a"
      },
      "source": [
        "pip install arviz"
      ],
      "execution_count": null,
      "outputs": [
        {
          "output_type": "stream",
          "text": [
            "Requirement already satisfied: arviz in /usr/local/lib/python3.7/dist-packages (0.11.2)\n",
            "Requirement already satisfied: matplotlib>=3.0 in /usr/local/lib/python3.7/dist-packages (from arviz) (3.2.2)\n",
            "Requirement already satisfied: scipy>=0.19 in /usr/local/lib/python3.7/dist-packages (from arviz) (1.4.1)\n",
            "Requirement already satisfied: numpy>=1.12 in /usr/local/lib/python3.7/dist-packages (from arviz) (1.19.5)\n",
            "Requirement already satisfied: setuptools>=38.4 in /usr/local/lib/python3.7/dist-packages (from arviz) (57.0.0)\n",
            "Requirement already satisfied: typing-extensions<4,>=3.7.4.3 in /usr/local/lib/python3.7/dist-packages (from arviz) (3.7.4.3)\n",
            "Requirement already satisfied: netcdf4 in /usr/local/lib/python3.7/dist-packages (from arviz) (1.5.6)\n",
            "Requirement already satisfied: pandas>=0.23 in /usr/local/lib/python3.7/dist-packages (from arviz) (1.1.5)\n",
            "Requirement already satisfied: xarray>=0.16.1 in /usr/local/lib/python3.7/dist-packages (from arviz) (0.18.2)\n",
            "Requirement already satisfied: packaging in /usr/local/lib/python3.7/dist-packages (from arviz) (20.9)\n",
            "Requirement already satisfied: kiwisolver>=1.0.1 in /usr/local/lib/python3.7/dist-packages (from matplotlib>=3.0->arviz) (1.3.1)\n",
            "Requirement already satisfied: pyparsing!=2.0.4,!=2.1.2,!=2.1.6,>=2.0.1 in /usr/local/lib/python3.7/dist-packages (from matplotlib>=3.0->arviz) (2.4.7)\n",
            "Requirement already satisfied: python-dateutil>=2.1 in /usr/local/lib/python3.7/dist-packages (from matplotlib>=3.0->arviz) (2.8.1)\n",
            "Requirement already satisfied: cycler>=0.10 in /usr/local/lib/python3.7/dist-packages (from matplotlib>=3.0->arviz) (0.10.0)\n",
            "Requirement already satisfied: cftime in /usr/local/lib/python3.7/dist-packages (from netcdf4->arviz) (1.5.0)\n",
            "Requirement already satisfied: pytz>=2017.2 in /usr/local/lib/python3.7/dist-packages (from pandas>=0.23->arviz) (2018.9)\n",
            "Requirement already satisfied: six>=1.5 in /usr/local/lib/python3.7/dist-packages (from python-dateutil>=2.1->matplotlib>=3.0->arviz) (1.15.0)\n"
          ],
          "name": "stdout"
        }
      ]
    },
    {
      "cell_type": "code",
      "metadata": {
        "id": "XcOPXUVLJ7lj"
      },
      "source": [
        "import pystan\n",
        "import numpy as np\n",
        "import matplotlib.pyplot as plt\n",
        "import arviz\n",
        "import pickle\n",
        "import cmdstanpy\n",
        "import json\n",
        "import copy\n",
        "import pandas as pd"
      ],
      "execution_count": null,
      "outputs": []
    },
    {
      "cell_type": "code",
      "metadata": {
        "id": "PVAXImODJ7g6"
      },
      "source": [
        "with open('/content/drive/MyDrive/TFM-Crowd learning/multinomial.json') as json_file:\n",
        "    data = json.load(json_file)"
      ],
      "execution_count": null,
      "outputs": []
    },
    {
      "cell_type": "code",
      "metadata": {
        "colab": {
          "base_uri": "https://localhost:8080/",
          "height": 402
        },
        "id": "EeUuEbLlJ7d1",
        "outputId": "0a1c5944-d983-4813-aa6f-e586362c1258"
      },
      "source": [
        "dades={'Tasca': data['t_A'], 'Worker': data['w_A'], 'Anotació': data['ann'] }\n",
        "df = pd.DataFrame(data=dades)\n",
        "df"
      ],
      "execution_count": null,
      "outputs": [
        {
          "output_type": "execute_result",
          "data": {
            "text/html": [
              "<div>\n",
              "<style scoped>\n",
              "    .dataframe tbody tr th:only-of-type {\n",
              "        vertical-align: middle;\n",
              "    }\n",
              "\n",
              "    .dataframe tbody tr th {\n",
              "        vertical-align: top;\n",
              "    }\n",
              "\n",
              "    .dataframe thead th {\n",
              "        text-align: right;\n",
              "    }\n",
              "</style>\n",
              "<table border=\"1\" class=\"dataframe\">\n",
              "  <thead>\n",
              "    <tr style=\"text-align: right;\">\n",
              "      <th></th>\n",
              "      <th>Tasca</th>\n",
              "      <th>Worker</th>\n",
              "      <th>Anotació</th>\n",
              "    </tr>\n",
              "  </thead>\n",
              "  <tbody>\n",
              "    <tr>\n",
              "      <th>0</th>\n",
              "      <td>0</td>\n",
              "      <td>14</td>\n",
              "      <td>2</td>\n",
              "    </tr>\n",
              "    <tr>\n",
              "      <th>1</th>\n",
              "      <td>0</td>\n",
              "      <td>13</td>\n",
              "      <td>2</td>\n",
              "    </tr>\n",
              "    <tr>\n",
              "      <th>2</th>\n",
              "      <td>0</td>\n",
              "      <td>4</td>\n",
              "      <td>2</td>\n",
              "    </tr>\n",
              "    <tr>\n",
              "      <th>3</th>\n",
              "      <td>0</td>\n",
              "      <td>2</td>\n",
              "      <td>2</td>\n",
              "    </tr>\n",
              "    <tr>\n",
              "      <th>4</th>\n",
              "      <td>0</td>\n",
              "      <td>7</td>\n",
              "      <td>1</td>\n",
              "    </tr>\n",
              "    <tr>\n",
              "      <th>...</th>\n",
              "      <td>...</td>\n",
              "      <td>...</td>\n",
              "      <td>...</td>\n",
              "    </tr>\n",
              "    <tr>\n",
              "      <th>9995</th>\n",
              "      <td>999</td>\n",
              "      <td>17</td>\n",
              "      <td>2</td>\n",
              "    </tr>\n",
              "    <tr>\n",
              "      <th>9996</th>\n",
              "      <td>999</td>\n",
              "      <td>2</td>\n",
              "      <td>2</td>\n",
              "    </tr>\n",
              "    <tr>\n",
              "      <th>9997</th>\n",
              "      <td>999</td>\n",
              "      <td>13</td>\n",
              "      <td>2</td>\n",
              "    </tr>\n",
              "    <tr>\n",
              "      <th>9998</th>\n",
              "      <td>999</td>\n",
              "      <td>14</td>\n",
              "      <td>2</td>\n",
              "    </tr>\n",
              "    <tr>\n",
              "      <th>9999</th>\n",
              "      <td>999</td>\n",
              "      <td>15</td>\n",
              "      <td>2</td>\n",
              "    </tr>\n",
              "  </tbody>\n",
              "</table>\n",
              "<p>10000 rows × 3 columns</p>\n",
              "</div>"
            ],
            "text/plain": [
              "      Tasca  Worker  Anotació\n",
              "0         0      14         2\n",
              "1         0      13         2\n",
              "2         0       4         2\n",
              "3         0       2         2\n",
              "4         0       7         1\n",
              "...     ...     ...       ...\n",
              "9995    999      17         2\n",
              "9996    999       2         2\n",
              "9997    999      13         2\n",
              "9998    999      14         2\n",
              "9999    999      15         2\n",
              "\n",
              "[10000 rows x 3 columns]"
            ]
          },
          "metadata": {
            "tags": []
          },
          "execution_count": 21
        }
      ]
    },
    {
      "cell_type": "code",
      "metadata": {
        "colab": {
          "base_uri": "https://localhost:8080/"
        },
        "id": "-D_gGdmaKQBm",
        "outputId": "3454c79b-7fce-4fa9-d2af-54c090594a5c"
      },
      "source": [
        "sm_general = pystan.StanModel(file='/content/drive/MyDrive/TFM-Crowd learning/Fitxers STAN/general_dawid-skene.stan')\n"
      ],
      "execution_count": null,
      "outputs": [
        {
          "output_type": "stream",
          "text": [
            "INFO:pystan:COMPILING THE C++ CODE FOR MODEL anon_model_b3b91d5d08ea08e32e8380bfec8b2a00 NOW.\n"
          ],
          "name": "stderr"
        }
      ]
    },
    {
      "cell_type": "code",
      "metadata": {
        "id": "PF2i4MqaKP-t"
      },
      "source": [
        "w = len(np.unique(df['Worker']))\n",
        "t = len(np.unique(df['Tasca']))\n",
        "a = len(df['Anotació'])\n",
        "k = len(np.unique(df['Anotació']))\n",
        "t_A = np.array(df['Tasca'])+1\n",
        "w_A = np.array(df['Worker'])+1\n",
        "ann = np.array(df['Anotació'])+1\n",
        "tau_prior = np.array([1,1,1])\n",
        "pi_prior = np.ones((k,k))\n",
        "\n",
        "dades_sm_gen = {'w':w,'t':t,'a':a,'k':k,'t_A':t_A,'w_A':w_A,'ann':ann,'tau_prior':tau_prior,'pi_prior':pi_prior} "
      ],
      "execution_count": null,
      "outputs": []
    },
    {
      "cell_type": "code",
      "metadata": {
        "id": "iKj71sy5KP77"
      },
      "source": [
        "pi_ini = np.zeros((w,k,k))\n",
        "for yw in range(w):\n",
        "  pi_ini[yw] = np.eye(k)+0.05\n",
        "  pi_ini[yw] /= np.sum(pi_ini[yw],axis=1)\n",
        "dades_inicials_gen = {'pi':pi_ini}"
      ],
      "execution_count": null,
      "outputs": []
    },
    {
      "cell_type": "code",
      "metadata": {
        "colab": {
          "base_uri": "https://localhost:8080/"
        },
        "id": "nYp4yzigKPJM",
        "outputId": "00f72e92-e6a1-4fbf-d79c-2cb7addc5b72"
      },
      "source": [
        "optim = sm_general.optimizing(data=dades_sm_gen,init=dades_inicials_gen)\n",
        "optim"
      ],
      "execution_count": null,
      "outputs": [
        {
          "output_type": "execute_result",
          "data": {
            "text/plain": [
              "OrderedDict([('tau', array([0.11256323, 0.29707964, 0.59035713])),\n",
              "             ('pi', array([[[0.85027659, 0.07914737, 0.07057604],\n",
              "                      [0.21906133, 0.58875925, 0.19217942],\n",
              "                      [0.1476537 , 0.09129954, 0.76104676]],\n",
              "              \n",
              "                     [[0.65431339, 0.12650252, 0.21918408],\n",
              "                      [0.30767495, 0.51726491, 0.17506014],\n",
              "                      [0.13057251, 0.11073493, 0.75869256]],\n",
              "              \n",
              "                     [[0.62403074, 0.08480038, 0.29116888],\n",
              "                      [0.21373934, 0.60220277, 0.18405789],\n",
              "                      [0.07408976, 0.10848996, 0.81742028]],\n",
              "              \n",
              "                     [[0.69219445, 0.09323169, 0.21457387],\n",
              "                      [0.19745929, 0.63425792, 0.16828279],\n",
              "                      [0.09578127, 0.1382563 , 0.76596243]],\n",
              "              \n",
              "                     [[0.55516061, 0.16265626, 0.28218313],\n",
              "                      [0.22259636, 0.63069604, 0.1467076 ],\n",
              "                      [0.08058411, 0.12261342, 0.79680247]],\n",
              "              \n",
              "                     [[0.5955986 , 0.09822382, 0.30617758],\n",
              "                      [0.20055993, 0.5774094 , 0.22203067],\n",
              "                      [0.09019856, 0.09381215, 0.8159893 ]],\n",
              "              \n",
              "                     [[0.64333278, 0.15139148, 0.20527574],\n",
              "                      [0.1693104 , 0.60497142, 0.22571818],\n",
              "                      [0.0937754 , 0.0870967 , 0.81912791]],\n",
              "              \n",
              "                     [[0.70205111, 0.0797958 , 0.21815309],\n",
              "                      [0.24754325, 0.54840965, 0.2040471 ],\n",
              "                      [0.06791884, 0.10967573, 0.82240544]],\n",
              "              \n",
              "                     [[0.70357269, 0.12976809, 0.16665922],\n",
              "                      [0.19030921, 0.6122694 , 0.19742139],\n",
              "                      [0.10336319, 0.07138997, 0.82524685]],\n",
              "              \n",
              "                     [[0.59189934, 0.24422687, 0.16387379],\n",
              "                      [0.25647766, 0.53024648, 0.21327586],\n",
              "                      [0.11072919, 0.09560534, 0.79366547]],\n",
              "              \n",
              "                     [[0.81305801, 0.0403378 , 0.14660419],\n",
              "                      [0.19493606, 0.64091659, 0.16414735],\n",
              "                      [0.09013871, 0.12478843, 0.78507286]],\n",
              "              \n",
              "                     [[0.60295828, 0.1071318 , 0.28990992],\n",
              "                      [0.20812488, 0.56438842, 0.22748669],\n",
              "                      [0.0858601 , 0.10709279, 0.80704711]],\n",
              "              \n",
              "                     [[0.73077268, 0.12212834, 0.14709898],\n",
              "                      [0.20705229, 0.62627437, 0.16667334],\n",
              "                      [0.10562499, 0.10201669, 0.79235832]],\n",
              "              \n",
              "                     [[0.7162362 , 0.1412281 , 0.1425357 ],\n",
              "                      [0.20967503, 0.62033845, 0.16998652],\n",
              "                      [0.04103984, 0.0987723 , 0.86018786]],\n",
              "              \n",
              "                     [[0.82867528, 0.03624149, 0.13508323],\n",
              "                      [0.18705887, 0.62617996, 0.18676117],\n",
              "                      [0.09613008, 0.07810147, 0.82576845]],\n",
              "              \n",
              "                     [[0.60079346, 0.07865611, 0.32055043],\n",
              "                      [0.24246907, 0.60068377, 0.15684717],\n",
              "                      [0.07376329, 0.11194592, 0.81429079]],\n",
              "              \n",
              "                     [[0.71551776, 0.06460769, 0.21987455],\n",
              "                      [0.21655861, 0.63664464, 0.14679675],\n",
              "                      [0.09841753, 0.11524143, 0.78634104]],\n",
              "              \n",
              "                     [[0.7237686 , 0.08665446, 0.18957694],\n",
              "                      [0.26253852, 0.53114392, 0.20631755],\n",
              "                      [0.10161701, 0.1208319 , 0.77755109]],\n",
              "              \n",
              "                     [[0.72819449, 0.03355662, 0.23824889],\n",
              "                      [0.21047953, 0.59458657, 0.1949339 ],\n",
              "                      [0.08764505, 0.11163002, 0.80072493]],\n",
              "              \n",
              "                     [[0.71876342, 0.07798195, 0.20325463],\n",
              "                      [0.2271048 , 0.58594172, 0.18695348],\n",
              "                      [0.10261172, 0.10373398, 0.7936543 ]]])),\n",
              "             ('log_p_t_C', array([[-19.24398033, -17.92306273,  -4.65968057],\n",
              "                     [ -9.26025882, -15.20943916, -21.39129098],\n",
              "                     [-20.0200091 , -15.25228215,  -8.69517727],\n",
              "                     ...,\n",
              "                     [-24.67635607,  -8.74599099, -20.46300373],\n",
              "                     [-17.56450751, -18.130648  ,  -4.9292095 ],\n",
              "                     [-18.31235445, -17.78522962,  -2.64578608]])),\n",
              "             ('t_C', array([[4.63572999e-07, 1.73694217e-06, 9.99997799e-01],\n",
              "                     [9.97393445e-01, 2.60117946e-03, 5.37559054e-06],\n",
              "                     [1.20522057e-05, 1.41796020e-03, 9.98569988e-01],\n",
              "                     ...,\n",
              "                     [1.20649842e-07, 9.99991726e-01, 8.15384457e-06],\n",
              "                     [3.25504935e-06, 1.84793159e-06, 9.99994897e-01],\n",
              "                     [1.57070860e-07, 2.66086614e-07, 9.99999577e-01]]))])"
            ]
          },
          "metadata": {
            "tags": []
          },
          "execution_count": 26
        }
      ]
    },
    {
      "cell_type": "code",
      "metadata": {
        "colab": {
          "base_uri": "https://localhost:8080/"
        },
        "id": "125SS2BAKPH5",
        "outputId": "e0c13146-db15-4569-deaf-e9e14a031650"
      },
      "source": [
        "sm_gener_data = pystan.StanModel(file='/content/drive/MyDrive/TFM-Crowd learning/Fitxers STAN/generate_data.stan')\n"
      ],
      "execution_count": null,
      "outputs": [
        {
          "output_type": "stream",
          "text": [
            "INFO:pystan:COMPILING THE C++ CODE FOR MODEL anon_model_8251fcac44b8988cc03b6a3bfb75909e NOW.\n"
          ],
          "name": "stderr"
        }
      ]
    },
    {
      "cell_type": "code",
      "metadata": {
        "colab": {
          "base_uri": "https://localhost:8080/"
        },
        "id": "8FuVunqCaSXT",
        "outputId": "65dddd51-b7c9-403e-ee18-3b5ad7823326"
      },
      "source": [
        "sm_pooled_mult = pystan.StanModel(file='/content/drive/MyDrive/TFM-Crowd learning/Fitxers STAN/Multinomial.fit_and_consensus.stan')\n"
      ],
      "execution_count": null,
      "outputs": [
        {
          "output_type": "stream",
          "text": [
            "INFO:pystan:COMPILING THE C++ CODE FOR MODEL anon_model_eb22c1a71e18909250dd5ae3d1ee0693 NOW.\n"
          ],
          "name": "stderr"
        }
      ]
    },
    {
      "cell_type": "code",
      "metadata": {
        "id": "A04_GoH-KPGm"
      },
      "source": [
        "import random \n",
        "from scipy.stats import entropy\n",
        "\n",
        "def generate_new_data(opt,k):\n",
        "  results = opt['ann']-1\n",
        "  results=np.where(results<0,np.nan,results)\n",
        "  diction = {}\n",
        "  for i in range(k):\n",
        "    diction[\"where_{0}_task\".format(i)] = np.where(results==i)[0]\n",
        "    diction[\"where_{0}_worker\".format(i)] = np.where(results==i)[1]\n",
        "    diction[\"annotation_{0}\".format(i)] = np.full(len(diction[\"where_{0}_task\".format(i)]), fill_value=i, dtype = np.int)\n",
        "  tasks_col = np.concatenate([diction[\"where_{0}_task\".format(i)] for i in range(k)])\n",
        "  workers_col = np.concatenate([diction[\"where_{0}_worker\".format(i)] for i in range(k)])\n",
        "  annotatios_col = np.concatenate([diction[\"annotation_{0}\".format(i)] for i in range(k)])\n",
        "  d = {'Tasca': tasks_col, 'Worker': workers_col, 'Anotació':annotatios_col}\n",
        "  return pd.DataFrame(d).sort_values(by='Tasca')\n",
        "\n",
        "\n",
        "def majority_voting(dataframe):\n",
        "  a = len(np.unique(dataframe['Tasca']))\n",
        "  tc = []\n",
        "  for i in range(0,a):\n",
        "    annotations = np.array(dataframe[dataframe['Tasca']==i]['Anotació'])\n",
        "    tc.append(np.argmax(np.bincount(annotations)))\n",
        "  return np.array(tc)\n",
        "\n",
        "\n",
        "def generate_permutation(perm):\n",
        "    l=list(perm)\n",
        "    uniques=[k for k in l if l.count(k)==1]\n",
        "    if len(uniques)==len(l): \n",
        "      return np.array(l)\n",
        "    existing=list(set(l))\n",
        "    rank=list(range(len(l)))\n",
        "    missing=[x for x in rank if x not in existing]\n",
        "    corrected=[]\n",
        "    for k in range(len(l)):\n",
        "        if l[k] not in uniques:\n",
        "            if l[k] not in corrected:\n",
        "                if l[l[k]]==l[k]:\n",
        "                    if k!=l[k]:\n",
        "                        l[k]=missing[0]\n",
        "                        missing.pop(0)\n",
        "                    else:\n",
        "                        corrected.append(l[k])\n",
        "                else:\n",
        "                    corrected.append(l[k])\n",
        "            else:\n",
        "                l[k]=missing[0]\n",
        "                missing.pop(0)\n",
        "        else:\n",
        "          continue\n",
        "    return np.array(l)\n",
        "\n",
        "def pipeline(t,ann_per_task,tau,pi,tau_prior,pi_prior,sm_generate = sm_gener_data,sm2 = sm_general, sm3 = sm_pooled_mult, algorithm = \"LBFGS\" ):\n",
        "  w = pi.shape[0]\n",
        "  k = pi.shape[1]\n",
        "  workers_random_order = []\n",
        "  for i in range(t):\n",
        "    workers=np.arange(1,w+1)\n",
        "    random.shuffle(workers)\n",
        "    workers_random_order.append(workers)\n",
        "  data_to_pass = {'w':w,'t':t,'k':k,'tau':tau,'ann_per_task':ann_per_task,'workers_random_order':workers_random_order,'pi':pi} \n",
        "  generated_data = sm_generate.optimizing(data=data_to_pass)\n",
        "  generated_data_df = generate_new_data(generated_data,k)\n",
        "  a = len(generated_data_df['Anotació'])\n",
        "  t_A = np.array(generated_data_df['Tasca'])+1\n",
        "  w_A = np.array(generated_data_df['Worker'])+1\n",
        "  ann = np.array(generated_data_df['Anotació'])+1\n",
        "  data_to_pass_2 = {'w':w,'t':t,'a':a,'k':k,'t_A':t_A,'w_A':w_A,'ann':ann,'tau_prior':tau_prior,'pi_prior':pi_prior} \n",
        "  \n",
        "  #we apply pooled multinomial for obtaining initial points\n",
        "  tc_majority_voting = majority_voting(generated_data_df)\n",
        "  initial_tau = np.unique(tc_majority_voting,return_counts=True)[1]/sum(np.unique(tc_majority_voting,return_counts=True)[1])\n",
        "  initial_points = {'tau':initial_tau}\n",
        "  pooled_results = sm3.optimizing(data=data_to_pass_2,init=initial_points,algorithm = algorithm)\n",
        "  \n",
        "  pi_init = np.zeros((w,k,k))\n",
        "  for i in range(w):\n",
        "    pi_init[i] += pooled_results['pi']\n",
        "\n",
        "  init_points_2 = {'tau':pooled_results['tau'],'pi':pi_init}\n",
        "  params = sm2.optimizing(data=data_to_pass_2,init = init_points_2, algorithm = algorithm )\n",
        "  return params\n",
        "\n",
        "def kullback_leibler_tau(tau_init,tau_hat):\n",
        "  entrop = entropy(pk = tau_init, qk = tau_hat)\n",
        "  if entrop == np.nan or entrop == np.inf: #should never enter here\n",
        "    return 100 \n",
        "  else:\n",
        "    return entrop\n",
        "\n",
        "def kullback_leibler_pi(pi_init,pi_hat):\n",
        "  KL_values = []\n",
        "  for i in range(len(pi_init)):\n",
        "    entrop = entropy(pk = pi_init[i], qk = pi_hat[i])\n",
        "    if np.isinf(entrop).all() ==True or np.isnan(entrop).all()==True:  #should never enter here\n",
        "      continue\n",
        "    KL_values.append(np.nanmax(entrop[entrop != np.inf]))\n",
        "  \n",
        "  if not KL_values: #if array is empty\n",
        "    return 100 #case where it has worked horrible, should never enter here\n",
        "  else:\n",
        "    return np.nanmedian(KL_values)\n",
        "\n",
        "\n",
        "def correct_label_switching(tau,pi):\n",
        "  acumulacio_permutacions=[]\n",
        "\n",
        "  new_pi = copy.deepcopy(pi)\n",
        "  new_tau = copy.deepcopy(tau)\n",
        "\n",
        "\n",
        "  for w in range(len(pi)):\n",
        "    on_hauria_danar = np.argmax(pi[w],axis=1)\n",
        "    acumulacio_permutacions.append(on_hauria_danar)\n",
        "\n",
        "  #we determine the winner permutation in order to apply it to tau and pi\n",
        "  values, counts = np.unique(acumulacio_permutacions,axis=0, return_counts=True)\n",
        "  ind = np.argmax(counts)\n",
        "  permutacio = values[ind]\n",
        "\n",
        "  #fix (if necessary) the obtained permutation (the result is an array!)\n",
        "  good_permutation = generate_permutation(permutacio)\n",
        "\n",
        "  #update pi\n",
        "  for w in range(len(pi)):\n",
        "    new_pi[w,good_permutation,:] = pi[w,np.arange(len(pi[w])),:]\n",
        "\n",
        "  #update tau\n",
        "  for i in range(len(tau)):\n",
        "    new_tau[good_permutation[i]] = tau[i]\n",
        "\n",
        "  return new_tau,new_pi\n",
        "\n",
        "\n",
        "def get_KL_values(tau,pi,exp):\n",
        "  exps =  copy.deepcopy(exp)\n",
        "  tau_hat = exps['tau']\n",
        "  pi_hat = exps['pi']\n",
        "  KL_tau_no_LS = kullback_leibler_tau(tau,tau_hat)\n",
        "  KL_pi_no_LS = kullback_leibler_pi(pi,pi_hat)\n",
        "  new_tau_hat,new_pi_hat = correct_label_switching(tau_hat,pi_hat)\n",
        "  KL_tau_LS = kullback_leibler_tau(tau,new_tau_hat)\n",
        "  KL_pi_LS = kullback_leibler_pi(pi,new_pi_hat)\n",
        "  return KL_tau_no_LS,KL_pi_no_LS,KL_tau_LS,KL_pi_LS\n",
        "\n",
        "def experiment_repetition(t,ann_per_task,tau,pi,tau_prior,pi_prior,num_repetitions=500, algorithm = \"LBFGS\"):\n",
        "  KL_tau_no_LS_values=[]\n",
        "  KL_pi_no_LS_values=[]\n",
        "  KL_tau_LS_values=[]\n",
        "  KL_pi_LS_values=[]\n",
        "  for i in range(num_repetitions):\n",
        "    exp = pipeline(t,ann_per_task,tau,pi,tau_prior,pi_prior,algorithm=algorithm)\n",
        "    KL_tau_no_LS,KL_pi_no_LS,KL_tau_LS,KL_pi_LS = get_KL_values(tau,pi,exp)\n",
        "    KL_tau_no_LS_values.append(KL_tau_no_LS)\n",
        "    KL_pi_no_LS_values.append(KL_pi_no_LS)\n",
        "    KL_tau_LS_values.append(KL_tau_LS)\n",
        "    KL_pi_LS_values.append(KL_pi_LS)\n",
        "  return KL_tau_no_LS_values,KL_pi_no_LS_values,KL_tau_LS_values,KL_pi_LS_values\n",
        "\n"
      ],
      "execution_count": null,
      "outputs": []
    },
    {
      "cell_type": "markdown",
      "metadata": {
        "id": "MVn4u-Kv-uNH"
      },
      "source": [
        "## Diagonal dominant"
      ]
    },
    {
      "cell_type": "code",
      "metadata": {
        "colab": {
          "base_uri": "https://localhost:8080/"
        },
        "id": "7ETta5IYLdrg",
        "outputId": "db3b6497-f9b4-47d4-f073-d59719306fba"
      },
      "source": [
        "#PIPELINE CELL\n",
        "k=4\n",
        "\n",
        "tau_prior = np.full(shape=k,fill_value=1)\n",
        "pi_prior = np.ones((k,k))\n",
        "tau = np.random.dirichlet([30,30,30,30])\n",
        "num_workers=100\n",
        "pi = np.zeros((num_workers,k,k))\n",
        "\n",
        "for w in range(num_workers):\n",
        "  matriu_randoms_dirichlet = np.array([[75+random.randint(-5,5),12,12,12],\n",
        "                                      [12,75+random.randint(-5,5),12,12],\n",
        "                                      [12,12,75+random.randint(-5,5),12],\n",
        "                                      [12,12,12,75+random.randint(-5,5)]])\n",
        "  for i in range(k):\n",
        "    pi[w][i] += np.random.dirichlet(matriu_randoms_dirichlet[i])\n",
        "\n",
        "KL_tau_no_LS_values=[]\n",
        "KL_pi_no_LS_values=[]\n",
        "KL_tau_LS_values=[]\n",
        "KL_pi_LS_values=[]\n",
        "\n",
        "\n",
        "for i in range(6,62,2):\n",
        "  print(i)\n",
        "  KL_tau_no_LS,KL_pi_no_LS,KL_tau_LS,KL_pi_LS= experiment_repetition(t=500,ann_per_task=i,tau=tau,pi=pi,tau_prior = tau_prior,pi_prior=pi_prior)\n",
        "  KL_tau_no_LS_values.append(KL_tau_no_LS)\n",
        "  KL_pi_no_LS_values.append(KL_pi_no_LS)\n",
        "  KL_tau_LS_values.append(KL_tau_LS)\n",
        "  KL_pi_LS_values.append(KL_pi_LS)\n",
        "\n",
        "KL_tau_no_LS_values = np.array(KL_tau_no_LS_values)\n",
        "KL_pi_no_LS_values = np.array(KL_pi_no_LS_values)\n",
        "KL_tau_LS_values = np.array(KL_tau_LS_values)\n",
        "KL_pi_LS_values = np.array(KL_pi_LS_values)\n",
        "\n",
        "print(KL_tau_no_LS_values.shape)\n",
        "print(KL_pi_no_LS_values.shape)\n",
        "print(KL_tau_LS_values.shape)\n",
        "print(KL_pi_LS_values.shape)\n"
      ],
      "execution_count": null,
      "outputs": [
        {
          "output_type": "stream",
          "text": [
            "INFO:numexpr.utils:NumExpr defaulting to 2 threads.\n"
          ],
          "name": "stderr"
        },
        {
          "output_type": "stream",
          "text": [
            "6\n",
            "8\n",
            "10\n",
            "12\n",
            "14\n",
            "16\n",
            "18\n",
            "20\n",
            "22\n",
            "24\n",
            "26\n",
            "28\n",
            "30\n",
            "32\n",
            "34\n",
            "36\n",
            "38\n",
            "40\n",
            "42\n",
            "44\n",
            "46\n",
            "48\n",
            "50\n",
            "52\n",
            "54\n",
            "56\n",
            "58\n",
            "60\n",
            "(28, 500)\n",
            "(28, 500)\n",
            "(28, 500)\n",
            "(28, 500)\n"
          ],
          "name": "stdout"
        }
      ]
    },
    {
      "cell_type": "code",
      "metadata": {
        "id": "SilRmJxx_AVg"
      },
      "source": [
        "#save values in txt file\n",
        "file_KL_tau_no_LS_values = open(\"diagonal_dom_100_workers_tau_dirichlet_30_KL_tau_no_LS_values.txt\", \"w\")\n",
        "for row in KL_tau_no_LS_values:\n",
        "  np.savetxt(file_KL_tau_no_LS_values, row)\n",
        "\n",
        "file_KL_tau_no_LS_values.close()\n",
        "\n",
        "file_KL_pi_no_LS_values = open(\"diagonal_dom_100_workers_tau_dirichlet_30_KL_pi_no_LS_values.txt\", \"w\")\n",
        "for row in KL_pi_no_LS_values:\n",
        "  np.savetxt(file_KL_pi_no_LS_values, row)\n",
        "\n",
        "file_KL_pi_no_LS_values.close()\n",
        "\n",
        "\n",
        "file_KL_tau_LS_values = open(\"diagonal_dom_100_workers_tau_dirichlet_30_tau_LS_values.txt\", \"w\")\n",
        "for row in KL_tau_LS_values:\n",
        "  np.savetxt(file_KL_tau_LS_values, row)\n",
        "\n",
        "file_KL_tau_LS_values.close()\n",
        "\n",
        "file_KL_pi_LS_values = open(\"diagonal_dom_100_workers_tau_dirichlet_30_KL_pi_LS_values.txt\", \"w\")\n",
        "for row in KL_pi_LS_values:\n",
        "  np.savetxt(file_KL_pi_LS_values, row)\n",
        "\n",
        "file_KL_pi_LS_values.close()\n"
      ],
      "execution_count": null,
      "outputs": []
    },
    {
      "cell_type": "code",
      "metadata": {
        "colab": {
          "base_uri": "https://localhost:8080/",
          "height": 17
        },
        "id": "xVHgQU6b_AR_",
        "outputId": "6c9b3fd9-343b-437e-db9e-03e6f069a98a"
      },
      "source": [
        "from google.colab import files\n",
        "files.download('diagonal_dom_100_workers_tau_dirichlet_30_KL_tau_no_LS_values.txt')\n",
        "files.download('diagonal_dom_100_workers_tau_dirichlet_30_KL_pi_no_LS_values.txt')\n",
        "files.download('diagonal_dom_100_workers_tau_dirichlet_30_tau_LS_values.txt')\n",
        "files.download('diagonal_dom_100_workers_tau_dirichlet_30_KL_pi_LS_values.txt')"
      ],
      "execution_count": null,
      "outputs": [
        {
          "output_type": "display_data",
          "data": {
            "application/javascript": [
              "\n",
              "    async function download(id, filename, size) {\n",
              "      if (!google.colab.kernel.accessAllowed) {\n",
              "        return;\n",
              "      }\n",
              "      const div = document.createElement('div');\n",
              "      const label = document.createElement('label');\n",
              "      label.textContent = `Downloading \"${filename}\": `;\n",
              "      div.appendChild(label);\n",
              "      const progress = document.createElement('progress');\n",
              "      progress.max = size;\n",
              "      div.appendChild(progress);\n",
              "      document.body.appendChild(div);\n",
              "\n",
              "      const buffers = [];\n",
              "      let downloaded = 0;\n",
              "\n",
              "      const channel = await google.colab.kernel.comms.open(id);\n",
              "      // Send a message to notify the kernel that we're ready.\n",
              "      channel.send({})\n",
              "\n",
              "      for await (const message of channel.messages) {\n",
              "        // Send a message to notify the kernel that we're ready.\n",
              "        channel.send({})\n",
              "        if (message.buffers) {\n",
              "          for (const buffer of message.buffers) {\n",
              "            buffers.push(buffer);\n",
              "            downloaded += buffer.byteLength;\n",
              "            progress.value = downloaded;\n",
              "          }\n",
              "        }\n",
              "      }\n",
              "      const blob = new Blob(buffers, {type: 'application/binary'});\n",
              "      const a = document.createElement('a');\n",
              "      a.href = window.URL.createObjectURL(blob);\n",
              "      a.download = filename;\n",
              "      div.appendChild(a);\n",
              "      a.click();\n",
              "      div.remove();\n",
              "    }\n",
              "  "
            ],
            "text/plain": [
              "<IPython.core.display.Javascript object>"
            ]
          },
          "metadata": {
            "tags": []
          }
        },
        {
          "output_type": "display_data",
          "data": {
            "application/javascript": [
              "download(\"download_6e53e681-87c5-4d67-bc2d-6b511250c2f6\", \"diagonal_dom_100_workers_tau_dirichlet_30_KL_tau_no_LS_values.txt\", 350000)"
            ],
            "text/plain": [
              "<IPython.core.display.Javascript object>"
            ]
          },
          "metadata": {
            "tags": []
          }
        },
        {
          "output_type": "display_data",
          "data": {
            "application/javascript": [
              "\n",
              "    async function download(id, filename, size) {\n",
              "      if (!google.colab.kernel.accessAllowed) {\n",
              "        return;\n",
              "      }\n",
              "      const div = document.createElement('div');\n",
              "      const label = document.createElement('label');\n",
              "      label.textContent = `Downloading \"${filename}\": `;\n",
              "      div.appendChild(label);\n",
              "      const progress = document.createElement('progress');\n",
              "      progress.max = size;\n",
              "      div.appendChild(progress);\n",
              "      document.body.appendChild(div);\n",
              "\n",
              "      const buffers = [];\n",
              "      let downloaded = 0;\n",
              "\n",
              "      const channel = await google.colab.kernel.comms.open(id);\n",
              "      // Send a message to notify the kernel that we're ready.\n",
              "      channel.send({})\n",
              "\n",
              "      for await (const message of channel.messages) {\n",
              "        // Send a message to notify the kernel that we're ready.\n",
              "        channel.send({})\n",
              "        if (message.buffers) {\n",
              "          for (const buffer of message.buffers) {\n",
              "            buffers.push(buffer);\n",
              "            downloaded += buffer.byteLength;\n",
              "            progress.value = downloaded;\n",
              "          }\n",
              "        }\n",
              "      }\n",
              "      const blob = new Blob(buffers, {type: 'application/binary'});\n",
              "      const a = document.createElement('a');\n",
              "      a.href = window.URL.createObjectURL(blob);\n",
              "      a.download = filename;\n",
              "      div.appendChild(a);\n",
              "      a.click();\n",
              "      div.remove();\n",
              "    }\n",
              "  "
            ],
            "text/plain": [
              "<IPython.core.display.Javascript object>"
            ]
          },
          "metadata": {
            "tags": []
          }
        },
        {
          "output_type": "display_data",
          "data": {
            "application/javascript": [
              "download(\"download_0e4d3bc3-b223-4c0e-8207-53ac0253ff1f\", \"diagonal_dom_100_workers_tau_dirichlet_30_KL_pi_no_LS_values.txt\", 350000)"
            ],
            "text/plain": [
              "<IPython.core.display.Javascript object>"
            ]
          },
          "metadata": {
            "tags": []
          }
        },
        {
          "output_type": "display_data",
          "data": {
            "application/javascript": [
              "\n",
              "    async function download(id, filename, size) {\n",
              "      if (!google.colab.kernel.accessAllowed) {\n",
              "        return;\n",
              "      }\n",
              "      const div = document.createElement('div');\n",
              "      const label = document.createElement('label');\n",
              "      label.textContent = `Downloading \"${filename}\": `;\n",
              "      div.appendChild(label);\n",
              "      const progress = document.createElement('progress');\n",
              "      progress.max = size;\n",
              "      div.appendChild(progress);\n",
              "      document.body.appendChild(div);\n",
              "\n",
              "      const buffers = [];\n",
              "      let downloaded = 0;\n",
              "\n",
              "      const channel = await google.colab.kernel.comms.open(id);\n",
              "      // Send a message to notify the kernel that we're ready.\n",
              "      channel.send({})\n",
              "\n",
              "      for await (const message of channel.messages) {\n",
              "        // Send a message to notify the kernel that we're ready.\n",
              "        channel.send({})\n",
              "        if (message.buffers) {\n",
              "          for (const buffer of message.buffers) {\n",
              "            buffers.push(buffer);\n",
              "            downloaded += buffer.byteLength;\n",
              "            progress.value = downloaded;\n",
              "          }\n",
              "        }\n",
              "      }\n",
              "      const blob = new Blob(buffers, {type: 'application/binary'});\n",
              "      const a = document.createElement('a');\n",
              "      a.href = window.URL.createObjectURL(blob);\n",
              "      a.download = filename;\n",
              "      div.appendChild(a);\n",
              "      a.click();\n",
              "      div.remove();\n",
              "    }\n",
              "  "
            ],
            "text/plain": [
              "<IPython.core.display.Javascript object>"
            ]
          },
          "metadata": {
            "tags": []
          }
        },
        {
          "output_type": "display_data",
          "data": {
            "application/javascript": [
              "download(\"download_fd18b197-c9a6-4609-9b5b-b8340d2bfaf7\", \"diagonal_dom_100_workers_tau_dirichlet_30_tau_LS_values.txt\", 350000)"
            ],
            "text/plain": [
              "<IPython.core.display.Javascript object>"
            ]
          },
          "metadata": {
            "tags": []
          }
        },
        {
          "output_type": "display_data",
          "data": {
            "application/javascript": [
              "\n",
              "    async function download(id, filename, size) {\n",
              "      if (!google.colab.kernel.accessAllowed) {\n",
              "        return;\n",
              "      }\n",
              "      const div = document.createElement('div');\n",
              "      const label = document.createElement('label');\n",
              "      label.textContent = `Downloading \"${filename}\": `;\n",
              "      div.appendChild(label);\n",
              "      const progress = document.createElement('progress');\n",
              "      progress.max = size;\n",
              "      div.appendChild(progress);\n",
              "      document.body.appendChild(div);\n",
              "\n",
              "      const buffers = [];\n",
              "      let downloaded = 0;\n",
              "\n",
              "      const channel = await google.colab.kernel.comms.open(id);\n",
              "      // Send a message to notify the kernel that we're ready.\n",
              "      channel.send({})\n",
              "\n",
              "      for await (const message of channel.messages) {\n",
              "        // Send a message to notify the kernel that we're ready.\n",
              "        channel.send({})\n",
              "        if (message.buffers) {\n",
              "          for (const buffer of message.buffers) {\n",
              "            buffers.push(buffer);\n",
              "            downloaded += buffer.byteLength;\n",
              "            progress.value = downloaded;\n",
              "          }\n",
              "        }\n",
              "      }\n",
              "      const blob = new Blob(buffers, {type: 'application/binary'});\n",
              "      const a = document.createElement('a');\n",
              "      a.href = window.URL.createObjectURL(blob);\n",
              "      a.download = filename;\n",
              "      div.appendChild(a);\n",
              "      a.click();\n",
              "      div.remove();\n",
              "    }\n",
              "  "
            ],
            "text/plain": [
              "<IPython.core.display.Javascript object>"
            ]
          },
          "metadata": {
            "tags": []
          }
        },
        {
          "output_type": "display_data",
          "data": {
            "application/javascript": [
              "download(\"download_59ca9353-a87e-440f-9dad-82a0f84c023c\", \"diagonal_dom_100_workers_tau_dirichlet_30_KL_pi_LS_values.txt\", 350000)"
            ],
            "text/plain": [
              "<IPython.core.display.Javascript object>"
            ]
          },
          "metadata": {
            "tags": []
          }
        }
      ]
    },
    {
      "cell_type": "code",
      "metadata": {
        "id": "ew3ga0dU_AO4"
      },
      "source": [
        "#to recover the arrays from the txt files, compile this:\n",
        "#FOR THE SHAPES, SEE THE prints from the pipeline CELL\n",
        "original_KL_tau_no_LS_values = np.loadtxt(\"/content/drive/MyDrive/TFM-Crowd learning/txt files/diagonal_dom_100_workers_tau_dirichlet_30_KL_tau_no_LS_values.txt\").reshape(28, 500)\n",
        "original_KL_pi_no_LS_values = np.loadtxt(\"/content/drive/MyDrive/TFM-Crowd learning/txt files/diagonal_dom_100_workers_tau_dirichlet_30_KL_pi_no_LS_values.txt\").reshape(28,500)\n",
        "original_KL_tau_LS_values = np.loadtxt(\"/content/drive/MyDrive/TFM-Crowd learning/txt files/diagonal_dom_100_workers_tau_dirichlet_30_tau_LS_values.txt\").reshape(28,500)\n",
        "original_KL_pi_LS_values = np.loadtxt(\"/content/drive/MyDrive/TFM-Crowd learning/txt files/diagonal_dom_100_workers_tau_dirichlet_30_KL_pi_LS_values.txt\").reshape(28,500)"
      ],
      "execution_count": null,
      "outputs": []
    },
    {
      "cell_type": "code",
      "metadata": {
        "colab": {
          "base_uri": "https://localhost:8080/",
          "height": 295
        },
        "id": "-ThqWbD8_AKT",
        "outputId": "00af4479-e1bb-4131-9b18-de13b12ebf2b"
      },
      "source": [
        "import matplotlib.pyplot as plt\n",
        "annots_x_task = np.arange(start=6,stop=60+2,step=2)\n",
        "ax = plt.subplot()\n",
        "plt.grid(True)\n",
        "plt.plot(annots_x_task,np.nanmedian(KL_tau_no_LS_values,axis=1),'b--')\n",
        "plt.xlabel('Number of annotations per task')\n",
        "plt.ylabel('Kullback–Leibler divergence')\n",
        "plt.title('(annotations per task, KL) before applying label switching')\n",
        "plt.legend(['tau'])\n",
        "ax.fill_between(annots_x_task,y1=np.percentile(KL_tau_no_LS_values, 25,axis=1),y2=np.percentile(KL_tau_no_LS_values, 75,axis=1),alpha=0.3,facecolor='green')\n",
        "\n",
        "plt.show()"
      ],
      "execution_count": null,
      "outputs": [
        {
          "output_type": "display_data",
          "data": {
            "image/png": "[encoded data removed]",
            "text/plain": [
              "<Figure size 432x288 with 1 Axes>"
            ]
          },
          "metadata": {
            "tags": []
          }
        }
      ]
    },
    {
      "cell_type": "code",
      "metadata": {
        "colab": {
          "base_uri": "https://localhost:8080/"
        },
        "id": "eOWeZdfY_AHy",
        "outputId": "c082b5e6-717d-4343-f741-0e857d32a975"
      },
      "source": [
        "print('Mean value of the KL values for tau BEFORE LS', np.mean(np.nanmedian(KL_tau_no_LS_values,axis=1)))"
      ],
      "execution_count": null,
      "outputs": [
        {
          "output_type": "stream",
          "text": [
            "Mean value of the KL values for tau BEFORE LS 0.02190074790847511\n"
          ],
          "name": "stdout"
        }
      ]
    },
    {
      "cell_type": "code",
      "metadata": {
        "colab": {
          "base_uri": "https://localhost:8080/",
          "height": 295
        },
        "id": "9tRQD56i-qKq",
        "outputId": "ccde5365-59b0-45b6-a2d7-c22c0db5f70b"
      },
      "source": [
        "import matplotlib.pyplot as plt\n",
        "annots_x_task = np.arange(start=6,stop=60+2,step=2)\n",
        "ax = plt.subplot()\n",
        "plt.grid(True)\n",
        "plt.plot(annots_x_task,np.nanmedian(KL_pi_no_LS_values,axis=1),'r--')\n",
        "plt.xlabel('Number of annotations per task')\n",
        "plt.ylabel('Kullback–Leibler divergence')\n",
        "plt.title('(annotations per task, KL) before applying label switching')\n",
        "plt.legend(['pi'])\n",
        "ax.fill_between(annots_x_task,y1=np.percentile(KL_pi_no_LS_values, 25,axis=1),y2=np.percentile(KL_pi_no_LS_values, 75,axis=1),alpha=0.3,facecolor='pink')\n",
        "\n",
        "plt.show()"
      ],
      "execution_count": null,
      "outputs": [
        {
          "output_type": "display_data",
          "data": {
            "image/png": "[encoded data removed]",
            "text/plain": [
              "<Figure size 432x288 with 1 Axes>"
            ]
          },
          "metadata": {
            "tags": []
          }
        }
      ]
    },
    {
      "cell_type": "code",
      "metadata": {
        "colab": {
          "base_uri": "https://localhost:8080/"
        },
        "id": "Ktn_KFWY_IUq",
        "outputId": "38d32ae3-1c4b-44ea-f1ba-83200809a60f"
      },
      "source": [
        "print('Mean value of the KL values for pi BEFORE LS', np.mean(np.nanmedian(KL_pi_no_LS_values,axis=1)))"
      ],
      "execution_count": null,
      "outputs": [
        {
          "output_type": "stream",
          "text": [
            "Mean value of the KL values for pi BEFORE LS 2.9783542398373366\n"
          ],
          "name": "stdout"
        }
      ]
    },
    {
      "cell_type": "code",
      "metadata": {
        "colab": {
          "base_uri": "https://localhost:8080/",
          "height": 295
        },
        "id": "Y3IcXEgy_IST",
        "outputId": "9a8ede2a-7336-40a0-c32a-b375375aef69"
      },
      "source": [
        "import matplotlib.pyplot as plt\n",
        "annots_x_task = np.arange(start=6,stop=60+2,step=2)\n",
        "ax = plt.subplot()\n",
        "plt.grid(True)\n",
        "plt.plot(annots_x_task,np.nanmedian(KL_tau_LS_values,axis=1),'b--')\n",
        "plt.xlabel('Number of annotations per task')\n",
        "plt.ylabel('Kullback–Leibler divergence')\n",
        "plt.title('(annotations per task, KL) after applying label switching')\n",
        "plt.legend(['tau'])\n",
        "ax.fill_between(annots_x_task,y1=np.percentile(KL_tau_LS_values, 25,axis=1),y2=np.percentile(KL_tau_LS_values, 75,axis=1),alpha=0.3,facecolor='green')\n",
        "\n",
        "plt.show()"
      ],
      "execution_count": null,
      "outputs": [
        {
          "output_type": "display_data",
          "data": {
            "image/png": "[encoded data removed]",
            "text/plain": [
              "<Figure size 432x288 with 1 Axes>"
            ]
          },
          "metadata": {
            "tags": []
          }
        }
      ]
    },
    {
      "cell_type": "code",
      "metadata": {
        "colab": {
          "base_uri": "https://localhost:8080/"
        },
        "id": "zCEn1Qn7_IQs",
        "outputId": "f88a7634-fb17-4792-f894-7f803af3b30c"
      },
      "source": [
        "print('Mean value of the KL values for tau AFTER LS', np.mean(np.nanmedian(KL_tau_LS_values,axis=1)))"
      ],
      "execution_count": null,
      "outputs": [
        {
          "output_type": "stream",
          "text": [
            "Mean value of the KL values for tau AFTER LS 0.0030415956846956307\n"
          ],
          "name": "stdout"
        }
      ]
    },
    {
      "cell_type": "code",
      "metadata": {
        "colab": {
          "base_uri": "https://localhost:8080/",
          "height": 295
        },
        "id": "vbAi9a7H_IOE",
        "outputId": "8b4cd022-1f47-45c5-8c85-76181a8155ba"
      },
      "source": [
        "import matplotlib.pyplot as plt\n",
        "annots_x_task = np.arange(start=6,stop=60+2,step=2)\n",
        "ax = plt.subplot()\n",
        "plt.grid(True)\n",
        "plt.plot(annots_x_task,np.nanmedian(KL_pi_LS_values,axis=1),'r--')\n",
        "plt.xlabel('Number of annotations per task')\n",
        "plt.ylabel('Kullback–Leibler divergence')\n",
        "plt.title('(annotations per task, KL) after applying label switching')\n",
        "plt.legend(['pi'])\n",
        "ax.fill_between(annots_x_task,y1=np.percentile(KL_pi_LS_values, 25,axis=1),y2=np.percentile(KL_pi_LS_values, 75,axis=1),alpha=0.3,facecolor='pink')\n",
        "\n",
        "plt.show()"
      ],
      "execution_count": null,
      "outputs": [
        {
          "output_type": "display_data",
          "data": {
            "image/png": "[encoded data removed]",
            "text/plain": [
              "<Figure size 432x288 with 1 Axes>"
            ]
          },
          "metadata": {
            "tags": []
          }
        }
      ]
    },
    {
      "cell_type": "code",
      "metadata": {
        "colab": {
          "base_uri": "https://localhost:8080/"
        },
        "id": "LnZkjL0__IKM",
        "outputId": "7224da9e-d455-4adb-cdf7-29e538e633d3"
      },
      "source": [
        "print('Mean value of the KL values for pi AFTER LS', np.mean(np.nanmedian(KL_pi_LS_values,axis=1)))"
      ],
      "execution_count": null,
      "outputs": [
        {
          "output_type": "stream",
          "text": [
            "Mean value of the KL values for pi AFTER LS 0.6153906938641663\n"
          ],
          "name": "stdout"
        }
      ]
    },
    {
      "cell_type": "code",
      "metadata": {
        "colab": {
          "base_uri": "https://localhost:8080/",
          "height": 295
        },
        "id": "iVNI3jhoYfKH",
        "outputId": "75631763-4ae4-4a88-dd9b-988e2afd09ea"
      },
      "source": [
        "import matplotlib.pyplot as plt\n",
        "annots_x_task = np.arange(start=6,stop=60+2,step=2)\n",
        "ax = plt.subplot()\n",
        "plt.grid(True)\n",
        "\n",
        "plt.plot(annots_x_task,np.nanmedian(original_KL_tau_no_LS_values,axis=1),'r--')\n",
        "plt.plot(annots_x_task,np.nanmedian(original_KL_tau_LS_values,axis=1),'b--')\n",
        "\n",
        "plt.xlabel('Number of annotations per task')\n",
        "plt.ylabel('Kullback–Leibler divergence')\n",
        "plt.title('(annotations per task, KL) for tau')\n",
        "plt.legend(['tau no LS','tau LS'])\n",
        "\n",
        "\n",
        "ax.fill_between(annots_x_task,y1=np.percentile(original_KL_tau_no_LS_values, 25,axis=1),y2=np.percentile(original_KL_tau_no_LS_values, 75,axis=1),alpha=0.3,facecolor='pink')\n",
        "ax.fill_between(annots_x_task,y1=np.percentile(original_KL_tau_LS_values, 25,axis=1),y2=np.percentile(original_KL_tau_LS_values, 75,axis=1),alpha=0.3,facecolor='green')\n",
        "\n",
        "plt.show()"
      ],
      "execution_count": null,
      "outputs": [
        {
          "output_type": "display_data",
          "data": {
            "image/png": "[encoded data removed]",
            "text/plain": [
              "<Figure size 432x288 with 1 Axes>"
            ]
          },
          "metadata": {
            "tags": []
          }
        }
      ]
    },
    {
      "cell_type": "code",
      "metadata": {
        "colab": {
          "base_uri": "https://localhost:8080/",
          "height": 295
        },
        "id": "4ckaaly0ZfeJ",
        "outputId": "df4c61f1-990b-4e4d-a7b3-f819955d2302"
      },
      "source": [
        "import matplotlib.pyplot as plt\n",
        "annots_x_task = np.arange(start=6,stop=60+2,step=2)\n",
        "ax = plt.subplot()\n",
        "plt.grid(True)\n",
        "\n",
        "plt.plot(annots_x_task,np.nanmedian(original_KL_pi_no_LS_values,axis=1),'r--')\n",
        "plt.plot(annots_x_task,np.nanmedian(original_KL_pi_LS_values,axis=1),'b--')\n",
        "\n",
        "plt.xlabel('Number of annotations per task')\n",
        "plt.ylabel('Kullback–Leibler divergence')\n",
        "plt.title('(annotations per task, KL) for pi')\n",
        "plt.legend(['pi no LS','pi LS'])\n",
        "\n",
        "\n",
        "ax.fill_between(annots_x_task,y1=np.percentile(original_KL_pi_no_LS_values, 25,axis=1),y2=np.percentile(original_KL_pi_no_LS_values, 75,axis=1),alpha=0.3,facecolor='pink')\n",
        "ax.fill_between(annots_x_task,y1=np.percentile(original_KL_pi_LS_values, 25,axis=1),y2=np.percentile(original_KL_pi_LS_values, 75,axis=1),alpha=0.3,facecolor='green')\n",
        "\n",
        "plt.show()"
      ],
      "execution_count": null,
      "outputs": [
        {
          "output_type": "display_data",
          "data": {
            "image/png": "[encoded data removed]",
            "text/plain": [
              "<Figure size 432x288 with 1 Axes>"
            ]
          },
          "metadata": {
            "tags": []
          }
        }
      ]
    },
    {
      "cell_type": "markdown",
      "metadata": {
        "id": "sq71LM_ZpDlT"
      },
      "source": [
        "## tau unbalanced "
      ]
    },
    {
      "cell_type": "code",
      "metadata": {
        "id": "tPi5tTXcKPAJ"
      },
      "source": [
        "#PIPELINE CELL\n",
        "k=4\n",
        "\n",
        "tau_prior = np.full(shape=k,fill_value=1)\n",
        "pi_prior = np.ones((k,k))\n",
        "tau = np.random.dirichlet([75,random.randint(10,15),random.randint(10,15),random.randint(10,15)])\n",
        "num_workers=36\n",
        "pi = np.zeros((num_workers,k,k))\n",
        "\n",
        "for w in range(num_workers):\n",
        "  matriu_randoms_dirichlet = np.array([[70+random.randint(-5,5),12,12,12],\n",
        "                                      [12,70+random.randint(-5,5),12,12],\n",
        "                                      [12,12,70+random.randint(-5,5),12],\n",
        "                                      [12,12,12,70+random.randint(-5,5)]])\n",
        "  for i in range(k):\n",
        "    pi[w][i] += np.random.dirichlet(matriu_randoms_dirichlet[i])\n",
        "\n",
        "\n",
        "KL_tau_no_LS_values=[]\n",
        "KL_pi_no_LS_values=[]\n",
        "KL_tau_LS_values=[]\n",
        "KL_pi_LS_values=[]\n",
        "\n",
        "for i in range(8,num_workers+2,2):\n",
        "  print(i)\n",
        "  KL_tau_no_LS,KL_pi_no_LS,KL_tau_LS,KL_pi_LS  = experiment_repetition(t=1000,ann_per_task=i,tau=tau,pi=pi,tau_prior = tau_prior,pi_prior=pi_prior,num_repetitions=400)\n",
        "  KL_tau_no_LS_values.append(KL_tau_no_LS)\n",
        "  KL_pi_no_LS_values.append(KL_pi_no_LS)\n",
        "  KL_tau_LS_values.append(KL_tau_LS)\n",
        "  KL_pi_LS_values.append(KL_pi_LS)\n",
        "\n",
        "KL_tau_no_LS_values = np.array(KL_tau_no_LS_values)\n",
        "KL_pi_no_LS_values = np.array(KL_pi_no_LS_values)\n",
        "KL_tau_LS_values = np.array(KL_tau_LS_values)\n",
        "KL_pi_LS_values = np.array(KL_pi_LS_values)\n",
        "\n",
        "\n",
        "print(KL_tau_no_LS_values.shape)\n",
        "print(KL_pi_no_LS_values.shape)\n",
        "print(KL_tau_LS_values.shape)\n",
        "print(KL_pi_LS_values.shape)\n",
        "\n"
      ],
      "execution_count": null,
      "outputs": []
    },
    {
      "cell_type": "code",
      "metadata": {
        "id": "6eDG4yP8KO8-"
      },
      "source": [
        "#save values in txt file\n",
        "file_KL_tau_no_LS_values = open(\"diagonal_dom_36_workers_1000_tasks_tau_unbalanced_KL_tau_no_LS_values.txt\", \"w\")\n",
        "for row in KL_tau_no_LS_values:\n",
        "  np.savetxt(file_KL_tau_no_LS_values, row)\n",
        "\n",
        "file_KL_tau_no_LS_values.close()\n",
        "\n",
        "file_KL_pi_no_LS_values = open(\"diagonal_dom_36_workers_1000_tasks_tau_unbalanced_KL_pi_no_LS_values.txt\", \"w\")\n",
        "for row in KL_pi_no_LS_values:\n",
        "  np.savetxt(file_KL_pi_no_LS_values, row)\n",
        "\n",
        "file_KL_pi_no_LS_values.close()\n",
        "\n",
        "\n",
        "file_KL_tau_LS_values = open(\"diagonal_dom_36_workers_1000_tasks_tau_unbalanced_tau_LS_values.txt\", \"w\")\n",
        "for row in KL_tau_LS_values:\n",
        "  np.savetxt(file_KL_tau_LS_values, row)\n",
        "\n",
        "file_KL_tau_LS_values.close()\n",
        "\n",
        "file_KL_pi_LS_values = open(\"diagonal_dom_36_workers_1000_tasks_tau_unbalanced_KL_pi_LS_values.txt\", \"w\")\n",
        "for row in KL_pi_LS_values:\n",
        "  np.savetxt(file_KL_pi_LS_values, row)\n",
        "\n",
        "file_KL_pi_LS_values.close()\n"
      ],
      "execution_count": null,
      "outputs": []
    },
    {
      "cell_type": "code",
      "metadata": {
        "colab": {
          "base_uri": "https://localhost:8080/",
          "height": 17
        },
        "id": "if7JCQWnKd-K",
        "outputId": "5e7a25e8-8a19-4431-b4a2-38ee242b50cf"
      },
      "source": [
        "from google.colab import files\n",
        "files.download('diagonal_dom_36_workers_1000_tasks_tau_unbalanced_KL_tau_no_LS_values.txt')\n",
        "files.download('diagonal_dom_36_workers_1000_tasks_tau_unbalanced_KL_pi_no_LS_values.txt')\n",
        "files.download('diagonal_dom_36_workers_1000_tasks_tau_unbalanced_tau_LS_values.txt')\n",
        "files.download('diagonal_dom_36_workers_1000_tasks_tau_unbalanced_KL_pi_LS_values.txt')"
      ],
      "execution_count": null,
      "outputs": [
        {
          "output_type": "display_data",
          "data": {
            "application/javascript": [
              "\n",
              "    async function download(id, filename, size) {\n",
              "      if (!google.colab.kernel.accessAllowed) {\n",
              "        return;\n",
              "      }\n",
              "      const div = document.createElement('div');\n",
              "      const label = document.createElement('label');\n",
              "      label.textContent = `Downloading \"${filename}\": `;\n",
              "      div.appendChild(label);\n",
              "      const progress = document.createElement('progress');\n",
              "      progress.max = size;\n",
              "      div.appendChild(progress);\n",
              "      document.body.appendChild(div);\n",
              "\n",
              "      const buffers = [];\n",
              "      let downloaded = 0;\n",
              "\n",
              "      const channel = await google.colab.kernel.comms.open(id);\n",
              "      // Send a message to notify the kernel that we're ready.\n",
              "      channel.send({})\n",
              "\n",
              "      for await (const message of channel.messages) {\n",
              "        // Send a message to notify the kernel that we're ready.\n",
              "        channel.send({})\n",
              "        if (message.buffers) {\n",
              "          for (const buffer of message.buffers) {\n",
              "            buffers.push(buffer);\n",
              "            downloaded += buffer.byteLength;\n",
              "            progress.value = downloaded;\n",
              "          }\n",
              "        }\n",
              "      }\n",
              "      const blob = new Blob(buffers, {type: 'application/binary'});\n",
              "      const a = document.createElement('a');\n",
              "      a.href = window.URL.createObjectURL(blob);\n",
              "      a.download = filename;\n",
              "      div.appendChild(a);\n",
              "      a.click();\n",
              "      div.remove();\n",
              "    }\n",
              "  "
            ],
            "text/plain": [
              "<IPython.core.display.Javascript object>"
            ]
          },
          "metadata": {
            "tags": []
          }
        },
        {
          "output_type": "display_data",
          "data": {
            "application/javascript": [
              "download(\"download_ff7fae7a-877c-437a-b5fb-95bd9006b21d\", \"diagonal_dom_36_workers_1000_tasks_tau_unbalanced_KL_tau_no_LS_values.txt\", 150000)"
            ],
            "text/plain": [
              "<IPython.core.display.Javascript object>"
            ]
          },
          "metadata": {
            "tags": []
          }
        },
        {
          "output_type": "display_data",
          "data": {
            "application/javascript": [
              "\n",
              "    async function download(id, filename, size) {\n",
              "      if (!google.colab.kernel.accessAllowed) {\n",
              "        return;\n",
              "      }\n",
              "      const div = document.createElement('div');\n",
              "      const label = document.createElement('label');\n",
              "      label.textContent = `Downloading \"${filename}\": `;\n",
              "      div.appendChild(label);\n",
              "      const progress = document.createElement('progress');\n",
              "      progress.max = size;\n",
              "      div.appendChild(progress);\n",
              "      document.body.appendChild(div);\n",
              "\n",
              "      const buffers = [];\n",
              "      let downloaded = 0;\n",
              "\n",
              "      const channel = await google.colab.kernel.comms.open(id);\n",
              "      // Send a message to notify the kernel that we're ready.\n",
              "      channel.send({})\n",
              "\n",
              "      for await (const message of channel.messages) {\n",
              "        // Send a message to notify the kernel that we're ready.\n",
              "        channel.send({})\n",
              "        if (message.buffers) {\n",
              "          for (const buffer of message.buffers) {\n",
              "            buffers.push(buffer);\n",
              "            downloaded += buffer.byteLength;\n",
              "            progress.value = downloaded;\n",
              "          }\n",
              "        }\n",
              "      }\n",
              "      const blob = new Blob(buffers, {type: 'application/binary'});\n",
              "      const a = document.createElement('a');\n",
              "      a.href = window.URL.createObjectURL(blob);\n",
              "      a.download = filename;\n",
              "      div.appendChild(a);\n",
              "      a.click();\n",
              "      div.remove();\n",
              "    }\n",
              "  "
            ],
            "text/plain": [
              "<IPython.core.display.Javascript object>"
            ]
          },
          "metadata": {
            "tags": []
          }
        },
        {
          "output_type": "display_data",
          "data": {
            "application/javascript": [
              "download(\"download_a4afc2d4-67cd-4af1-ac34-980e99cccfc4\", \"diagonal_dom_36_workers_1000_tasks_tau_unbalanced_KL_pi_no_LS_values.txt\", 150000)"
            ],
            "text/plain": [
              "<IPython.core.display.Javascript object>"
            ]
          },
          "metadata": {
            "tags": []
          }
        },
        {
          "output_type": "display_data",
          "data": {
            "application/javascript": [
              "\n",
              "    async function download(id, filename, size) {\n",
              "      if (!google.colab.kernel.accessAllowed) {\n",
              "        return;\n",
              "      }\n",
              "      const div = document.createElement('div');\n",
              "      const label = document.createElement('label');\n",
              "      label.textContent = `Downloading \"${filename}\": `;\n",
              "      div.appendChild(label);\n",
              "      const progress = document.createElement('progress');\n",
              "      progress.max = size;\n",
              "      div.appendChild(progress);\n",
              "      document.body.appendChild(div);\n",
              "\n",
              "      const buffers = [];\n",
              "      let downloaded = 0;\n",
              "\n",
              "      const channel = await google.colab.kernel.comms.open(id);\n",
              "      // Send a message to notify the kernel that we're ready.\n",
              "      channel.send({})\n",
              "\n",
              "      for await (const message of channel.messages) {\n",
              "        // Send a message to notify the kernel that we're ready.\n",
              "        channel.send({})\n",
              "        if (message.buffers) {\n",
              "          for (const buffer of message.buffers) {\n",
              "            buffers.push(buffer);\n",
              "            downloaded += buffer.byteLength;\n",
              "            progress.value = downloaded;\n",
              "          }\n",
              "        }\n",
              "      }\n",
              "      const blob = new Blob(buffers, {type: 'application/binary'});\n",
              "      const a = document.createElement('a');\n",
              "      a.href = window.URL.createObjectURL(blob);\n",
              "      a.download = filename;\n",
              "      div.appendChild(a);\n",
              "      a.click();\n",
              "      div.remove();\n",
              "    }\n",
              "  "
            ],
            "text/plain": [
              "<IPython.core.display.Javascript object>"
            ]
          },
          "metadata": {
            "tags": []
          }
        },
        {
          "output_type": "display_data",
          "data": {
            "application/javascript": [
              "download(\"download_403bd927-7a8f-4f19-8467-8234f3382a67\", \"diagonal_dom_36_workers_1000_tasks_tau_unbalanced_tau_LS_values.txt\", 150000)"
            ],
            "text/plain": [
              "<IPython.core.display.Javascript object>"
            ]
          },
          "metadata": {
            "tags": []
          }
        },
        {
          "output_type": "display_data",
          "data": {
            "application/javascript": [
              "\n",
              "    async function download(id, filename, size) {\n",
              "      if (!google.colab.kernel.accessAllowed) {\n",
              "        return;\n",
              "      }\n",
              "      const div = document.createElement('div');\n",
              "      const label = document.createElement('label');\n",
              "      label.textContent = `Downloading \"${filename}\": `;\n",
              "      div.appendChild(label);\n",
              "      const progress = document.createElement('progress');\n",
              "      progress.max = size;\n",
              "      div.appendChild(progress);\n",
              "      document.body.appendChild(div);\n",
              "\n",
              "      const buffers = [];\n",
              "      let downloaded = 0;\n",
              "\n",
              "      const channel = await google.colab.kernel.comms.open(id);\n",
              "      // Send a message to notify the kernel that we're ready.\n",
              "      channel.send({})\n",
              "\n",
              "      for await (const message of channel.messages) {\n",
              "        // Send a message to notify the kernel that we're ready.\n",
              "        channel.send({})\n",
              "        if (message.buffers) {\n",
              "          for (const buffer of message.buffers) {\n",
              "            buffers.push(buffer);\n",
              "            downloaded += buffer.byteLength;\n",
              "            progress.value = downloaded;\n",
              "          }\n",
              "        }\n",
              "      }\n",
              "      const blob = new Blob(buffers, {type: 'application/binary'});\n",
              "      const a = document.createElement('a');\n",
              "      a.href = window.URL.createObjectURL(blob);\n",
              "      a.download = filename;\n",
              "      div.appendChild(a);\n",
              "      a.click();\n",
              "      div.remove();\n",
              "    }\n",
              "  "
            ],
            "text/plain": [
              "<IPython.core.display.Javascript object>"
            ]
          },
          "metadata": {
            "tags": []
          }
        },
        {
          "output_type": "display_data",
          "data": {
            "application/javascript": [
              "download(\"download_7fdf044e-eb7c-4b58-a9a0-f90e16154621\", \"diagonal_dom_36_workers_1000_tasks_tau_unbalanced_KL_pi_LS_values.txt\", 150000)"
            ],
            "text/plain": [
              "<IPython.core.display.Javascript object>"
            ]
          },
          "metadata": {
            "tags": []
          }
        }
      ]
    },
    {
      "cell_type": "code",
      "metadata": {
        "id": "q1hxxQGpKd7O"
      },
      "source": [
        "#to recover the arrays from the txt files, compile this:\n",
        "#FOR THE SHAPES, SEE THE prints from the pipeline CELL\n",
        "original_KL_tau_no_LS_values = np.loadtxt(\"/content/drive/MyDrive/TFM-Crowd learning/txt files/diagonal_dom_36_workers_1000_tasks_tau_unbalanced_KL_tau_no_LS_values.txt\").reshape(15,400)\n",
        "original_KL_pi_no_LS_values = np.loadtxt(\"/content/drive/MyDrive/TFM-Crowd learning/txt files/diagonal_dom_36_workers_1000_tasks_tau_unbalanced_KL_pi_no_LS_values.txt\").reshape(15,400)\n",
        "original_KL_tau_LS_values = np.loadtxt(\"/content/drive/MyDrive/TFM-Crowd learning/txt files/diagonal_dom_36_workers_1000_tasks_tau_unbalanced_tau_LS_values.txt\").reshape(15,400)\n",
        "original_KL_pi_LS_values = np.loadtxt(\"/content/drive/MyDrive/TFM-Crowd learning/txt files/diagonal_dom_36_workers_1000_tasks_tau_unbalanced_KL_pi_LS_values.txt\").reshape(15,400)"
      ],
      "execution_count": null,
      "outputs": []
    },
    {
      "cell_type": "code",
      "metadata": {
        "colab": {
          "base_uri": "https://localhost:8080/",
          "height": 295
        },
        "id": "8xfRRfgHKd4p",
        "outputId": "63857ad7-1fd3-4e86-e804-b401b8f9dfe1"
      },
      "source": [
        "import matplotlib.pyplot as plt\n",
        "annots_x_task = np.arange(start=8,stop=num_workers+2,step=2)\n",
        "ax = plt.subplot()\n",
        "plt.grid(True)\n",
        "plt.plot(annots_x_task,np.nanmedian(KL_tau_no_LS_values,axis=1),'b--')\n",
        "plt.xlabel('Number of annotations per task')\n",
        "plt.ylabel('Kullback–Leibler divergence')\n",
        "plt.title('(annotations per task, KL) before applying label switching')\n",
        "plt.legend(['tau'])\n",
        "ax.fill_between(annots_x_task,y1=np.percentile(KL_tau_no_LS_values, 25,axis=1),y2=np.percentile(KL_tau_no_LS_values, 75,axis=1),alpha=0.3,facecolor='green')\n",
        "\n",
        "plt.show()"
      ],
      "execution_count": null,
      "outputs": [
        {
          "output_type": "display_data",
          "data": {
            "image/png": "[encoded data removed]",
            "text/plain": [
              "<Figure size 432x288 with 1 Axes>"
            ]
          },
          "metadata": {
            "tags": []
          }
        }
      ]
    },
    {
      "cell_type": "code",
      "metadata": {
        "colab": {
          "base_uri": "https://localhost:8080/"
        },
        "id": "Apa5LpIKKd2P",
        "outputId": "3ba0cc76-8758-4be8-93d5-1134fce802ea"
      },
      "source": [
        "print('Mean value of the KL values for tau BEFORE LS', np.mean(np.nanmedian(KL_tau_no_LS_values,axis=1)))"
      ],
      "execution_count": null,
      "outputs": [
        {
          "output_type": "stream",
          "text": [
            "Mean value of the KL values for tau BEFORE LS 0.8575249819239195\n"
          ],
          "name": "stdout"
        }
      ]
    },
    {
      "cell_type": "code",
      "metadata": {
        "colab": {
          "base_uri": "https://localhost:8080/",
          "height": 295
        },
        "id": "WITH_df1Kdyp",
        "outputId": "46add422-7169-4af4-e643-908aeef265d9"
      },
      "source": [
        "import matplotlib.pyplot as plt\n",
        "annots_x_task = np.arange(start=8,stop=num_workers+2,step=2)\n",
        "ax = plt.subplot()\n",
        "plt.grid(True)\n",
        "plt.plot(annots_x_task,np.nanmedian(KL_pi_no_LS_values,axis=1),'r--')\n",
        "plt.xlabel('Number of annotations per task')\n",
        "plt.ylabel('Kullback–Leibler divergence')\n",
        "plt.title('(annotations per task, KL) before applying label switching')\n",
        "plt.legend(['pi'])\n",
        "ax.fill_between(annots_x_task,y1=np.percentile(KL_pi_no_LS_values, 25,axis=1),y2=np.percentile(KL_pi_no_LS_values, 75,axis=1),alpha=0.3,facecolor='pink')\n",
        "\n",
        "plt.show()"
      ],
      "execution_count": null,
      "outputs": [
        {
          "output_type": "display_data",
          "data": {
            "image/png": "[encoded data removed]",
            "text/plain": [
              "<Figure size 432x288 with 1 Axes>"
            ]
          },
          "metadata": {
            "tags": []
          }
        }
      ]
    },
    {
      "cell_type": "code",
      "metadata": {
        "colab": {
          "base_uri": "https://localhost:8080/"
        },
        "id": "Jx3T4T-TKdvk",
        "outputId": "dfc903ac-cea4-45a6-acf2-629b681dc7ff"
      },
      "source": [
        "print('Mean value of the KL values for pi BEFORE LS', np.mean(np.nanmedian(KL_pi_no_LS_values,axis=1)))"
      ],
      "execution_count": null,
      "outputs": [
        {
          "output_type": "stream",
          "text": [
            "Mean value of the KL values for pi BEFORE LS 1.3700391796017848\n"
          ],
          "name": "stdout"
        }
      ]
    },
    {
      "cell_type": "code",
      "metadata": {
        "colab": {
          "base_uri": "https://localhost:8080/",
          "height": 295
        },
        "id": "l1Ekm_E8Kdsj",
        "outputId": "0a8abaee-95eb-452d-9872-91a8efabc4ee"
      },
      "source": [
        "import matplotlib.pyplot as plt\n",
        "annots_x_task = np.arange(start=8,stop=num_workers+2,step=2)\n",
        "ax = plt.subplot()\n",
        "plt.grid(True)\n",
        "plt.plot(annots_x_task,np.nanmedian(KL_tau_LS_values,axis=1),'b--')\n",
        "plt.xlabel('Number of annotations per task')\n",
        "plt.ylabel('Kullback–Leibler divergence')\n",
        "plt.title('(annotations per task, KL) after applying label switching')\n",
        "plt.legend(['tau'])\n",
        "ax.fill_between(annots_x_task,y1=np.percentile(KL_tau_LS_values, 25,axis=1),y2=np.percentile(KL_tau_LS_values, 75,axis=1),alpha=0.3,facecolor='green')\n",
        "\n",
        "plt.show()"
      ],
      "execution_count": null,
      "outputs": [
        {
          "output_type": "display_data",
          "data": {
            "image/png": "[encoded data removed]",
            "text/plain": [
              "<Figure size 432x288 with 1 Axes>"
            ]
          },
          "metadata": {
            "tags": []
          }
        }
      ]
    },
    {
      "cell_type": "code",
      "metadata": {
        "colab": {
          "base_uri": "https://localhost:8080/"
        },
        "id": "QuWElYvlKdpg",
        "outputId": "796966e5-a2b5-46af-e2f4-8b3eccbb6a6e"
      },
      "source": [
        "print('Mean value of the KL values for tau AFTER LS', np.mean(np.nanmedian(KL_tau_LS_values,axis=1)))"
      ],
      "execution_count": null,
      "outputs": [
        {
          "output_type": "stream",
          "text": [
            "Mean value of the KL values for tau AFTER LS 0.0021489831176470177\n"
          ],
          "name": "stdout"
        }
      ]
    },
    {
      "cell_type": "code",
      "metadata": {
        "colab": {
          "base_uri": "https://localhost:8080/",
          "height": 295
        },
        "id": "KaAxRTzPKdna",
        "outputId": "184d9c90-960f-49e5-e78d-263ad131b1ab"
      },
      "source": [
        "import matplotlib.pyplot as plt\n",
        "annots_x_task = np.arange(start=8,stop=num_workers+2,step=2)\n",
        "ax = plt.subplot()\n",
        "plt.grid(True)\n",
        "plt.plot(annots_x_task,np.nanmedian(KL_pi_LS_values,axis=1),'r--')\n",
        "plt.xlabel('Number of annotations per task')\n",
        "plt.ylabel('Kullback–Leibler divergence')\n",
        "plt.title('(annotations per task, KL) after applying label switching')\n",
        "plt.legend(['pi'])\n",
        "ax.fill_between(annots_x_task,y1=np.percentile(KL_pi_LS_values, 25,axis=1),y2=np.percentile(KL_pi_LS_values, 75,axis=1),alpha=0.3,facecolor='pink')\n",
        "\n",
        "plt.show()"
      ],
      "execution_count": null,
      "outputs": [
        {
          "output_type": "display_data",
          "data": {
            "image/png": "[encoded data removed]",
            "text/plain": [
              "<Figure size 432x288 with 1 Axes>"
            ]
          },
          "metadata": {
            "tags": []
          }
        }
      ]
    },
    {
      "cell_type": "code",
      "metadata": {
        "colab": {
          "base_uri": "https://localhost:8080/"
        },
        "id": "AHLaEnunK4yk",
        "outputId": "84bfc0d8-f791-475a-f5ca-98ddec01cc35"
      },
      "source": [
        "print('Mean value of the KL values for pi AFTER LS', np.mean(np.nanmedian(KL_pi_LS_values,axis=1)))"
      ],
      "execution_count": null,
      "outputs": [
        {
          "output_type": "stream",
          "text": [
            "Mean value of the KL values for pi AFTER LS 0.12015396765919784\n"
          ],
          "name": "stdout"
        }
      ]
    },
    {
      "cell_type": "code",
      "metadata": {
        "colab": {
          "base_uri": "https://localhost:8080/",
          "height": 295
        },
        "id": "FecEkVroLcJG",
        "outputId": "074e07e9-ec42-4838-c9cb-c87e6f0ef49b"
      },
      "source": [
        "import matplotlib.pyplot as plt\n",
        "annots_x_task = np.arange(start=8,stop=38,step=2)\n",
        "ax = plt.subplot()\n",
        "plt.grid(True)\n",
        "\n",
        "plt.plot(annots_x_task,np.nanmedian(original_KL_tau_no_LS_values,axis=1),'r--')\n",
        "plt.plot(annots_x_task,np.nanmedian(original_KL_tau_LS_values,axis=1),'b--')\n",
        "\n",
        "plt.xlabel('Number of annotations per task')\n",
        "plt.ylabel('Kullback–Leibler divergence')\n",
        "plt.title('(annotations per task, KL) for tau')\n",
        "plt.legend(['tau no LS','tau LS'])\n",
        "\n",
        "\n",
        "ax.fill_between(annots_x_task,y1=np.percentile(original_KL_tau_no_LS_values, 25,axis=1),y2=np.percentile(original_KL_tau_no_LS_values, 75,axis=1),alpha=0.3,facecolor='pink')\n",
        "ax.fill_between(annots_x_task,y1=np.percentile(original_KL_tau_LS_values, 25,axis=1),y2=np.percentile(original_KL_tau_LS_values, 75,axis=1),alpha=0.3,facecolor='green')\n",
        "\n",
        "plt.show()"
      ],
      "execution_count": null,
      "outputs": [
        {
          "output_type": "display_data",
          "data": {
            "image/png": "[encoded data removed]",
            "text/plain": [
              "<Figure size 432x288 with 1 Axes>"
            ]
          },
          "metadata": {
            "tags": []
          }
        }
      ]
    },
    {
      "cell_type": "code",
      "metadata": {
        "colab": {
          "base_uri": "https://localhost:8080/",
          "height": 295
        },
        "id": "8uKzc6hohrki",
        "outputId": "f4705472-8222-42ac-958b-30d57265cef4"
      },
      "source": [
        "import matplotlib.pyplot as plt\n",
        "annots_x_task = np.arange(start=8,stop=38,step=2)\n",
        "ax = plt.subplot()\n",
        "plt.grid(True)\n",
        "\n",
        "plt.plot(annots_x_task,np.nanmedian(original_KL_pi_no_LS_values,axis=1),'r--')\n",
        "plt.plot(annots_x_task,np.nanmedian(original_KL_pi_LS_values,axis=1),'b--')\n",
        "\n",
        "plt.xlabel('Number of annotations per task')\n",
        "plt.ylabel('Kullback–Leibler divergence')\n",
        "plt.title('(annotations per task, KL) for pi')\n",
        "plt.legend(['pi no LS','pi LS'])\n",
        "\n",
        "\n",
        "ax.fill_between(annots_x_task,y1=np.percentile(original_KL_pi_no_LS_values, 25,axis=1),y2=np.percentile(original_KL_pi_no_LS_values, 75,axis=1),alpha=0.3,facecolor='pink')\n",
        "ax.fill_between(annots_x_task,y1=np.percentile(original_KL_pi_LS_values, 25,axis=1),y2=np.percentile(original_KL_pi_LS_values, 75,axis=1),alpha=0.3,facecolor='green')\n",
        "\n",
        "plt.show()"
      ],
      "execution_count": null,
      "outputs": [
        {
          "output_type": "display_data",
          "data": {
            "image/png": "[encoded data removed]",
            "text/plain": [
              "<Figure size 432x288 with 1 Axes>"
            ]
          },
          "metadata": {
            "tags": []
          }
        }
      ]
    }
  ]
}