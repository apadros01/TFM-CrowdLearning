{
  "nbformat": 4,
  "nbformat_minor": 0,
  "metadata": {
    "colab": {
      "name": "first_example_multinomial.ipynb",
      "provenance": [],
      "collapsed_sections": []
    },
    "kernelspec": {
      "name": "python3",
      "display_name": "Python 3"
    },
    "language_info": {
      "name": "python"
    }
  },
  "cells": [
    {
      "cell_type": "code",
      "metadata": {
        "id": "to3HP8TUeyaZ"
      },
      "source": [
        "import pystan\n",
        "import numpy as np\n",
        "import matplotlib.pyplot as plt\n",
        "import pandas as pd"
      ],
      "execution_count": null,
      "outputs": []
    },
    {
      "cell_type": "code",
      "metadata": {
        "colab": {
          "base_uri": "https://localhost:8080/"
        },
        "id": "R-WPdFPRfurU",
        "outputId": "739306cc-b57a-470f-f7cb-90355a7a26c5"
      },
      "source": [
        "n=4\n",
        "k=3\n",
        "p = [27./100, 63./100, 10./100 ]\n",
        "x =np.array( [np.random.multinomial(1,p) for i in range(n)])\n",
        "probs_p = np.array([27,63,10],dtype=np.int)\n",
        "dades={'n':n,'x':x,'k': k,'probs_p':probs_p}\n",
        "x"
      ],
      "execution_count": null,
      "outputs": [
        {
          "output_type": "execute_result",
          "data": {
            "text/plain": [
              "array([[0, 1, 0],\n",
              "       [0, 1, 0],\n",
              "       [0, 1, 0],\n",
              "       [0, 0, 1]])"
            ]
          },
          "metadata": {
            "tags": []
          },
          "execution_count": 4
        }
      ]
    },
    {
      "cell_type": "code",
      "metadata": {
        "colab": {
          "base_uri": "https://localhost:8080/"
        },
        "id": "nhhS9QqRfuol",
        "outputId": "f6224b31-b6ca-4327-a80a-4b7b26741477"
      },
      "source": [
        "sm = pystan.StanModel(file='/content/drive/MyDrive/TFM-Crowd learning/Fitxers STAN/prova_model_multinomial.stan')\n"
      ],
      "execution_count": null,
      "outputs": [
        {
          "output_type": "stream",
          "text": [
            "INFO:pystan:COMPILING THE C++ CODE FOR MODEL anon_model_002d1fd5f1e0da638f22f9346d0e9bc8 NOW.\n"
          ],
          "name": "stderr"
        }
      ]
    },
    {
      "cell_type": "code",
      "metadata": {
        "id": "0-rqzYGYfulr"
      },
      "source": [
        "#Del model previ, ens genera mostres\n",
        "fit = sm.sampling(data=dades, iter=1000, chains=4)"
      ],
      "execution_count": null,
      "outputs": []
    },
    {
      "cell_type": "code",
      "metadata": {
        "colab": {
          "base_uri": "https://localhost:8080/"
        },
        "id": "0-vj-Ce8fuin",
        "outputId": "e5b3123a-120b-4ab3-99fc-20c716370099"
      },
      "source": [
        "sm.optimizing(data=dades)"
      ],
      "execution_count": null,
      "outputs": [
        {
          "output_type": "execute_result",
          "data": {
            "text/plain": [
              "OrderedDict([('p', array([0.25742709, 0.64356118, 0.09901173]))])"
            ]
          },
          "metadata": {
            "tags": []
          },
          "execution_count": 8
        }
      ]
    },
    {
      "cell_type": "code",
      "metadata": {
        "colab": {
          "base_uri": "https://localhost:8080/"
        },
        "id": "Y2zwxWWzhkEP",
        "outputId": "6c989e3a-626d-4f41-e177-019aa9d89d59"
      },
      "source": [
        "fit"
      ],
      "execution_count": null,
      "outputs": [
        {
          "output_type": "execute_result",
          "data": {
            "text/plain": [
              "Inference for Stan model: anon_model_002d1fd5f1e0da638f22f9346d0e9bc8.\n",
              "4 chains, each with iter=1000; warmup=500; thin=1; \n",
              "post-warmup draws per chain=500, total post-warmup draws=2000.\n",
              "\n",
              "       mean se_mean     sd   2.5%    25%    50%    75%  97.5%  n_eff   Rhat\n",
              "p[1]   0.26  9.8e-4   0.04   0.18   0.23   0.26   0.29   0.34   1803    1.0\n",
              "p[2]   0.64  1.1e-3   0.05   0.54   0.61   0.64   0.67   0.73   1668    1.0\n",
              "p[3]   0.11  7.7e-4   0.03   0.05   0.09    0.1   0.12   0.17   1506    1.0\n",
              "lp__ -92.12    0.03    1.0 -94.81 -92.53 -91.78 -91.41 -91.17    980   1.01\n",
              "\n",
              "Samples were drawn using NUTS at Wed Apr 28 08:09:45 2021.\n",
              "For each parameter, n_eff is a crude measure of effective sample size,\n",
              "and Rhat is the potential scale reduction factor on split chains (at \n",
              "convergence, Rhat=1)."
            ]
          },
          "metadata": {
            "tags": []
          },
          "execution_count": 9
        }
      ]
    }
  ]
}