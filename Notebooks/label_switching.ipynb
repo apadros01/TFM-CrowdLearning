{
  "nbformat": 4,
  "nbformat_minor": 0,
  "metadata": {
    "colab": {
      "name": "label-switching.ipynb",
      "provenance": [],
      "collapsed_sections": []
    },
    "kernelspec": {
      "name": "python3",
      "display_name": "Python 3"
    },
    "language_info": {
      "name": "python"
    }
  },
  "cells": [
    {
      "cell_type": "code",
      "metadata": {
        "colab": {
          "base_uri": "https://localhost:8080/"
        },
        "id": "sHUMgZOxdDPw",
        "outputId": "687901f3-90c2-44fc-c32e-4624d0661ad6"
      },
      "source": [
        "pip install arviz"
      ],
      "execution_count": 1,
      "outputs": [
        {
          "output_type": "stream",
          "text": [
            "Collecting arviz\n",
            "\u001b[?25l  Downloading https://files.pythonhosted.org/packages/e2/a8/e2ad120b06822e29e0d185bed1ae300576f3f61f97fceb6933ba6f6accf7/arviz-0.11.2-py3-none-any.whl (1.6MB)\n",
            "\u001b[K     |████████████████████████████████| 1.6MB 8.8MB/s \n",
            "\u001b[?25hRequirement already satisfied: numpy>=1.12 in /usr/local/lib/python3.7/dist-packages (from arviz) (1.19.5)\n",
            "Collecting xarray>=0.16.1\n",
            "\u001b[?25l  Downloading https://files.pythonhosted.org/packages/a5/19/debc1f470b8b9e2949da221663c8102ed6728f4d38dc964085ca43de1428/xarray-0.17.0-py3-none-any.whl (759kB)\n",
            "\u001b[K     |████████████████████████████████| 768kB 34.6MB/s \n",
            "\u001b[?25hRequirement already satisfied: typing-extensions<4,>=3.7.4.3 in /usr/local/lib/python3.7/dist-packages (from arviz) (3.7.4.3)\n",
            "Requirement already satisfied: packaging in /usr/local/lib/python3.7/dist-packages (from arviz) (20.9)\n",
            "Requirement already satisfied: pandas>=0.23 in /usr/local/lib/python3.7/dist-packages (from arviz) (1.1.5)\n",
            "Requirement already satisfied: matplotlib>=3.0 in /usr/local/lib/python3.7/dist-packages (from arviz) (3.2.2)\n",
            "Collecting netcdf4\n",
            "\u001b[?25l  Downloading https://files.pythonhosted.org/packages/37/56/f65978898fb8e7e5df9c67531d86eb24eb04938deae3b61dbcce12c98212/netCDF4-1.5.6-cp37-cp37m-manylinux2014_x86_64.whl (4.7MB)\n",
            "\u001b[K     |████████████████████████████████| 4.7MB 48.3MB/s \n",
            "\u001b[?25hRequirement already satisfied: scipy>=0.19 in /usr/local/lib/python3.7/dist-packages (from arviz) (1.4.1)\n",
            "Requirement already satisfied: setuptools>=38.4 in /usr/local/lib/python3.7/dist-packages (from arviz) (56.0.0)\n",
            "Requirement already satisfied: pyparsing>=2.0.2 in /usr/local/lib/python3.7/dist-packages (from packaging->arviz) (2.4.7)\n",
            "Requirement already satisfied: python-dateutil>=2.7.3 in /usr/local/lib/python3.7/dist-packages (from pandas>=0.23->arviz) (2.8.1)\n",
            "Requirement already satisfied: pytz>=2017.2 in /usr/local/lib/python3.7/dist-packages (from pandas>=0.23->arviz) (2018.9)\n",
            "Requirement already satisfied: cycler>=0.10 in /usr/local/lib/python3.7/dist-packages (from matplotlib>=3.0->arviz) (0.10.0)\n",
            "Requirement already satisfied: kiwisolver>=1.0.1 in /usr/local/lib/python3.7/dist-packages (from matplotlib>=3.0->arviz) (1.3.1)\n",
            "Collecting cftime\n",
            "\u001b[?25l  Downloading https://files.pythonhosted.org/packages/41/e0/3e120cca16571c5ee3b35f1ed432c2aae5dc91e2b789e8b9c3a70e721ea0/cftime-1.4.1-cp37-cp37m-manylinux2014_x86_64.whl (313kB)\n",
            "\u001b[K     |████████████████████████████████| 317kB 39.7MB/s \n",
            "\u001b[?25hRequirement already satisfied: six>=1.5 in /usr/local/lib/python3.7/dist-packages (from python-dateutil>=2.7.3->pandas>=0.23->arviz) (1.15.0)\n",
            "Installing collected packages: xarray, cftime, netcdf4, arviz\n",
            "  Found existing installation: xarray 0.15.1\n",
            "    Uninstalling xarray-0.15.1:\n",
            "      Successfully uninstalled xarray-0.15.1\n",
            "Successfully installed arviz-0.11.2 cftime-1.4.1 netcdf4-1.5.6 xarray-0.17.0\n"
          ],
          "name": "stdout"
        }
      ]
    },
    {
      "cell_type": "code",
      "metadata": {
        "id": "VFSKBYUDdOkC"
      },
      "source": [
        "import pystan\n",
        "import numpy as np\n",
        "import matplotlib.pyplot as plt\n",
        "import arviz\n",
        "import pickle\n",
        "import cmdstanpy\n",
        "import json\n",
        "import pandas as pd"
      ],
      "execution_count": 2,
      "outputs": []
    },
    {
      "cell_type": "code",
      "metadata": {
        "id": "rIY0fzuxdQ07"
      },
      "source": [
        "with open('/content/drive/MyDrive/TFM-Crowd learning/multinomial.json') as json_file:\n",
        "    data = json.load(json_file)"
      ],
      "execution_count": 3,
      "outputs": []
    },
    {
      "cell_type": "code",
      "metadata": {
        "colab": {
          "base_uri": "https://localhost:8080/",
          "height": 419
        },
        "id": "o2fi0VkkdQu1",
        "outputId": "d4cb79fb-1f07-44f9-f749-069735c6432a"
      },
      "source": [
        "dades={'Tasca': data['t_A'], 'Worker': data['w_A'], 'Anotació': data['ann'] }\n",
        "df = pd.DataFrame(data=dades)\n",
        "df"
      ],
      "execution_count": 4,
      "outputs": [
        {
          "output_type": "execute_result",
          "data": {
            "text/html": [
              "<div>\n",
              "<style scoped>\n",
              "    .dataframe tbody tr th:only-of-type {\n",
              "        vertical-align: middle;\n",
              "    }\n",
              "\n",
              "    .dataframe tbody tr th {\n",
              "        vertical-align: top;\n",
              "    }\n",
              "\n",
              "    .dataframe thead th {\n",
              "        text-align: right;\n",
              "    }\n",
              "</style>\n",
              "<table border=\"1\" class=\"dataframe\">\n",
              "  <thead>\n",
              "    <tr style=\"text-align: right;\">\n",
              "      <th></th>\n",
              "      <th>Tasca</th>\n",
              "      <th>Worker</th>\n",
              "      <th>Anotació</th>\n",
              "    </tr>\n",
              "  </thead>\n",
              "  <tbody>\n",
              "    <tr>\n",
              "      <th>0</th>\n",
              "      <td>0</td>\n",
              "      <td>14</td>\n",
              "      <td>2</td>\n",
              "    </tr>\n",
              "    <tr>\n",
              "      <th>1</th>\n",
              "      <td>0</td>\n",
              "      <td>13</td>\n",
              "      <td>2</td>\n",
              "    </tr>\n",
              "    <tr>\n",
              "      <th>2</th>\n",
              "      <td>0</td>\n",
              "      <td>4</td>\n",
              "      <td>2</td>\n",
              "    </tr>\n",
              "    <tr>\n",
              "      <th>3</th>\n",
              "      <td>0</td>\n",
              "      <td>2</td>\n",
              "      <td>2</td>\n",
              "    </tr>\n",
              "    <tr>\n",
              "      <th>4</th>\n",
              "      <td>0</td>\n",
              "      <td>7</td>\n",
              "      <td>1</td>\n",
              "    </tr>\n",
              "    <tr>\n",
              "      <th>...</th>\n",
              "      <td>...</td>\n",
              "      <td>...</td>\n",
              "      <td>...</td>\n",
              "    </tr>\n",
              "    <tr>\n",
              "      <th>9995</th>\n",
              "      <td>999</td>\n",
              "      <td>17</td>\n",
              "      <td>2</td>\n",
              "    </tr>\n",
              "    <tr>\n",
              "      <th>9996</th>\n",
              "      <td>999</td>\n",
              "      <td>2</td>\n",
              "      <td>2</td>\n",
              "    </tr>\n",
              "    <tr>\n",
              "      <th>9997</th>\n",
              "      <td>999</td>\n",
              "      <td>13</td>\n",
              "      <td>2</td>\n",
              "    </tr>\n",
              "    <tr>\n",
              "      <th>9998</th>\n",
              "      <td>999</td>\n",
              "      <td>14</td>\n",
              "      <td>2</td>\n",
              "    </tr>\n",
              "    <tr>\n",
              "      <th>9999</th>\n",
              "      <td>999</td>\n",
              "      <td>15</td>\n",
              "      <td>2</td>\n",
              "    </tr>\n",
              "  </tbody>\n",
              "</table>\n",
              "<p>10000 rows × 3 columns</p>\n",
              "</div>"
            ],
            "text/plain": [
              "      Tasca  Worker  Anotació\n",
              "0         0      14         2\n",
              "1         0      13         2\n",
              "2         0       4         2\n",
              "3         0       2         2\n",
              "4         0       7         1\n",
              "...     ...     ...       ...\n",
              "9995    999      17         2\n",
              "9996    999       2         2\n",
              "9997    999      13         2\n",
              "9998    999      14         2\n",
              "9999    999      15         2\n",
              "\n",
              "[10000 rows x 3 columns]"
            ]
          },
          "metadata": {
            "tags": []
          },
          "execution_count": 4
        }
      ]
    },
    {
      "cell_type": "code",
      "metadata": {
        "colab": {
          "base_uri": "https://localhost:8080/"
        },
        "id": "vzj90dxodYqR",
        "outputId": "3c5e3e64-3530-40c8-e549-c63b02e957ea"
      },
      "source": [
        "sm_general = pystan.StanModel(file='/content/drive/MyDrive/TFM-Crowd learning/Fitxers STAN/general_dawid-skene.stan')\n"
      ],
      "execution_count": 5,
      "outputs": [
        {
          "output_type": "stream",
          "text": [
            "INFO:pystan:COMPILING THE C++ CODE FOR MODEL anon_model_b3b91d5d08ea08e32e8380bfec8b2a00 NOW.\n"
          ],
          "name": "stderr"
        }
      ]
    },
    {
      "cell_type": "code",
      "metadata": {
        "id": "hhgwBITAdYoB"
      },
      "source": [
        "  w = len(np.unique(df['Worker']))\n",
        "  t = len(np.unique(df['Tasca']))\n",
        "  a = len(df['Anotació'])\n",
        "  k = len(np.unique(df['Anotació']))\n",
        "  t_A = np.array(df['Tasca'])+1\n",
        "  w_A = np.array(df['Worker'])+1\n",
        "  ann = np.array(df['Anotació'])+1\n",
        "  tau_prior = np.array([1,1,1])\n",
        "  pi_prior = np.ones((k,k))\n",
        "\n",
        "  dades_sm_gen = {'w':w,'t':t,'a':a,'k':k,'t_A':t_A,'w_A':w_A,'ann':ann,'tau_prior':tau_prior,'pi_prior':pi_prior} "
      ],
      "execution_count": 6,
      "outputs": []
    },
    {
      "cell_type": "code",
      "metadata": {
        "colab": {
          "base_uri": "https://localhost:8080/"
        },
        "id": "7jA0LpGtdpoa",
        "outputId": "680b4954-fa37-42c0-fcc0-9002c6b1cc68"
      },
      "source": [
        "optim = sm_general.optimizing(data=dades_sm_gen)\n",
        "optim"
      ],
      "execution_count": 8,
      "outputs": [
        {
          "output_type": "execute_result",
          "data": {
            "text/plain": [
              "OrderedDict([('tau', array([0.59038748, 0.11256674, 0.29704578])),\n",
              "             ('pi', array([[[0.14765941, 0.09129486, 0.76104573],\n",
              "                      [0.85035189, 0.07909009, 0.07055802],\n",
              "                      [0.21908585, 0.5887446 , 0.19216954]],\n",
              "              \n",
              "                     [[0.13058057, 0.11073535, 0.75868408],\n",
              "                      [0.65408697, 0.12655529, 0.21935774],\n",
              "                      [0.30767889, 0.51726566, 0.17505545]],\n",
              "              \n",
              "                     [[0.07408427, 0.10849884, 0.81741689],\n",
              "                      [0.62412475, 0.08468081, 0.29119444],\n",
              "                      [0.2137375 , 0.60222612, 0.18403639]],\n",
              "              \n",
              "                     [[0.09577564, 0.13826285, 0.76596151],\n",
              "                      [0.69210761, 0.09324223, 0.21465016],\n",
              "                      [0.19747432, 0.63426307, 0.16826261]],\n",
              "              \n",
              "                     [[0.08058212, 0.12262296, 0.79679492],\n",
              "                      [0.55522348, 0.16270528, 0.28207124],\n",
              "                      [0.2226136 , 0.63069822, 0.14668818]],\n",
              "              \n",
              "                     [[0.09019923, 0.09381169, 0.81598908],\n",
              "                      [0.59570873, 0.09815237, 0.3061389 ],\n",
              "                      [0.20057613, 0.57740426, 0.22201961]],\n",
              "              \n",
              "                     [[0.09377648, 0.08708953, 0.81913399],\n",
              "                      [0.64344951, 0.15140561, 0.20514488],\n",
              "                      [0.16930221, 0.60497458, 0.2257232 ]],\n",
              "              \n",
              "                     [[0.06791972, 0.10966991, 0.82241037],\n",
              "                      [0.70197505, 0.07993287, 0.21809209],\n",
              "                      [0.24759864, 0.54837818, 0.20402318]],\n",
              "              \n",
              "                     [[0.10336125, 0.07138769, 0.82525106],\n",
              "                      [0.70366553, 0.12962172, 0.16671275],\n",
              "                      [0.19029861, 0.61229032, 0.19741108]],\n",
              "              \n",
              "                     [[0.11073158, 0.09560377, 0.79366466],\n",
              "                      [0.59194154, 0.24417762, 0.16388084],\n",
              "                      [0.25647267, 0.53024355, 0.21328378]],\n",
              "              \n",
              "                     [[0.09014188, 0.12479436, 0.78506375],\n",
              "                      [0.81330185, 0.04013355, 0.1465646 ],\n",
              "                      [0.19489655, 0.64095108, 0.16415237]],\n",
              "              \n",
              "                     [[0.08586014, 0.10708623, 0.80705363],\n",
              "                      [0.6030192 , 0.10712336, 0.28985744],\n",
              "                      [0.20811751, 0.56439139, 0.2274911 ]],\n",
              "              \n",
              "                     [[0.10561941, 0.1020108 , 0.79236979],\n",
              "                      [0.73073778, 0.12218201, 0.14708021],\n",
              "                      [0.20706274, 0.62626389, 0.16667338]],\n",
              "              \n",
              "                     [[0.04106122, 0.09876375, 0.86017503],\n",
              "                      [0.7160857 , 0.14136792, 0.14254638],\n",
              "                      [0.20969369, 0.620336  , 0.16997031]],\n",
              "              \n",
              "                     [[0.09612516, 0.07809567, 0.82577917],\n",
              "                      [0.82887073, 0.03624211, 0.13488716],\n",
              "                      [0.18705038, 0.62618   , 0.18676962]],\n",
              "              \n",
              "                     [[0.07376661, 0.11194465, 0.81428875],\n",
              "                      [0.60083569, 0.07855478, 0.32060953],\n",
              "                      [0.24246824, 0.60069169, 0.15684007]],\n",
              "              \n",
              "                     [[0.09841448, 0.115233  , 0.78635252],\n",
              "                      [0.71526044, 0.06493914, 0.21980042],\n",
              "                      [0.21659183, 0.63660798, 0.1468002 ]],\n",
              "              \n",
              "                     [[0.10161589, 0.12083171, 0.7775524 ],\n",
              "                      [0.72366978, 0.08680936, 0.18952086],\n",
              "                      [0.2625337 , 0.53113675, 0.20632955]],\n",
              "              \n",
              "                     [[0.08764912, 0.1116308 , 0.80072008],\n",
              "                      [0.72803862, 0.03358994, 0.23837145],\n",
              "                      [0.21048802, 0.59459663, 0.19491534]],\n",
              "              \n",
              "                     [[0.10261219, 0.10372704, 0.79366078],\n",
              "                      [0.71878009, 0.0779982 , 0.20322172],\n",
              "                      [0.2271039 , 0.58593654, 0.18695955]]])),\n",
              "             ('log_p_t_C', array([[ -4.65967465, -19.24463184, -17.9234919 ],\n",
              "                     [-21.39077048,  -9.26165694, -15.20900061],\n",
              "                     [ -8.69500627, -20.02490816, -15.25239839],\n",
              "                     ...,\n",
              "                     [-20.46308155, -24.66919374,  -8.7460822 ],\n",
              "                     [ -4.92909569, -17.56580818, -18.13100017],\n",
              "                     [ -2.64573053, -18.31493229, -17.78535584]])),\n",
              "             ('t_C', array([[9.99997801e-01, 4.63268337e-07, 1.73618663e-06],\n",
              "                     [5.38588841e-06, 9.97388665e-01, 2.60594889e-03],\n",
              "                     [9.98570455e-01, 1.19912606e-05, 1.41755364e-03],\n",
              "                     ...,\n",
              "                     [8.15395372e-06, 1.21528161e-07, 9.99991725e-01],\n",
              "                     [9.99994902e-01, 3.25044842e-06, 1.84707069e-06],\n",
              "                     [9.99999577e-01, 1.56657777e-07, 2.66038255e-07]]))])"
            ]
          },
          "metadata": {
            "tags": []
          },
          "execution_count": 8
        }
      ]
    },
    {
      "cell_type": "code",
      "metadata": {
        "id": "JXs4ax3XdYle"
      },
      "source": [
        "def correct_label_switching(sm,dades_sm,k):\n",
        "  opt = sm.optimizing(data=dades_sm)\n",
        "\n",
        "  acumulacio_permutacions=[]\n",
        "  matrices_pi = opt['pi']\n",
        "  tau = opt['tau']\n",
        "  t_C = opt['t_C']\n",
        "  log_p_t_C = opt['log_p_t_C']\n",
        "  new_pi = np.zeros((len(matrices_pi),k,k))\n",
        "  new_tau = np.zeros(k)\n",
        "  new_t_C = np.zeros((len(t_C),k))\n",
        "  new_log_p_t_C = np.zeros((len(log_p_t_C),k))\n",
        "\n",
        "  for w in range(len(matrices_pi)):\n",
        "    on_hauria_danar = np.argmax(matrices_pi[w],axis=1)\n",
        "    acumulacio_permutacions.append(on_hauria_danar)\n",
        "    for i in range(len(matrices_pi[w])): #aquest bucle corregeix les matrius pi\n",
        "      new_pi[w][on_hauria_danar[i]] = matrices_pi[w][i]\n",
        "  #amb aquesta part del codi determinem la permutació 'guanyadora' per aplicar-li a tau i t_C\n",
        "  values, counts = np.unique(acumulacio_permutacions,axis=0, return_counts=True)\n",
        "  ind = np.argmax(counts)\n",
        "  permutacio = values[ind]\n",
        "  #actualitzem tau, t_C i log_P_t_C\n",
        "  for i in range(len(tau)):\n",
        "    new_tau[permutacio[i]] = tau[i]\n",
        "\n",
        "  for t in range(len(opt['t_C'])):\n",
        "      for i in range(k):\n",
        "        new_t_C[t][permutacio[i]] = t_C[t][i]\n",
        "        new_log_p_t_C[t][permutacio[i]] = log_p_t_C[t][i]\n",
        "  return new_tau,new_pi,new_t_C,new_log_p_t_C,permutacio\n",
        "\n",
        "\n",
        "\n"
      ],
      "execution_count": 9,
      "outputs": []
    },
    {
      "cell_type": "code",
      "metadata": {
        "id": "MO7tgtNtdYjD"
      },
      "source": [
        "new_tau,new_pi,new_t_C,new_log_p_t_C, permutacio = correct_label_switching(sm_general,dades_sm_gen,k)"
      ],
      "execution_count": 10,
      "outputs": []
    },
    {
      "cell_type": "code",
      "metadata": {
        "colab": {
          "base_uri": "https://localhost:8080/"
        },
        "id": "3HBPdKwQdYgV",
        "outputId": "6d9b654c-3486-43eb-da28-3d378524b5d8"
      },
      "source": [
        "new_tau,new_pi,new_t_C,new_log_p_t_C, permutacio"
      ],
      "execution_count": 12,
      "outputs": [
        {
          "output_type": "execute_result",
          "data": {
            "text/plain": [
              "(array([0.11254964, 0.29708801, 0.59036234]),\n",
              " array([[[0.85034893, 0.07908165, 0.07056942],\n",
              "         [0.21908854, 0.58874451, 0.19216695],\n",
              "         [0.14765338, 0.09130377, 0.76104285]],\n",
              " \n",
              "        [[0.65434097, 0.12649401, 0.21916502],\n",
              "         [0.30768034, 0.51723294, 0.17508672],\n",
              "         [0.13057921, 0.11072228, 0.75869852]],\n",
              " \n",
              "        [[0.62406019, 0.08483056, 0.29110925],\n",
              "         [0.21375401, 0.60218972, 0.18405627],\n",
              "         [0.07408611, 0.10848875, 0.81742514]],\n",
              " \n",
              "        [[0.69214095, 0.09321926, 0.21463979],\n",
              "         [0.19748926, 0.63428012, 0.16823062],\n",
              "         [0.09577841, 0.13824472, 0.76597686]],\n",
              " \n",
              "        [[0.55515051, 0.16258394, 0.28226555],\n",
              "         [0.22260837, 0.6307409 , 0.14665073],\n",
              "         [0.08058333, 0.12261333, 0.79680335]],\n",
              " \n",
              "        [[0.59559594, 0.09822207, 0.30618198],\n",
              "         [0.20057249, 0.5774031 , 0.22202442],\n",
              "         [0.0902011 , 0.09381199, 0.81598691]],\n",
              " \n",
              "        [[0.64338345, 0.15136375, 0.20525281],\n",
              "         [0.16935728, 0.60493495, 0.22570776],\n",
              "         [0.0937703 , 0.0870948 , 0.8191349 ]],\n",
              " \n",
              "        [[0.70209299, 0.07981387, 0.21809313],\n",
              "         [0.24757821, 0.54838525, 0.20403654],\n",
              "         [0.06789379, 0.10966882, 0.8224374 ]],\n",
              " \n",
              "        [[0.70362178, 0.12968964, 0.16668858],\n",
              "         [0.19030293, 0.61227716, 0.19741991],\n",
              "         [0.1033595 , 0.07138759, 0.82525291]],\n",
              " \n",
              "        [[0.59195603, 0.24412989, 0.16391408],\n",
              "         [0.25647059, 0.5302441 , 0.21328531],\n",
              "         [0.11071917, 0.09560739, 0.79367344]],\n",
              " \n",
              "        [[0.8132188 , 0.04026624, 0.14651496],\n",
              "         [0.19494241, 0.64092394, 0.16413365],\n",
              "         [0.09013238, 0.12477736, 0.78509026]],\n",
              " \n",
              "        [[0.60290883, 0.10709064, 0.29000053],\n",
              "         [0.20812729, 0.56439065, 0.22748205],\n",
              "         [0.08586205, 0.10708938, 0.80704857]],\n",
              " \n",
              "        [[0.73076398, 0.12212316, 0.14711286],\n",
              "         [0.20706094, 0.62629759, 0.16664147],\n",
              "         [0.10562013, 0.10201182, 0.79236806]],\n",
              " \n",
              "        [[0.71617804, 0.14121167, 0.14261029],\n",
              "         [0.2096971 , 0.620386  , 0.1699169 ],\n",
              "         [0.04105713, 0.09876751, 0.86017535]],\n",
              " \n",
              "        [[0.82895828, 0.03613913, 0.13490259],\n",
              "         [0.18705715, 0.62620466, 0.18673819],\n",
              "         [0.09612629, 0.07809589, 0.82577782]],\n",
              " \n",
              "        [[0.60081981, 0.07866477, 0.32051542],\n",
              "         [0.24247314, 0.60067413, 0.15685273],\n",
              "         [0.073764  , 0.11193804, 0.81429796]],\n",
              " \n",
              "        [[0.71540273, 0.0647748 , 0.21982247],\n",
              "         [0.21657443, 0.63664597, 0.1467796 ],\n",
              "         [0.09841863, 0.11524093, 0.78634044]],\n",
              " \n",
              "        [[0.7236307 , 0.08673301, 0.18963629],\n",
              "         [0.26255365, 0.53113754, 0.20630882],\n",
              "         [0.10162017, 0.12082459, 0.77755524]],\n",
              " \n",
              "        [[0.72817563, 0.03361952, 0.23820485],\n",
              "         [0.21047756, 0.59455626, 0.19496618],\n",
              "         [0.08765136, 0.11163103, 0.80071762]],\n",
              " \n",
              "        [[0.71876288, 0.07800873, 0.20322839],\n",
              "         [0.22711043, 0.58596035, 0.18692922],\n",
              "         [0.10260909, 0.10372864, 0.79366227]]]),\n",
              " array([[4.62825398e-07, 1.73445417e-06, 9.99997803e-01],\n",
              "        [9.97390623e-01, 2.60399773e-03, 5.37948641e-06],\n",
              "        [1.20377062e-05, 1.41746179e-03, 9.98570501e-01],\n",
              "        ...,\n",
              "        [1.21140812e-07, 9.99991726e-01, 8.15248507e-06],\n",
              "        [3.25163383e-06, 1.84673009e-06, 9.99994902e-01],\n",
              "        [1.56865795e-07, 2.65864803e-07, 9.99999577e-01]]),\n",
              " array([[-19.24559215, -17.92449398,  -4.65967838],\n",
              "        [ -9.26086222, -15.20895686, -21.39116708],\n",
              "        [-20.02134271, -15.25276353,  -8.69530658],\n",
              "        ...,\n",
              "        [-24.67236822,  -8.74606427, -20.46324376],\n",
              "        [-17.56558777, -18.1313288 ,  -4.9292399 ],\n",
              "        [-18.31358254, -17.78598525,  -2.64570776]]),\n",
              " array([2, 1, 0]))"
            ]
          },
          "metadata": {
            "tags": []
          },
          "execution_count": 12
        }
      ]
    },
    {
      "cell_type": "code",
      "metadata": {
        "id": "bOu6x52YdYdX"
      },
      "source": [
        ""
      ],
      "execution_count": null,
      "outputs": []
    }
  ]
}