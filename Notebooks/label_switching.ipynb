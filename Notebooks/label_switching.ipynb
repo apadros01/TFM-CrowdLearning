{
  "nbformat": 4,
  "nbformat_minor": 0,
  "metadata": {
    "colab": {
      "name": "label-switching.ipynb",
      "provenance": [],
      "collapsed_sections": [],
      "toc_visible": true
    },
    "kernelspec": {
      "name": "python3",
      "display_name": "Python 3"
    },
    "language_info": {
      "name": "python"
    }
  },
  "cells": [
    {
      "cell_type": "code",
      "metadata": {
        "colab": {
          "base_uri": "https://localhost:8080/"
        },
        "id": "sHUMgZOxdDPw",
        "outputId": "032c5576-8828-4574-cf32-5966816e2e5e"
      },
      "source": [
        "pip install arviz"
      ],
      "execution_count": null,
      "outputs": [
        {
          "output_type": "stream",
          "text": [
            "Collecting arviz\n",
            "\u001b[?25l  Downloading https://files.pythonhosted.org/packages/e2/a8/e2ad120b06822e29e0d185bed1ae300576f3f61f97fceb6933ba6f6accf7/arviz-0.11.2-py3-none-any.whl (1.6MB)\n",
            "\u001b[K     |████████████████████████████████| 1.6MB 9.0MB/s \n",
            "\u001b[?25hRequirement already satisfied: scipy>=0.19 in /usr/local/lib/python3.7/dist-packages (from arviz) (1.4.1)\n",
            "Requirement already satisfied: packaging in /usr/local/lib/python3.7/dist-packages (from arviz) (20.9)\n",
            "Collecting xarray>=0.16.1\n",
            "\u001b[?25l  Downloading https://files.pythonhosted.org/packages/a5/19/debc1f470b8b9e2949da221663c8102ed6728f4d38dc964085ca43de1428/xarray-0.17.0-py3-none-any.whl (759kB)\n",
            "\u001b[K     |████████████████████████████████| 768kB 39.0MB/s \n",
            "\u001b[?25hRequirement already satisfied: pandas>=0.23 in /usr/local/lib/python3.7/dist-packages (from arviz) (1.1.5)\n",
            "Requirement already satisfied: matplotlib>=3.0 in /usr/local/lib/python3.7/dist-packages (from arviz) (3.2.2)\n",
            "Collecting netcdf4\n",
            "\u001b[?25l  Downloading https://files.pythonhosted.org/packages/37/56/f65978898fb8e7e5df9c67531d86eb24eb04938deae3b61dbcce12c98212/netCDF4-1.5.6-cp37-cp37m-manylinux2014_x86_64.whl (4.7MB)\n",
            "\u001b[K     |████████████████████████████████| 4.7MB 38.6MB/s \n",
            "\u001b[?25hRequirement already satisfied: numpy>=1.12 in /usr/local/lib/python3.7/dist-packages (from arviz) (1.19.5)\n",
            "Requirement already satisfied: typing-extensions<4,>=3.7.4.3 in /usr/local/lib/python3.7/dist-packages (from arviz) (3.7.4.3)\n",
            "Requirement already satisfied: setuptools>=38.4 in /usr/local/lib/python3.7/dist-packages (from arviz) (56.0.0)\n",
            "Requirement already satisfied: pyparsing>=2.0.2 in /usr/local/lib/python3.7/dist-packages (from packaging->arviz) (2.4.7)\n",
            "Requirement already satisfied: python-dateutil>=2.7.3 in /usr/local/lib/python3.7/dist-packages (from pandas>=0.23->arviz) (2.8.1)\n",
            "Requirement already satisfied: pytz>=2017.2 in /usr/local/lib/python3.7/dist-packages (from pandas>=0.23->arviz) (2018.9)\n",
            "Requirement already satisfied: kiwisolver>=1.0.1 in /usr/local/lib/python3.7/dist-packages (from matplotlib>=3.0->arviz) (1.3.1)\n",
            "Requirement already satisfied: cycler>=0.10 in /usr/local/lib/python3.7/dist-packages (from matplotlib>=3.0->arviz) (0.10.0)\n",
            "Collecting cftime\n",
            "\u001b[?25l  Downloading https://files.pythonhosted.org/packages/41/e0/3e120cca16571c5ee3b35f1ed432c2aae5dc91e2b789e8b9c3a70e721ea0/cftime-1.4.1-cp37-cp37m-manylinux2014_x86_64.whl (313kB)\n",
            "\u001b[K     |████████████████████████████████| 317kB 47.1MB/s \n",
            "\u001b[?25hRequirement already satisfied: six>=1.5 in /usr/local/lib/python3.7/dist-packages (from python-dateutil>=2.7.3->pandas>=0.23->arviz) (1.15.0)\n",
            "Installing collected packages: xarray, cftime, netcdf4, arviz\n",
            "  Found existing installation: xarray 0.15.1\n",
            "    Uninstalling xarray-0.15.1:\n",
            "      Successfully uninstalled xarray-0.15.1\n",
            "Successfully installed arviz-0.11.2 cftime-1.4.1 netcdf4-1.5.6 xarray-0.17.0\n"
          ],
          "name": "stdout"
        }
      ]
    },
    {
      "cell_type": "code",
      "metadata": {
        "id": "VFSKBYUDdOkC"
      },
      "source": [
        "import pystan\n",
        "import numpy as np\n",
        "import matplotlib.pyplot as plt\n",
        "import arviz\n",
        "import pickle\n",
        "import cmdstanpy\n",
        "import json\n",
        "import pandas as pd"
      ],
      "execution_count": null,
      "outputs": []
    },
    {
      "cell_type": "code",
      "metadata": {
        "id": "rIY0fzuxdQ07"
      },
      "source": [
        "with open('/content/drive/MyDrive/TFM-Crowd learning/multinomial.json') as json_file:\n",
        "    data = json.load(json_file)"
      ],
      "execution_count": null,
      "outputs": []
    },
    {
      "cell_type": "code",
      "metadata": {
        "colab": {
          "base_uri": "https://localhost:8080/",
          "height": 419
        },
        "id": "o2fi0VkkdQu1",
        "outputId": "41bb4cb5-b723-4213-ebd5-e492ecb94dba"
      },
      "source": [
        "dades={'Tasca': data['t_A'], 'Worker': data['w_A'], 'Anotació': data['ann'] }\n",
        "df = pd.DataFrame(data=dades)\n",
        "df"
      ],
      "execution_count": null,
      "outputs": [
        {
          "output_type": "execute_result",
          "data": {
            "text/html": [
              "<div>\n",
              "<style scoped>\n",
              "    .dataframe tbody tr th:only-of-type {\n",
              "        vertical-align: middle;\n",
              "    }\n",
              "\n",
              "    .dataframe tbody tr th {\n",
              "        vertical-align: top;\n",
              "    }\n",
              "\n",
              "    .dataframe thead th {\n",
              "        text-align: right;\n",
              "    }\n",
              "</style>\n",
              "<table border=\"1\" class=\"dataframe\">\n",
              "  <thead>\n",
              "    <tr style=\"text-align: right;\">\n",
              "      <th></th>\n",
              "      <th>Tasca</th>\n",
              "      <th>Worker</th>\n",
              "      <th>Anotació</th>\n",
              "    </tr>\n",
              "  </thead>\n",
              "  <tbody>\n",
              "    <tr>\n",
              "      <th>0</th>\n",
              "      <td>0</td>\n",
              "      <td>14</td>\n",
              "      <td>2</td>\n",
              "    </tr>\n",
              "    <tr>\n",
              "      <th>1</th>\n",
              "      <td>0</td>\n",
              "      <td>13</td>\n",
              "      <td>2</td>\n",
              "    </tr>\n",
              "    <tr>\n",
              "      <th>2</th>\n",
              "      <td>0</td>\n",
              "      <td>4</td>\n",
              "      <td>2</td>\n",
              "    </tr>\n",
              "    <tr>\n",
              "      <th>3</th>\n",
              "      <td>0</td>\n",
              "      <td>2</td>\n",
              "      <td>2</td>\n",
              "    </tr>\n",
              "    <tr>\n",
              "      <th>4</th>\n",
              "      <td>0</td>\n",
              "      <td>7</td>\n",
              "      <td>1</td>\n",
              "    </tr>\n",
              "    <tr>\n",
              "      <th>...</th>\n",
              "      <td>...</td>\n",
              "      <td>...</td>\n",
              "      <td>...</td>\n",
              "    </tr>\n",
              "    <tr>\n",
              "      <th>9995</th>\n",
              "      <td>999</td>\n",
              "      <td>17</td>\n",
              "      <td>2</td>\n",
              "    </tr>\n",
              "    <tr>\n",
              "      <th>9996</th>\n",
              "      <td>999</td>\n",
              "      <td>2</td>\n",
              "      <td>2</td>\n",
              "    </tr>\n",
              "    <tr>\n",
              "      <th>9997</th>\n",
              "      <td>999</td>\n",
              "      <td>13</td>\n",
              "      <td>2</td>\n",
              "    </tr>\n",
              "    <tr>\n",
              "      <th>9998</th>\n",
              "      <td>999</td>\n",
              "      <td>14</td>\n",
              "      <td>2</td>\n",
              "    </tr>\n",
              "    <tr>\n",
              "      <th>9999</th>\n",
              "      <td>999</td>\n",
              "      <td>15</td>\n",
              "      <td>2</td>\n",
              "    </tr>\n",
              "  </tbody>\n",
              "</table>\n",
              "<p>10000 rows × 3 columns</p>\n",
              "</div>"
            ],
            "text/plain": [
              "      Tasca  Worker  Anotació\n",
              "0         0      14         2\n",
              "1         0      13         2\n",
              "2         0       4         2\n",
              "3         0       2         2\n",
              "4         0       7         1\n",
              "...     ...     ...       ...\n",
              "9995    999      17         2\n",
              "9996    999       2         2\n",
              "9997    999      13         2\n",
              "9998    999      14         2\n",
              "9999    999      15         2\n",
              "\n",
              "[10000 rows x 3 columns]"
            ]
          },
          "metadata": {
            "tags": []
          },
          "execution_count": 4
        }
      ]
    },
    {
      "cell_type": "code",
      "metadata": {
        "colab": {
          "base_uri": "https://localhost:8080/"
        },
        "id": "vzj90dxodYqR",
        "outputId": "6e1de2f0-e0da-4969-b2f5-c4ab48032f53"
      },
      "source": [
        "sm_general = pystan.StanModel(file='/content/drive/MyDrive/TFM-Crowd learning/Fitxers STAN/general_dawid-skene.stan')\n"
      ],
      "execution_count": null,
      "outputs": [
        {
          "output_type": "stream",
          "text": [
            "INFO:pystan:COMPILING THE C++ CODE FOR MODEL anon_model_b3b91d5d08ea08e32e8380bfec8b2a00 NOW.\n"
          ],
          "name": "stderr"
        }
      ]
    },
    {
      "cell_type": "code",
      "metadata": {
        "id": "hhgwBITAdYoB"
      },
      "source": [
        "  w = len(np.unique(df['Worker']))\n",
        "  t = len(np.unique(df['Tasca']))\n",
        "  a = len(df['Anotació'])\n",
        "  k = len(np.unique(df['Anotació']))\n",
        "  t_A = np.array(df['Tasca'])+1\n",
        "  w_A = np.array(df['Worker'])+1\n",
        "  ann = np.array(df['Anotació'])+1\n",
        "  tau_prior = np.array([1,1,1])\n",
        "  pi_prior = np.ones((k,k))\n",
        "\n",
        "  dades_sm_gen = {'w':w,'t':t,'a':a,'k':k,'t_A':t_A,'w_A':w_A,'ann':ann,'tau_prior':tau_prior,'pi_prior':pi_prior} "
      ],
      "execution_count": null,
      "outputs": []
    },
    {
      "cell_type": "code",
      "metadata": {
        "colab": {
          "base_uri": "https://localhost:8080/"
        },
        "id": "7jA0LpGtdpoa",
        "outputId": "e9b7584a-b3f9-4cd8-ddbe-ca7f90eae8bf"
      },
      "source": [
        "optim = sm_general.optimizing(data=dades_sm_gen)\n",
        "optim"
      ],
      "execution_count": null,
      "outputs": [
        {
          "output_type": "execute_result",
          "data": {
            "text/plain": [
              "OrderedDict([('tau', array([0.59040857, 0.29704422, 0.11254721])),\n",
              "             ('pi', array([[[0.14765821, 0.09129293, 0.76104886],\n",
              "                      [0.2190873 , 0.58873091, 0.19218179],\n",
              "                      [0.8501621 , 0.07926495, 0.07057295]],\n",
              "              \n",
              "                     [[0.13057424, 0.11073397, 0.75869179],\n",
              "                      [0.30767198, 0.51725952, 0.17506851],\n",
              "                      [0.6543249 , 0.12652782, 0.21914728]],\n",
              "              \n",
              "                     [[0.07408473, 0.10849105, 0.81742422],\n",
              "                      [0.21375559, 0.60218531, 0.18405909],\n",
              "                      [0.62404251, 0.08486799, 0.29108949]],\n",
              "              \n",
              "                     [[0.09577377, 0.13825615, 0.76597008],\n",
              "                      [0.19746324, 0.63425052, 0.16828624],\n",
              "                      [0.69213084, 0.09325156, 0.2146176 ]],\n",
              "              \n",
              "                     [[0.08057932, 0.12261249, 0.79680819],\n",
              "                      [0.22260584, 0.63068914, 0.14670501],\n",
              "                      [0.55518812, 0.16259669, 0.28221519]],\n",
              "              \n",
              "                     [[0.09019312, 0.0938133 , 0.81599358],\n",
              "                      [0.20057414, 0.57740321, 0.22202265],\n",
              "                      [0.59562961, 0.09815388, 0.3062165 ]],\n",
              "              \n",
              "                     [[0.09377064, 0.08709393, 0.81913543],\n",
              "                      [0.1693097 , 0.60495398, 0.22573632],\n",
              "                      [0.64343817, 0.1513591 , 0.20520273]],\n",
              "              \n",
              "                     [[0.06791463, 0.10967406, 0.82241132],\n",
              "                      [0.24755365, 0.5484053 , 0.20404105],\n",
              "                      [0.70203225, 0.07977089, 0.21819685]],\n",
              "              \n",
              "                     [[0.1033627 , 0.07138509, 0.8252522 ],\n",
              "                      [0.19031833, 0.61225232, 0.19742935],\n",
              "                      [0.70349884, 0.1297121 , 0.16678907]],\n",
              "              \n",
              "                     [[0.11071725, 0.09560373, 0.79367902],\n",
              "                      [0.25648034, 0.53024975, 0.21326991],\n",
              "                      [0.59198248, 0.24415717, 0.16386036]],\n",
              "              \n",
              "                     [[0.09013443, 0.12478749, 0.78507807],\n",
              "                      [0.19495588, 0.64089715, 0.16414697],\n",
              "                      [0.81294798, 0.0404514 , 0.14660063]],\n",
              "              \n",
              "                     [[0.0858577 , 0.10708508, 0.80705722],\n",
              "                      [0.20814942, 0.56436638, 0.2274842 ],\n",
              "                      [0.60281464, 0.10708329, 0.29010207]],\n",
              "              \n",
              "                     [[0.10560779, 0.10201831, 0.7923739 ],\n",
              "                      [0.2070558 , 0.62628163, 0.16666257],\n",
              "                      [0.73081735, 0.12204975, 0.14713291]],\n",
              "              \n",
              "                     [[0.04105475, 0.09876735, 0.86017791],\n",
              "                      [0.20967116, 0.6203535 , 0.16997534],\n",
              "                      [0.71613295, 0.1412003 , 0.14266676]],\n",
              "              \n",
              "                     [[0.09612747, 0.0781007 , 0.82577183],\n",
              "                      [0.18705353, 0.62619059, 0.18675588],\n",
              "                      [0.82874529, 0.0362504 , 0.13500431]],\n",
              "              \n",
              "                     [[0.07376345, 0.11194422, 0.81429233],\n",
              "                      [0.24245927, 0.60067544, 0.15686529],\n",
              "                      [0.60084246, 0.07863157, 0.32052597]],\n",
              "              \n",
              "                     [[0.09841361, 0.11524097, 0.78634541],\n",
              "                      [0.21657137, 0.63663486, 0.14679377],\n",
              "                      [0.71549546, 0.06456573, 0.21993881]],\n",
              "              \n",
              "                     [[0.10161384, 0.12083072, 0.77755544],\n",
              "                      [0.26253695, 0.53115297, 0.20631008],\n",
              "                      [0.7236747 , 0.08660814, 0.18971716]],\n",
              "              \n",
              "                     [[0.08764336, 0.11163057, 0.80072607],\n",
              "                      [0.21048317, 0.5945869 , 0.19492993],\n",
              "                      [0.72816573, 0.03353487, 0.2382994 ]],\n",
              "              \n",
              "                     [[0.1026033 , 0.10373014, 0.79366656],\n",
              "                      [0.22711118, 0.58593176, 0.18695705],\n",
              "                      [0.71873245, 0.07796768, 0.20329987]]])),\n",
              "             ('log_p_t_C', array([[ -4.65955496, -17.92324766, -19.24361452],\n",
              "                     [-21.39109476, -15.2092999 ,  -9.26055916],\n",
              "                     [ -8.69515977, -15.2524792 , -20.0183177 ],\n",
              "                     ...,\n",
              "                     [-20.46320598,  -8.74622334, -24.67937148],\n",
              "                     [ -4.92912147, -18.13075388, -17.56327745],\n",
              "                     [ -2.64563326, -17.7852988 , -18.31134862]])),\n",
              "             ('t_C', array([[9.99997800e-01, 1.73640289e-06, 4.63684368e-07],\n",
              "                     [5.37825437e-06, 2.60232020e-03, 9.97392302e-01],\n",
              "                     [9.98570271e-01, 1.41765642e-03, 1.20724002e-05],\n",
              "                     ...,\n",
              "                     [8.15408997e-06, 9.99991726e-01, 1.20314532e-07],\n",
              "                     [9.99994894e-01, 1.84757330e-06, 3.25876887e-06],\n",
              "                     [9.99999577e-01, 2.66027550e-07, 1.57204901e-07]]))])"
            ]
          },
          "metadata": {
            "tags": []
          },
          "execution_count": 9
        }
      ]
    },
    {
      "cell_type": "code",
      "metadata": {
        "id": "JXs4ax3XdYle"
      },
      "source": [
        "def correct_label_switching(sm,dades_sm,k):\n",
        "  opt = sm.optimizing(data=dades_sm)\n",
        "\n",
        "  acumulacio_permutacions=[]\n",
        "  matrices_pi = opt['pi']\n",
        "  tau = opt['tau']\n",
        "  t_C = opt['t_C']\n",
        "  log_p_t_C = opt['log_p_t_C']\n",
        "  new_pi = np.zeros((len(matrices_pi),k,k))\n",
        "  new_tau = np.zeros(k)\n",
        "  new_t_C = np.zeros((len(t_C),k))\n",
        "  new_log_p_t_C = np.zeros((len(log_p_t_C),k))\n",
        "\n",
        "  for w in range(len(matrices_pi)):\n",
        "    on_hauria_danar = np.argmax(matrices_pi[w],axis=1)\n",
        "    acumulacio_permutacions.append(on_hauria_danar)\n",
        "    for i in range(len(matrices_pi[w])): #aquest bucle corregeix les matrius pi\n",
        "      new_pi[w][on_hauria_danar[i]] = matrices_pi[w][i]\n",
        "  #amb aquesta part del codi determinem la permutació 'guanyadora' per aplicar-li a tau i t_C\n",
        "  values, counts = np.unique(acumulacio_permutacions,axis=0, return_counts=True)\n",
        "  ind = np.argmax(counts)\n",
        "  permutacio = values[ind]\n",
        "  #actualitzem tau, t_C i log_P_t_C\n",
        "  for i in range(len(tau)):\n",
        "    new_tau[permutacio[i]] = tau[i]\n",
        "\n",
        "  for t in range(len(opt['t_C'])):\n",
        "      for i in range(k):\n",
        "        new_t_C[t][permutacio[i]] = t_C[t][i]\n",
        "        new_log_p_t_C[t][permutacio[i]] = log_p_t_C[t][i]\n",
        "  return new_tau,new_pi,new_t_C,new_log_p_t_C,permutacio\n",
        "\n",
        "\n",
        "\n"
      ],
      "execution_count": null,
      "outputs": []
    },
    {
      "cell_type": "code",
      "metadata": {
        "id": "MO7tgtNtdYjD"
      },
      "source": [
        "new_tau,new_pi,new_t_C,new_log_p_t_C, permutacio = correct_label_switching(sm_general,dades_sm_gen,k)"
      ],
      "execution_count": null,
      "outputs": []
    },
    {
      "cell_type": "code",
      "metadata": {
        "colab": {
          "base_uri": "https://localhost:8080/"
        },
        "id": "3HBPdKwQdYgV",
        "outputId": "c868e42e-a9c0-46d8-8cab-d3971c3900af"
      },
      "source": [
        "new_tau,new_pi,new_t_C,new_log_p_t_C, permutacio"
      ],
      "execution_count": null,
      "outputs": [
        {
          "output_type": "execute_result",
          "data": {
            "text/plain": [
              "(array([0.11254858, 0.29706796, 0.59038347]),\n",
              " array([[[0.85033674, 0.0790398 , 0.07062346],\n",
              "         [0.21907949, 0.58874459, 0.19217592],\n",
              "         [0.14764153, 0.09130061, 0.76105786]],\n",
              " \n",
              "        [[0.65433718, 0.12650747, 0.21915535],\n",
              "         [0.30763739, 0.51728371, 0.1750789 ],\n",
              "         [0.13057773, 0.11076129, 0.75866098]],\n",
              " \n",
              "        [[0.62402972, 0.08486919, 0.29110108],\n",
              "         [0.21375731, 0.60219062, 0.18405207],\n",
              "         [0.07408899, 0.10850077, 0.81741024]],\n",
              " \n",
              "        [[0.69220328, 0.09319612, 0.2146006 ],\n",
              "         [0.19745195, 0.63427495, 0.1682731 ],\n",
              "         [0.09577821, 0.13826044, 0.76596135]],\n",
              " \n",
              "        [[0.55510388, 0.16271194, 0.28218418],\n",
              "         [0.22262585, 0.63068859, 0.14668556],\n",
              "         [0.08058579, 0.12264905, 0.79676516]],\n",
              " \n",
              "        [[0.59576088, 0.09815075, 0.30608837],\n",
              "         [0.20054931, 0.57740835, 0.22204234],\n",
              "         [0.09019907, 0.09381149, 0.81598944]],\n",
              " \n",
              "        [[0.6433154 , 0.15140301, 0.20528158],\n",
              "         [0.16931556, 0.60495389, 0.22573056],\n",
              "         [0.09377474, 0.08709359, 0.81913167]],\n",
              " \n",
              "        [[0.70207439, 0.07978763, 0.21813798],\n",
              "         [0.24754336, 0.54841129, 0.20404535],\n",
              "         [0.06791734, 0.10967989, 0.82240276]],\n",
              " \n",
              "        [[0.70356176, 0.12989958, 0.16653865],\n",
              "         [0.19031341, 0.61224732, 0.19743927],\n",
              "         [0.10336933, 0.07138626, 0.82524441]],\n",
              " \n",
              "        [[0.59191007, 0.24419848, 0.16389145],\n",
              "         [0.25649341, 0.5302255 , 0.21328109],\n",
              "         [0.11074541, 0.09560417, 0.79365042]],\n",
              " \n",
              "        [[0.81321382, 0.04031243, 0.14647376],\n",
              "         [0.19493484, 0.64091571, 0.16414945],\n",
              "         [0.09014146, 0.12480076, 0.78505777]],\n",
              " \n",
              "        [[0.60293756, 0.10705323, 0.29000921],\n",
              "         [0.20813877, 0.56437545, 0.22748578],\n",
              "         [0.08586363, 0.10709232, 0.80704405]],\n",
              " \n",
              "        [[0.73080476, 0.12221572, 0.14697952],\n",
              "         [0.20705808, 0.62627144, 0.16667048],\n",
              "         [0.10562622, 0.10201296, 0.79236082]],\n",
              " \n",
              "        [[0.71619656, 0.14128708, 0.14251636],\n",
              "         [0.20967735, 0.62035285, 0.1699698 ],\n",
              "         [0.04106082, 0.09876617, 0.86017301]],\n",
              " \n",
              "        [[0.82886982, 0.03618462, 0.13494556],\n",
              "         [0.18705255, 0.62619594, 0.18675151],\n",
              "         [0.09613541, 0.07809768, 0.82576691]],\n",
              " \n",
              "        [[0.60083148, 0.0787895 , 0.32037902],\n",
              "         [0.24247493, 0.60065095, 0.15687412],\n",
              "         [0.0737672 , 0.11195794, 0.81427486]],\n",
              " \n",
              "        [[0.71548533, 0.0646211 , 0.21989357],\n",
              "         [0.21657169, 0.63663848, 0.14678983],\n",
              "         [0.0984168 , 0.11523635, 0.78634685]],\n",
              " \n",
              "        [[0.72362808, 0.08661548, 0.18975644],\n",
              "         [0.26253653, 0.53115781, 0.20630566],\n",
              "         [0.10163193, 0.12084639, 0.77752168]],\n",
              " \n",
              "        [[0.72819343, 0.03337606, 0.23843051],\n",
              "         [0.21048884, 0.59458999, 0.19492117],\n",
              "         [0.08764676, 0.11164877, 0.80070447]],\n",
              " \n",
              "        [[0.71881654, 0.0779225 , 0.20326096],\n",
              "         [0.22707798, 0.58596766, 0.18695436],\n",
              "         [0.10260633, 0.10373591, 0.79365776]]]),\n",
              " array([[4.61852912e-07, 1.73655353e-06, 9.99997802e-01],\n",
              "        [9.97393716e-01, 2.60090609e-03, 5.37835085e-06],\n",
              "        [1.20543451e-05, 1.41737934e-03, 9.98570566e-01],\n",
              "        ...,\n",
              "        [1.19791416e-07, 9.99991720e-01, 8.16028220e-06],\n",
              "        [3.25454959e-06, 1.84758650e-06, 9.99994898e-01],\n",
              "        [1.56849551e-07, 2.66103411e-07, 9.99999577e-01]]),\n",
              " array([[-19.24771725, -17.92330602,  -4.65970008],\n",
              "        [ -9.26006195, -15.20934766, -21.39058103],\n",
              "        [-20.01943977, -15.25230004,  -8.69478485],\n",
              "        ...,\n",
              "        [-24.68354511,  -8.74603958, -20.46226311],\n",
              "        [-17.56469051, -18.13086421,  -4.92923895],\n",
              "        [-18.31384161, -17.78524368,  -2.64586327]]),\n",
              " array([1, 0, 2]))"
            ]
          },
          "metadata": {
            "tags": []
          },
          "execution_count": 12
        }
      ]
    },
    {
      "cell_type": "code",
      "metadata": {
        "id": "0BUKgpBHy46_"
      },
      "source": [
        ""
      ],
      "execution_count": null,
      "outputs": []
    },
    {
      "cell_type": "markdown",
      "metadata": {
        "id": "zgqtf1Lny5VB"
      },
      "source": [
        "# Correction of label-switching using an adequated prior"
      ]
    },
    {
      "cell_type": "code",
      "metadata": {
        "id": "bOu6x52YdYdX"
      },
      "source": [
        "  w = len(np.unique(df['Worker']))\n",
        "  t = len(np.unique(df['Tasca']))\n",
        "  a = len(df['Anotació'])\n",
        "  k = len(np.unique(df['Anotació']))\n",
        "  t_A = np.array(df['Tasca'])+1\n",
        "  w_A = np.array(df['Worker'])+1\n",
        "  ann = np.array(df['Anotació'])+1\n",
        "  tau_prior = np.array([1,1,1])\n",
        "  pi_prior = np.array([[60,20,20],\n",
        "                       [20,60,20],\n",
        "                       [20,20,60]])\n",
        "\n",
        "  dades_sm_gen2 = {'w':w,'t':t,'a':a,'k':k,'t_A':t_A,'w_A':w_A,'ann':ann,'tau_prior':tau_prior,'pi_prior':pi_prior} "
      ],
      "execution_count": null,
      "outputs": []
    },
    {
      "cell_type": "code",
      "metadata": {
        "colab": {
          "base_uri": "https://localhost:8080/"
        },
        "id": "qZMYkBmEzMjg",
        "outputId": "70af8d59-da43-4cdc-8254-c53c10dd8ff9"
      },
      "source": [
        "optim = sm_general.optimizing(data=dades_sm_gen2)\n",
        "optim"
      ],
      "execution_count": null,
      "outputs": [
        {
          "output_type": "execute_result",
          "data": {
            "text/plain": [
              "OrderedDict([('tau', array([0.12325911, 0.27580357, 0.60093733])),\n",
              "             ('pi', array([[[0.68866325, 0.15665411, 0.15468265],\n",
              "                      [0.20038533, 0.61167226, 0.1879424 ],\n",
              "                      [0.16328218, 0.11987177, 0.71684605]],\n",
              "              \n",
              "                     [[0.61810316, 0.17931142, 0.20258541],\n",
              "                      [0.25414819, 0.56647593, 0.17937588],\n",
              "                      [0.14805665, 0.1322035 , 0.71973984]],\n",
              "              \n",
              "                     [[0.61610589, 0.15603146, 0.22786265],\n",
              "                      [0.19593817, 0.61704951, 0.18701232],\n",
              "                      [0.10277023, 0.130757  , 0.76647278]],\n",
              "              \n",
              "                     [[0.6354491 , 0.166029  , 0.1985219 ],\n",
              "                      [0.19173246, 0.63004193, 0.17822561],\n",
              "                      [0.12369436, 0.15493233, 0.72137331]],\n",
              "              \n",
              "                     [[0.58747807, 0.1942002 , 0.21832173],\n",
              "                      [0.20264351, 0.63247961, 0.16487688],\n",
              "                      [0.11146413, 0.14204121, 0.74649466]],\n",
              "              \n",
              "                     [[0.59802865, 0.1666663 , 0.23530505],\n",
              "                      [0.19212312, 0.60158888, 0.206288  ],\n",
              "                      [0.12051554, 0.12102008, 0.75846438]],\n",
              "              \n",
              "                     [[0.61223626, 0.18790403, 0.19985971],\n",
              "                      [0.17233213, 0.61907432, 0.20859355],\n",
              "                      [0.12250571, 0.11549569, 0.76199861]],\n",
              "              \n",
              "                     [[0.63614449, 0.16459929, 0.19925622],\n",
              "                      [0.21801619, 0.58494673, 0.19703708],\n",
              "                      [0.10187832, 0.13335191, 0.76476977]],\n",
              "              \n",
              "                     [[0.6373762 , 0.17952314, 0.18310066],\n",
              "                      [0.18729632, 0.62166326, 0.19104042],\n",
              "                      [0.12605871, 0.10302231, 0.77091898]],\n",
              "              \n",
              "                     [[0.60124458, 0.21303978, 0.18571564],\n",
              "                      [0.22557766, 0.57320836, 0.20121399],\n",
              "                      [0.13328768, 0.12299654, 0.74371578]],\n",
              "              \n",
              "                     [[0.67292726, 0.15312621, 0.17394653],\n",
              "                      [0.18761836, 0.64113769, 0.17124394],\n",
              "                      [0.11941904, 0.14277154, 0.73780942]],\n",
              "              \n",
              "                     [[0.61123797, 0.16457072, 0.22419131],\n",
              "                      [0.19279694, 0.59405251, 0.21315055],\n",
              "                      [0.11637764, 0.13226752, 0.75135484]],\n",
              "              \n",
              "                     [[0.64413519, 0.17859152, 0.17727329],\n",
              "                      [0.19361367, 0.63024688, 0.17613946],\n",
              "                      [0.13161059, 0.12814506, 0.74024435]],\n",
              "              \n",
              "                     [[0.63522744, 0.19313274, 0.17163982],\n",
              "                      [0.19560532, 0.62570065, 0.17869403],\n",
              "                      [0.08434662, 0.12516611, 0.79048727]],\n",
              "              \n",
              "                     [[0.67244107, 0.15783615, 0.16972278],\n",
              "                      [0.18949374, 0.62515444, 0.18535182],\n",
              "                      [0.11939502, 0.10766112, 0.77294386]],\n",
              "              \n",
              "                     [[0.59885763, 0.15804207, 0.2431003 ],\n",
              "                      [0.21767341, 0.61719931, 0.16512728],\n",
              "                      [0.10646104, 0.13366115, 0.75987781]],\n",
              "              \n",
              "                     [[0.63671373, 0.16519484, 0.19809142],\n",
              "                      [0.20274333, 0.63189198, 0.16536469],\n",
              "                      [0.12583124, 0.14087534, 0.73329342]],\n",
              "              \n",
              "                     [[0.64531399, 0.17044626, 0.18423975],\n",
              "                      [0.22391952, 0.57217497, 0.2039055 ],\n",
              "                      [0.12844574, 0.1407323 , 0.73082196]],\n",
              "              \n",
              "                     [[0.6465011 , 0.14326349, 0.21023541],\n",
              "                      [0.20072013, 0.61175447, 0.1875254 ],\n",
              "                      [0.11668079, 0.13271736, 0.75060185]],\n",
              "              \n",
              "                     [[0.63421438, 0.1778738 , 0.18791182],\n",
              "                      [0.21109117, 0.59831867, 0.19059016],\n",
              "                      [0.12582957, 0.12905909, 0.74511134]]])),\n",
              "             ('log_p_t_C', array([[-18.61861197, -17.47043374,  -5.05887912],\n",
              "                     [-10.05187767, -16.00915638, -18.67562281],\n",
              "                     [-17.95266146, -15.44342278,  -8.59860298],\n",
              "                     ...,\n",
              "                     [-18.65183716,  -8.63579508, -18.80626058],\n",
              "                     [-17.50418055, -18.11228178,  -5.23338312],\n",
              "                     [-18.42394691, -17.90217088,  -3.30813385]])),\n",
              "             ('t_C', array([[1.29145869e-06, 4.07125204e-06, 9.99994637e-01],\n",
              "                     [9.97240906e-01, 2.57980461e-03, 1.79289623e-04],\n",
              "                     [8.65135603e-05, 1.06373316e-03, 9.98849753e-01],\n",
              "                     ...,\n",
              "                     [4.46737248e-05, 9.99917045e-01, 3.82813220e-05],\n",
              "                     [4.68659306e-06, 2.55130414e-06, 9.99992762e-01],\n",
              "                     [2.72449165e-07, 4.59081648e-07, 9.99999268e-01]]))])"
            ]
          },
          "metadata": {
            "tags": []
          },
          "execution_count": 19
        }
      ]
    },
    {
      "cell_type": "code",
      "metadata": {
        "id": "As11rO7tz8Og"
      },
      "source": [
        ""
      ],
      "execution_count": null,
      "outputs": []
    }
  ]
}